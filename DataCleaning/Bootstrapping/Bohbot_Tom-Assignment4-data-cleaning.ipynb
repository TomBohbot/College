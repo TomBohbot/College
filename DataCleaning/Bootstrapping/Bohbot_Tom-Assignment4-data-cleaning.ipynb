{
  "nbformat": 4,
  "nbformat_minor": 0,
  "metadata": {
    "colab": {
      "name": "Untitled9.ipynb",
      "provenance": [],
      "collapsed_sections": []
    },
    "kernelspec": {
      "name": "python3",
      "display_name": "Python 3"
    },
    "language_info": {
      "name": "python"
    }
  },
  "cells": [
    {
      "cell_type": "code",
      "metadata": {
        "id": "qTX7bDNQBiRz"
      },
      "source": [
        "# Necessary import statements:\n",
        "import pandas as pd\n",
        "import statsmodels.api as sm\n",
        "import statsmodels.formula.api as smf\n",
        "import numpy as np\n",
        "from numpy import random\n",
        "from sklearn.linear_model import LogisticRegression\n",
        "from scipy.stats import sem"
      ],
      "execution_count": 138,
      "outputs": []
    },
    {
      "cell_type": "code",
      "metadata": {
        "colab": {
          "base_uri": "https://localhost:8080/",
          "height": 138
        },
        "id": "CP9OWZfLCgiu",
        "outputId": "aba7e7e7-6d2e-4916-a86a-e9eab4046755"
      },
      "source": [
        "# read default excel sheet:\n",
        "df = pd.read_excel('Default.xlsx')\n",
        "\n",
        "# output dataset to make sure it is well read:\n",
        "df.head(3)"
      ],
      "execution_count": 139,
      "outputs": [
        {
          "output_type": "execute_result",
          "data": {
            "text/html": [
              "<div>\n",
              "<style scoped>\n",
              "    .dataframe tbody tr th:only-of-type {\n",
              "        vertical-align: middle;\n",
              "    }\n",
              "\n",
              "    .dataframe tbody tr th {\n",
              "        vertical-align: top;\n",
              "    }\n",
              "\n",
              "    .dataframe thead th {\n",
              "        text-align: right;\n",
              "    }\n",
              "</style>\n",
              "<table border=\"1\" class=\"dataframe\">\n",
              "  <thead>\n",
              "    <tr style=\"text-align: right;\">\n",
              "      <th></th>\n",
              "      <th>Unnamed: 0</th>\n",
              "      <th>default</th>\n",
              "      <th>student</th>\n",
              "      <th>balance</th>\n",
              "      <th>income</th>\n",
              "    </tr>\n",
              "  </thead>\n",
              "  <tbody>\n",
              "    <tr>\n",
              "      <th>0</th>\n",
              "      <td>1</td>\n",
              "      <td>No</td>\n",
              "      <td>No</td>\n",
              "      <td>729.526495</td>\n",
              "      <td>44361.625074</td>\n",
              "    </tr>\n",
              "    <tr>\n",
              "      <th>1</th>\n",
              "      <td>2</td>\n",
              "      <td>No</td>\n",
              "      <td>Yes</td>\n",
              "      <td>817.180407</td>\n",
              "      <td>12106.134700</td>\n",
              "    </tr>\n",
              "    <tr>\n",
              "      <th>2</th>\n",
              "      <td>3</td>\n",
              "      <td>No</td>\n",
              "      <td>No</td>\n",
              "      <td>1073.549164</td>\n",
              "      <td>31767.138947</td>\n",
              "    </tr>\n",
              "  </tbody>\n",
              "</table>\n",
              "</div>"
            ],
            "text/plain": [
              "   Unnamed: 0 default student      balance        income\n",
              "0           1      No      No   729.526495  44361.625074\n",
              "1           2      No     Yes   817.180407  12106.134700\n",
              "2           3      No      No  1073.549164  31767.138947"
            ]
          },
          "metadata": {
            "tags": []
          },
          "execution_count": 139
        }
      ]
    },
    {
      "cell_type": "markdown",
      "metadata": {
        "id": "Ac3_EScPCmrJ"
      },
      "source": [
        "# Part A: \n",
        "Perform Multiple Logistic Regression (balance and income) and determine coefficients associated with income and balance"
      ]
    },
    {
      "cell_type": "code",
      "metadata": {
        "colab": {
          "base_uri": "https://localhost:8080/"
        },
        "id": "t15pgLPxChiw",
        "outputId": "cb9b45a3-ddbf-486e-b87d-c1604eb71f5c"
      },
      "source": [
        "# code provided by Dr. Medina:\n",
        "formula = 'default ~ income + balance'\n",
        "sm_model = smf.glm(formula, data=df, family=sm.families.Binomial()).fit()\n",
        "print(sm_model.summary() )\n",
        "\n",
        "print(\"income coef:\", sm_model.params[1] )\n",
        "print(\"balance coef:\", sm_model.params[2] )"
      ],
      "execution_count": 140,
      "outputs": [
        {
          "output_type": "stream",
          "text": [
            "                        Generalized Linear Model Regression Results                        \n",
            "===========================================================================================\n",
            "Dep. Variable:     ['default[No]', 'default[Yes]']   No. Observations:                10000\n",
            "Model:                                         GLM   Df Residuals:                     9997\n",
            "Model Family:                             Binomial   Df Model:                            2\n",
            "Link Function:                               logit   Scale:                          1.0000\n",
            "Method:                                       IRLS   Log-Likelihood:                -789.48\n",
            "Date:                             Wed, 05 May 2021   Deviance:                       1579.0\n",
            "Time:                                     04:07:27   Pearson chi2:                 6.95e+03\n",
            "No. Iterations:                                  9                                         \n",
            "Covariance Type:                         nonrobust                                         \n",
            "==============================================================================\n",
            "                 coef    std err          z      P>|z|      [0.025      0.975]\n",
            "------------------------------------------------------------------------------\n",
            "Intercept     11.5405      0.435     26.544      0.000      10.688      12.393\n",
            "income     -2.081e-05   4.99e-06     -4.174      0.000   -3.06e-05    -1.1e-05\n",
            "balance       -0.0056      0.000    -24.835      0.000      -0.006      -0.005\n",
            "==============================================================================\n",
            "income coef: -2.0808975528986924e-05\n",
            "balance coef: -0.005647102950316491\n"
          ],
          "name": "stdout"
        }
      ]
    },
    {
      "cell_type": "markdown",
      "metadata": {
        "id": "L_xAKcDaqLl3"
      },
      "source": [
        "The estimated standard error for the coefficient associated with income is 4.99e-06.\n",
        "The estimated standard error for the coefficient associated with balance is 0."
      ]
    },
    {
      "cell_type": "markdown",
      "metadata": {
        "id": "nNrUo7EiCpj3"
      },
      "source": [
        "# Part B: \n",
        "Write a function that takes as input the Default data set as well as an index of the observations, and that outputs the coefficient estimates for income and balance in the multiple logistic regression mode"
      ]
    },
    {
      "cell_type": "code",
      "metadata": {
        "id": "SmfEuq6pCrXJ"
      },
      "source": [
        "# part B:\n",
        "def partB(default, indicies):\n",
        "  # create a new data set using the indices provided:\n",
        "  data = default.values\n",
        "  bootstraped_elems = []\n",
        "  for i in range(len(data)):\n",
        "    bootstraped_elems.append(data[indicies[i]])\n",
        "  arr = np.array(bootstraped_elems)\n",
        "\n",
        "  # find the coefficients of the data:\n",
        "  clf = LogisticRegression(random_state=0).fit(arr[:, 3:], arr[:, 1])\n",
        "  return clf.coef_[0]"
      ],
      "execution_count": 141,
      "outputs": []
    },
    {
      "cell_type": "markdown",
      "metadata": {
        "id": "BSVlZG59CtuH"
      },
      "source": [
        "# Part C:\n",
        "Use the random.choice function to perform bootstrapping together with the function you created in (b) to estimate the standard errors of the logistic regression coefficient for income and balance."
      ]
    },
    {
      "cell_type": "code",
      "metadata": {
        "id": "p5zadmn6f7Yz"
      },
      "source": [
        "# store the seperate coefficients here:\n",
        "coefficients = []"
      ],
      "execution_count": 142,
      "outputs": []
    },
    {
      "cell_type": "code",
      "metadata": {
        "colab": {
          "base_uri": "https://localhost:8080/"
        },
        "id": "TXc4Va9hKxU1",
        "outputId": "481db09f-b351-42ab-9160-aa99477e5e7f"
      },
      "source": [
        "# I will bootstrap 100 times:\n",
        "for i in range(100):\n",
        "  # I will use random.choice to bootstrap the indices that I will use. \n",
        "  # However the requirements doc indicates to enter the default set and indices into the function form part b, \n",
        "  # so I will boot strap the actual elements using the indices I \"bootstrap\" here:\n",
        "  size_of_df = len(df.values)\n",
        "  indices = [i for i in range(size_of_df)]\n",
        "  bootstrapped_indices = []\n",
        "  # it must be in range of size of df b/c it the bootstrap must be the same size as original dataset according to lecture.\n",
        "  for i in range(size_of_df):\n",
        "    bootstrapped_indices.append(random.choice(indices))\n",
        "\n",
        "  # convert to np array for simplicity:\n",
        "  bootstrapped_indices = np.array(bootstrapped_indices)\n",
        "  print(bootstrapped_indices) # proof that I am bootstrapping\n",
        "\n",
        "  # invoke the method from part b:\n",
        "  coefficients.append(partB(df, bootstrapped_indices) )"
      ],
      "execution_count": 143,
      "outputs": [
        {
          "output_type": "stream",
          "text": [
            "[9829 7654 4666 ... 8121 5436 9830]\n",
            "[4604 9073 2427 ... 4114 2160 1823]\n",
            "[9258 8728 6831 ... 7786 5098 3489]\n",
            "[ 906 6178 1748 ... 4508 1721 9984]\n",
            "[4771 2605 9143 ... 6956 7667 6425]\n",
            "[ 380   61 8456 ... 3727 9331 2143]\n",
            "[4140 7974 2153 ... 3634 5916 5204]\n",
            "[6350 1404 7123 ... 2815 7365 8468]\n",
            "[4245  235 3459 ... 6696  574 2531]\n",
            "[ 585 6733 2853 ... 1187 5888 9997]\n",
            "[1135 9997 6541 ... 6783 5890 2568]\n",
            "[1292 7560 1914 ... 2538 2325  695]\n",
            "[4548 5074 1982 ... 9611  513 5811]\n",
            "[4527 5285 9732 ... 8901 1392 3004]\n",
            "[3574 2362 6331 ... 6106 7427 1081]\n",
            "[5803  497 6926 ... 4728 7286 3889]\n",
            "[8366  576 5638 ... 8318 6435 2003]\n",
            "[1240 8730 5363 ... 2389 3060 6300]\n",
            "[4529 8776 5616 ... 3105 7081 7299]\n",
            "[4683 6544  902 ... 6275 9343 2241]\n",
            "[9174 5540  144 ... 9708 8697 8214]\n",
            "[5142 3841 1270 ... 4547 3650 6644]\n",
            "[6606 8559 3032 ... 9108 7462 6758]\n",
            "[9958 8839 2523 ... 5350 5650 7647]\n",
            "[3050 6821 9906 ... 9376 9391 5653]\n",
            "[6001 6845  562 ... 8964 8823 2091]\n",
            "[6397 1002 2379 ... 2686 4182 2506]\n",
            "[7700 4774 4541 ... 3545 5234 4798]\n",
            "[1631 2629 2421 ... 7180 2926 9796]\n",
            "[3364  864 5699 ... 9902 8001 2350]\n",
            "[9130 5334 9449 ... 4659 3261  401]\n",
            "[6264 2392 1768 ... 4266   78 4972]\n",
            "[1804 5076  668 ... 2782 8968 4499]\n",
            "[2313 7731  635 ... 8594 9592 2832]\n",
            "[2445 4064 5616 ... 4115 8036 3398]\n",
            "[9307 3724 1555 ... 3060 5354 5200]\n",
            "[8626 4501 1562 ... 4033 6343 3412]\n",
            "[7951 3196 1067 ... 9375 6656 4774]\n",
            "[7038 1868 5692 ... 8663 9471 6709]\n",
            "[9293 9611 4149 ... 1152 1529 9627]\n",
            "[2488 6573 3741 ... 3906 1376 1694]\n",
            "[2564 2659 6691 ... 1680 6670 6684]\n",
            "[8047 6642 7511 ... 3400 1622 2382]\n",
            "[2617 6712 1302 ... 8112 3446 6854]\n",
            "[5708  854 9785 ... 8329 7961 8971]\n",
            "[1458 3986  830 ... 5795 8536 4667]\n",
            "[4873 3405 4873 ... 3796 8182 1988]\n",
            "[7300 2774 1896 ... 9838 2373 5455]\n",
            "[1070 1907 6798 ... 4925 2108 6078]\n",
            "[9593 8844 5243 ... 1952  117 1697]\n",
            "[1120 1319 2537 ... 2046  205 6662]\n",
            "[2094 2857 1206 ... 9347 1498 7291]\n",
            "[6386 2165 7420 ... 5107 4666 5321]\n",
            "[6445 8793 5404 ... 4984 8185 7089]\n",
            "[9159 7555 4077 ... 9589 2782 4813]\n",
            "[9599 1380 3743 ... 3527 3138 5766]\n",
            "[ 208 5369 3600 ... 2174 4250 1324]\n",
            "[ 468 2954 3103 ... 7195 1471 5363]\n",
            "[5540 9713 5008 ... 2252 7777 8307]\n",
            "[5375 6365 7832 ... 8079 3964 3729]\n",
            "[7471  564 3125 ... 2554 6786 6621]\n",
            "[5876 2580 2719 ...  498 1186   73]\n",
            "[6555 1294 5679 ... 2637 4677 9727]\n",
            "[8266 6695 9888 ... 3370 1284 8247]\n",
            "[8446 5552 1229 ... 6816 3902 7127]\n",
            "[7288 7610 7510 ... 6199 6570 1088]\n",
            "[5169 3652 7227 ... 5491 3747 3610]\n",
            "[3614 8114  300 ... 6382 3437 3669]\n",
            "[ 775 5971 2501 ... 2921 6753 5647]\n",
            "[1319 3215 2785 ... 9011 6981 2940]\n",
            "[ 842 3781 7063 ... 7470 5308 5682]\n",
            "[8584 8928 1920 ... 6671 3140 8869]\n",
            "[3116 8273 5598 ... 2719 9333 2501]\n",
            "[7093 3710 3919 ... 7783 9094 8523]\n",
            "[9476 7985 6766 ... 7795 4977 3408]\n",
            "[2747  369 4572 ...  236 2733 7493]\n",
            "[3146 6295 9699 ... 7132 7219 1794]\n",
            "[3371 3912  952 ... 4279 9461 4769]\n",
            "[7426 3655 7361 ... 6038 4730 4067]\n",
            "[5489  342 2729 ... 3449  177  264]\n",
            "[5865 1959 6624 ... 8574 7589 5121]\n",
            "[9102 8764 3736 ... 4029 9761 7170]\n",
            "[1029 5229  856 ... 4116 2269 8164]\n",
            "[4917 9957 9297 ...  875  739 9870]\n",
            "[2615 8015 4585 ... 9346  216 3359]\n",
            "[7537 6921 8329 ... 2015 7069  589]\n",
            "[6219 3172 1778 ...  854 8282 8324]\n",
            "[3992  999 6781 ... 7788 6999 2571]\n",
            "[9615 5831 3283 ... 6039 7095 9712]\n",
            "[3053 5930 9799 ... 9526 4588 4542]\n",
            "[2886 4997 9609 ... 7808 2282 8741]\n",
            "[6876 2273 4405 ... 4489 5583 9693]\n",
            "[4158 4490 1232 ... 2880 6930 6617]\n",
            "[7133 7149 7924 ... 8471 7318  953]\n",
            "[9408 5266 3353 ... 9086 4358 2647]\n",
            "[2421 9631 6918 ... 7164 8074 6886]\n",
            "[9008 2450 8547 ... 9501 8219 2234]\n",
            "[4839 5201  862 ... 5807  697 2643]\n",
            "[6402 4520 1931 ... 9819 2950 9182]\n",
            "[ 251 3022 3187 ... 1554 2254 3606]\n"
          ],
          "name": "stdout"
        }
      ]
    },
    {
      "cell_type": "code",
      "metadata": {
        "colab": {
          "base_uri": "https://localhost:8080/"
        },
        "id": "4dIwOlCChOxx",
        "outputId": "c60a8f38-2fee-4946-af2b-57f856f60ce6"
      },
      "source": [
        "# Display the coefficients I obtained from running part B n times in part C:\n",
        "np_coefficients = np.array(coefficients)\n",
        "print(np_coefficients)\n",
        "print('amount of sets of coeffiecents this array contains', len(np_coefficients), 'samples')"
      ],
      "execution_count": 145,
      "outputs": [
        {
          "output_type": "stream",
          "text": [
            "[[ 6.26227102e-03  2.31728900e-05]\n",
            " [ 4.30410716e-04 -1.27457481e-04]\n",
            " [ 4.28948568e-04 -1.30224630e-04]\n",
            " [ 5.56452755e-03  2.15206765e-05]\n",
            " [ 4.45317892e-04 -1.26148869e-04]\n",
            " [ 3.97926920e-04 -1.24514147e-04]\n",
            " [ 5.42334752e-03  2.30553350e-05]\n",
            " [ 5.77696899e-03  2.41254505e-05]\n",
            " [ 5.24823038e-04 -1.33873842e-04]\n",
            " [ 5.23376120e-03  1.80184406e-05]\n",
            " [ 5.61710444e-03  1.66719203e-05]\n",
            " [ 5.11864975e-04 -1.29198516e-04]\n",
            " [ 4.97581543e-04 -1.28832612e-04]\n",
            " [ 5.49181562e-03  2.28253723e-05]\n",
            " [ 5.61936566e-03  1.76305207e-05]\n",
            " [ 4.86547469e-04 -1.27541891e-04]\n",
            " [ 5.59615242e-03  2.32803595e-05]\n",
            " [ 5.27996759e-04 -1.30937776e-04]\n",
            " [ 5.51727872e-03  1.99088517e-05]\n",
            " [ 5.04666488e-04 -1.34632238e-04]\n",
            " [ 5.44480082e-03  2.55978626e-05]\n",
            " [ 5.40909263e-03  2.16558442e-05]\n",
            " [ 5.39774085e-03  1.69889662e-05]\n",
            " [ 3.41756787e-04 -1.23818243e-04]\n",
            " [ 6.21256223e-03  2.34713547e-05]\n",
            " [ 3.09239950e-04 -1.26359681e-04]\n",
            " [ 5.30091080e-03  2.35472121e-05]\n",
            " [ 5.74905512e-03  2.15365610e-05]\n",
            " [ 3.52019360e-04 -1.21692745e-04]\n",
            " [ 4.26296257e-04 -1.26263238e-04]\n",
            " [ 4.35575005e-04 -1.25586734e-04]\n",
            " [ 5.75561124e-03  2.19039687e-05]\n",
            " [ 3.62760761e-04 -1.29226429e-04]\n",
            " [ 5.08936194e-04 -1.30594397e-04]\n",
            " [ 3.54958826e-04 -1.18017550e-04]\n",
            " [ 5.90925964e-03  2.21764500e-05]\n",
            " [ 5.07883959e-04 -1.26171998e-04]\n",
            " [ 5.86458262e-03  2.02397193e-05]\n",
            " [ 5.38547048e-03  2.38986829e-05]\n",
            " [ 5.36639118e-04 -1.34021192e-04]\n",
            " [ 5.52056059e-03  2.44315221e-05]\n",
            " [ 4.25157468e-04 -1.24097255e-04]\n",
            " [ 5.71185676e-03  1.99053210e-05]\n",
            " [ 5.14129181e-04 -1.31467984e-04]\n",
            " [ 4.57699111e-04 -1.28874886e-04]\n",
            " [ 4.69659926e-04 -1.27009180e-04]\n",
            " [ 5.49831492e-03  1.52826813e-05]\n",
            " [ 5.29584230e-04 -1.32871039e-04]\n",
            " [ 5.21251779e-04 -1.35216075e-04]\n",
            " [ 3.59512688e-04 -1.23783997e-04]\n",
            " [ 4.55411899e-04 -1.30610897e-04]\n",
            " [ 5.55699230e-03  2.79494639e-05]\n",
            " [ 3.78825500e-04 -1.24584094e-04]\n",
            " [ 4.71134282e-04 -1.25942071e-04]\n",
            " [ 4.08754594e-04 -1.23586249e-04]\n",
            " [ 5.89568565e-03  2.17886788e-05]\n",
            " [ 4.17266567e-04 -1.27541768e-04]\n",
            " [ 3.68725774e-04 -1.20770072e-04]\n",
            " [ 5.52445927e-03  2.06591219e-05]\n",
            " [ 3.96138228e-04 -1.22383289e-04]\n",
            " [ 5.84782122e-03  2.86315503e-05]\n",
            " [ 5.65557471e-03  2.26791060e-05]\n",
            " [ 4.39315503e-04 -1.34083995e-04]\n",
            " [ 4.28514186e-04 -1.28221722e-04]\n",
            " [ 5.36263072e-03  1.88169734e-05]\n",
            " [ 5.93431907e-03  1.86480005e-05]\n",
            " [ 5.80496895e-03  2.01166080e-05]\n",
            " [ 4.42805425e-04 -1.25762408e-04]\n",
            " [ 5.94510880e-04 -1.33435520e-04]\n",
            " [ 4.02323522e-04 -1.27748563e-04]\n",
            " [ 5.41189610e-03  2.18802566e-05]\n",
            " [ 5.85651362e-03  1.56929858e-05]\n",
            " [ 5.58798906e-03  2.58215671e-05]\n",
            " [ 5.58614238e-03  2.60854492e-05]\n",
            " [ 5.70362205e-03  1.47985836e-05]\n",
            " [ 5.83524495e-03  2.62490675e-05]\n",
            " [ 5.46728218e-03  1.42181831e-05]\n",
            " [ 5.63645646e-03  2.31962980e-05]\n",
            " [ 4.26441172e-04 -1.28170574e-04]\n",
            " [ 5.42299368e-03  2.39304321e-05]\n",
            " [ 4.46395087e-04 -1.27962861e-04]\n",
            " [ 4.30990714e-04 -1.24994890e-04]\n",
            " [ 5.05869048e-04 -1.27062512e-04]\n",
            " [ 4.40088287e-04 -1.32702849e-04]\n",
            " [ 6.00614582e-03  2.66040799e-05]\n",
            " [ 5.39623065e-03  1.93101270e-05]\n",
            " [ 5.51304896e-03  2.51821403e-05]\n",
            " [ 5.25430336e-03  2.36223312e-05]\n",
            " [ 4.55357689e-04 -1.24726893e-04]\n",
            " [ 4.63681355e-04 -1.26603916e-04]\n",
            " [ 4.93604879e-04 -1.27852559e-04]\n",
            " [ 3.68459829e-04 -1.21596159e-04]\n",
            " [ 3.76541874e-04 -1.20854256e-04]\n",
            " [ 4.17909343e-04 -1.28621729e-04]\n",
            " [ 4.52507504e-04 -1.28231325e-04]\n",
            " [ 5.78125508e-03  2.26408284e-05]\n",
            " [ 5.63227441e-03  2.40993144e-05]\n",
            " [ 5.59583405e-03  2.03902179e-05]\n",
            " [ 3.38830931e-04 -1.24995624e-04]\n",
            " [ 5.49899732e-03  1.80336756e-05]]\n",
            "amount of sets of coeffiecents this array contains 100 samples\n"
          ],
          "name": "stdout"
        }
      ]
    },
    {
      "cell_type": "code",
      "metadata": {
        "colab": {
          "base_uri": "https://localhost:8080/"
        },
        "id": "WSGfUOiNrjBW",
        "outputId": "788ad4b3-762e-4c35-f632-ec7f926abbf2"
      },
      "source": [
        "# Find the standard error of these coefficients:\n",
        "standard_error_of_bootstrapped_coefficients = sem(np_coefficients)\n",
        "print('standard error of bootstrapped coefficients:', standard_error_of_bootstrapped_coefficients)"
      ],
      "execution_count": 147,
      "outputs": [
        {
          "output_type": "stream",
          "text": [
            "standard error of bootstrapped coefficients: [2.60785288e-04 7.49844152e-06]\n"
          ],
          "name": "stdout"
        }
      ]
    },
    {
      "cell_type": "markdown",
      "metadata": {
        "id": "nIzLAVURsFMe"
      },
      "source": [
        "# Part D\n",
        "Comment on the estimated standard errors obtained in (a) and using your bootstrap function (obtained in (c).)"
      ]
    },
    {
      "cell_type": "markdown",
      "metadata": {
        "id": "bS_wsUNOskkr"
      },
      "source": [
        "The standard errors for income and balance from part a are respectively 4.99e-06 and 0 while the standard errors in part c are 2.60785288e-04 and 7.49844152e-06. The standard errors in part a are indeed lower than in part C. However, both sets of standard errors are very small which shows quality in both models.\n",
        "\n"
      ]
    }
  ]
}