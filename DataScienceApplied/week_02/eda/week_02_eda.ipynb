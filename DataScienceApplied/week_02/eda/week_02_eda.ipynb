{
  "nbformat": 4,
  "nbformat_minor": 0,
  "metadata": {
    "colab": {
      "name": "DSA HW 2 EDA.ipynb",
      "provenance": [],
      "collapsed_sections": [
        "Dx_qs7vHFhGU",
        "3SefarCedN-G",
        "pAdAWDgbawci",
        "vMcTp_kyEBYW",
        "ZuBronXebob9",
        "X4Frc364HeSm",
        "H-bZ8BtlAZQm",
        "uuPZc2t4K33n"
      ]
    },
    "kernelspec": {
      "name": "python3",
      "display_name": "Python 3"
    },
    "language_info": {
      "name": "python"
    }
  },
  "cells": [
    {
      "cell_type": "code",
      "metadata": {
        "id": "0UoQWt9xBlfM"
      },
      "source": [
        "# Necessary import statements:\n",
        "import numpy as np\n",
        "import pandas as pd\n",
        "import matplotlib.pyplot as plt\n",
        "import matplotlib as mpl\n",
        "import seaborn as sns"
      ],
      "execution_count": 3,
      "outputs": []
    },
    {
      "cell_type": "code",
      "metadata": {
        "colab": {
          "base_uri": "https://localhost:8080/",
          "height": 225
        },
        "id": "jb09_C9BAWuZ",
        "outputId": "a2270655-1114-4d25-86d8-611e2970674c"
      },
      "source": [
        "df = pd.read_csv('aug_train.csv')\n",
        "df.head()"
      ],
      "execution_count": 4,
      "outputs": [
        {
          "output_type": "execute_result",
          "data": {
            "text/html": [
              "<div>\n",
              "<style scoped>\n",
              "    .dataframe tbody tr th:only-of-type {\n",
              "        vertical-align: middle;\n",
              "    }\n",
              "\n",
              "    .dataframe tbody tr th {\n",
              "        vertical-align: top;\n",
              "    }\n",
              "\n",
              "    .dataframe thead th {\n",
              "        text-align: right;\n",
              "    }\n",
              "</style>\n",
              "<table border=\"1\" class=\"dataframe\">\n",
              "  <thead>\n",
              "    <tr style=\"text-align: right;\">\n",
              "      <th></th>\n",
              "      <th>enrollee_id</th>\n",
              "      <th>city</th>\n",
              "      <th>city_development_index</th>\n",
              "      <th>gender</th>\n",
              "      <th>relevent_experience</th>\n",
              "      <th>enrolled_university</th>\n",
              "      <th>education_level</th>\n",
              "      <th>major_discipline</th>\n",
              "      <th>experience</th>\n",
              "      <th>company_size</th>\n",
              "      <th>company_type</th>\n",
              "      <th>last_new_job</th>\n",
              "      <th>training_hours</th>\n",
              "      <th>target</th>\n",
              "    </tr>\n",
              "  </thead>\n",
              "  <tbody>\n",
              "    <tr>\n",
              "      <th>0</th>\n",
              "      <td>8949</td>\n",
              "      <td>city_103</td>\n",
              "      <td>0.920</td>\n",
              "      <td>Male</td>\n",
              "      <td>Has relevent experience</td>\n",
              "      <td>no_enrollment</td>\n",
              "      <td>Graduate</td>\n",
              "      <td>STEM</td>\n",
              "      <td>&gt;20</td>\n",
              "      <td>NaN</td>\n",
              "      <td>NaN</td>\n",
              "      <td>1</td>\n",
              "      <td>36</td>\n",
              "      <td>1.0</td>\n",
              "    </tr>\n",
              "    <tr>\n",
              "      <th>1</th>\n",
              "      <td>29725</td>\n",
              "      <td>city_40</td>\n",
              "      <td>0.776</td>\n",
              "      <td>Male</td>\n",
              "      <td>No relevent experience</td>\n",
              "      <td>no_enrollment</td>\n",
              "      <td>Graduate</td>\n",
              "      <td>STEM</td>\n",
              "      <td>15</td>\n",
              "      <td>50-99</td>\n",
              "      <td>Pvt Ltd</td>\n",
              "      <td>&gt;4</td>\n",
              "      <td>47</td>\n",
              "      <td>0.0</td>\n",
              "    </tr>\n",
              "    <tr>\n",
              "      <th>2</th>\n",
              "      <td>11561</td>\n",
              "      <td>city_21</td>\n",
              "      <td>0.624</td>\n",
              "      <td>NaN</td>\n",
              "      <td>No relevent experience</td>\n",
              "      <td>Full time course</td>\n",
              "      <td>Graduate</td>\n",
              "      <td>STEM</td>\n",
              "      <td>5</td>\n",
              "      <td>NaN</td>\n",
              "      <td>NaN</td>\n",
              "      <td>never</td>\n",
              "      <td>83</td>\n",
              "      <td>0.0</td>\n",
              "    </tr>\n",
              "    <tr>\n",
              "      <th>3</th>\n",
              "      <td>33241</td>\n",
              "      <td>city_115</td>\n",
              "      <td>0.789</td>\n",
              "      <td>NaN</td>\n",
              "      <td>No relevent experience</td>\n",
              "      <td>NaN</td>\n",
              "      <td>Graduate</td>\n",
              "      <td>Business Degree</td>\n",
              "      <td>&lt;1</td>\n",
              "      <td>NaN</td>\n",
              "      <td>Pvt Ltd</td>\n",
              "      <td>never</td>\n",
              "      <td>52</td>\n",
              "      <td>1.0</td>\n",
              "    </tr>\n",
              "    <tr>\n",
              "      <th>4</th>\n",
              "      <td>666</td>\n",
              "      <td>city_162</td>\n",
              "      <td>0.767</td>\n",
              "      <td>Male</td>\n",
              "      <td>Has relevent experience</td>\n",
              "      <td>no_enrollment</td>\n",
              "      <td>Masters</td>\n",
              "      <td>STEM</td>\n",
              "      <td>&gt;20</td>\n",
              "      <td>50-99</td>\n",
              "      <td>Funded Startup</td>\n",
              "      <td>4</td>\n",
              "      <td>8</td>\n",
              "      <td>0.0</td>\n",
              "    </tr>\n",
              "  </tbody>\n",
              "</table>\n",
              "</div>"
            ],
            "text/plain": [
              "   enrollee_id      city  ...  training_hours target\n",
              "0         8949  city_103  ...              36    1.0\n",
              "1        29725   city_40  ...              47    0.0\n",
              "2        11561   city_21  ...              83    0.0\n",
              "3        33241  city_115  ...              52    1.0\n",
              "4          666  city_162  ...               8    0.0\n",
              "\n",
              "[5 rows x 14 columns]"
            ]
          },
          "metadata": {},
          "execution_count": 4
        }
      ]
    },
    {
      "cell_type": "markdown",
      "metadata": {
        "id": "Dx_qs7vHFhGU"
      },
      "source": [
        "### Percentage of People Looking For New Job"
      ]
    },
    {
      "cell_type": "code",
      "metadata": {
        "colab": {
          "base_uri": "https://localhost:8080/",
          "height": 248
        },
        "id": "T2wHAG5dFla7",
        "outputId": "34c69dac-b5c0-4bbf-cb25-1686ac460294"
      },
      "source": [
        "data = df['target'].value_counts()\n",
        "colors = ['cornflowerblue', 'royalblue', 'lightsteelblue']\n",
        "labels = ['Not Seeking Job', 'Seeking Job']\n",
        "\n",
        "# Plot results:\n",
        "plt.figure('Ratio of People Seeking New Job', figsize=(4,4), facecolor='grey')\n",
        "plt.pie(labels=labels, x=data, colors=colors)\n",
        "plt.show()"
      ],
      "execution_count": 5,
      "outputs": [
        {
          "output_type": "display_data",
          "data": {
            "image/png": "[encoded data removed]",
            "text/plain": [
              "<Figure size 288x288 with 1 Axes>"
            ]
          },
          "metadata": {}
        }
      ]
    },
    {
      "cell_type": "markdown",
      "metadata": {
        "id": "SXu91wafGvAG"
      },
      "source": [
        "There is around 25 percent of people seeking a new job which means that this data will be unbalanced."
      ]
    },
    {
      "cell_type": "markdown",
      "metadata": {
        "id": "3SefarCedN-G"
      },
      "source": [
        "# Missing Values"
      ]
    },
    {
      "cell_type": "code",
      "metadata": {
        "colab": {
          "base_uri": "https://localhost:8080/"
        },
        "id": "pFLk3orBdZXL",
        "outputId": "8b5ac836-3599-4ddd-834a-2a933dd33f7f"
      },
      "source": [
        "print(df.isna().sum() )"
      ],
      "execution_count": 13,
      "outputs": [
        {
          "output_type": "stream",
          "name": "stdout",
          "text": [
            "enrollee_id                  0\n",
            "city                         0\n",
            "city_development_index       0\n",
            "gender                    4508\n",
            "relevent_experience          0\n",
            "enrolled_university        386\n",
            "education_level            460\n",
            "major_discipline          2813\n",
            "experience                  65\n",
            "company_size              5938\n",
            "company_type              6140\n",
            "last_new_job               423\n",
            "training_hours               0\n",
            "target                       0\n",
            "dtype: int64\n"
          ]
        }
      ]
    },
    {
      "cell_type": "markdown",
      "metadata": {
        "id": "5bS_EjO_de-f"
      },
      "source": [
        "Here we can see that gender, enrolled_universtiy, education_level, major_discipline, experience, company_size, comapny_type, and last_new_job have missing data. This will have to be dealt with when we implement the machine learning model in the scripts CleanData.py file. For now we will just remark its influence in that data set."
      ]
    },
    {
      "cell_type": "markdown",
      "metadata": {
        "id": "pAdAWDgbawci"
      },
      "source": [
        "# Enrollee ID"
      ]
    },
    {
      "cell_type": "markdown",
      "metadata": {
        "id": "t7HEtgXNazMr"
      },
      "source": [
        "Since Enrollee ID is just a unique identifier for each person it will have to impact on the model. This column can be removed when it comes time to making the machine learning model."
      ]
    },
    {
      "cell_type": "markdown",
      "metadata": {
        "id": "Voten9odbHJo"
      },
      "source": [
        "# City"
      ]
    },
    {
      "cell_type": "code",
      "metadata": {
        "colab": {
          "base_uri": "https://localhost:8080/"
        },
        "id": "S-RAb5YBbJVm",
        "outputId": "ffc67406-1b44-453c-81c8-7a005489a5c2"
      },
      "source": [
        "# How many cities are in the data set:\n",
        "unique_cities = df['city'].nunique()\n",
        "print(\"Number of unique cities is:\", unique_cities)\n",
        "print(\"percentage of unique cities in proportion to total people in data is:\", (unique_cities/len(df))*100, \"percent.\")"
      ],
      "execution_count": 5,
      "outputs": [
        {
          "output_type": "stream",
          "name": "stdout",
          "text": [
            "Number of unique cities is: 123\n",
            "percentage of unique cities in proportion to total people in data is: 0.6420294393986846 percent.\n"
          ]
        }
      ]
    },
    {
      "cell_type": "code",
      "metadata": {
        "colab": {
          "base_uri": "https://localhost:8080/",
          "height": 265
        },
        "id": "IRLLjQl1fIX4",
        "outputId": "042b958b-bed6-4d35-abb8-1a97b4131afb"
      },
      "source": [
        "# Population per City for top 10 cities:\n",
        "df['city'].value_counts()[:10].plot(kind='pie')"
      ],
      "execution_count": 16,
      "outputs": [
        {
          "output_type": "execute_result",
          "data": {
            "text/plain": [
              "<matplotlib.axes._subplots.AxesSubplot at 0x7f10eb3209d0>"
            ]
          },
          "metadata": {},
          "execution_count": 16
        },
        {
          "output_type": "display_data",
          "data": {
            "image/png": "[encoded data removed]",
            "text/plain": [
              "<Figure size 432x288 with 1 Axes>"
            ]
          },
          "metadata": {}
        }
      ]
    },
    {
      "cell_type": "code",
      "metadata": {
        "colab": {
          "base_uri": "https://localhost:8080/",
          "height": 297
        },
        "id": "2rL5S3RmhKvF",
        "outputId": "7fece8f8-6f70-4b29-9186-3c3ff972cf56"
      },
      "source": [
        "sns.countplot(data=df, x = 'city', hue='target', palette='Blues', order=df.city.value_counts().iloc[:8].index)"
      ],
      "execution_count": 20,
      "outputs": [
        {
          "output_type": "execute_result",
          "data": {
            "text/plain": [
              "<matplotlib.axes._subplots.AxesSubplot at 0x7f10eb134750>"
            ]
          },
          "metadata": {},
          "execution_count": 20
        },
        {
          "output_type": "display_data",
          "data": {
            "image/png": "[encoded data removed]",
            "text/plain": [
              "<Figure size 432x288 with 1 Axes>"
            ]
          },
          "metadata": {
            "needs_background": "light"
          }
        }
      ]
    },
    {
      "cell_type": "markdown",
      "metadata": {
        "id": "bFm4riwEjUpy"
      },
      "source": [
        "Analysis of City Feature:\n",
        "We can see that each of the top 10 populated cities of the data set have different proprtions of people seeking(1.0) versus not seeking(0.0) a new job. It is very likely that this feature will be very important when it comes to training the model as it is very distinguishing and the city where you come from can help determine if one seeks a new job."
      ]
    },
    {
      "cell_type": "markdown",
      "metadata": {
        "id": "vMcTp_kyEBYW"
      },
      "source": [
        "# City Development Index Feature Importance"
      ]
    },
    {
      "cell_type": "code",
      "metadata": {
        "colab": {
          "base_uri": "https://localhost:8080/",
          "height": 297
        },
        "id": "5tQrkbSFEHB0",
        "outputId": "353e41af-3e7b-47af-c25b-b441a29eafda"
      },
      "source": [
        "sns.countplot(data=df, x = 'city_development_index', hue='target', palette='Blues', order=df.city_development_index.value_counts().iloc[:8].index)"
      ],
      "execution_count": 23,
      "outputs": [
        {
          "output_type": "execute_result",
          "data": {
            "text/plain": [
              "<matplotlib.axes._subplots.AxesSubplot at 0x7f10eaf5b290>"
            ]
          },
          "metadata": {},
          "execution_count": 23
        },
        {
          "output_type": "display_data",
          "data": {
            "image/png": "[encoded data removed]",
            "text/plain": [
              "<Figure size 432x288 with 1 Axes>"
            ]
          },
          "metadata": {
            "needs_background": "light"
          }
        }
      ]
    },
    {
      "cell_type": "markdown",
      "metadata": {
        "id": "cktEsWg1kNdz"
      },
      "source": [
        "We can see that each city index even if this is just the top 10 most frequent are each very unique from one another. Due to this, I believe that this feature will be very influential for the model training."
      ]
    },
    {
      "cell_type": "markdown",
      "metadata": {
        "id": "ZuBronXebob9"
      },
      "source": [
        "# Gender"
      ]
    },
    {
      "cell_type": "markdown",
      "metadata": {
        "id": "X4Frc364HeSm"
      },
      "source": [
        "###Men Vs. Women Seeking Job"
      ]
    },
    {
      "cell_type": "code",
      "metadata": {
        "colab": {
          "base_uri": "https://localhost:8080/",
          "height": 248
        },
        "id": "eDY0Dk-G_047",
        "outputId": "e2511261-e765-4145-c2e8-c4845c0f92c3"
      },
      "source": [
        "# Males Desired:\n",
        "males = df[df[\"gender\"] == 'Male']\n",
        "desired_males = males[males[\"target\"] == 1.0]\n",
        "num_desired_males = desired_males.shape[0]\n",
        "\n",
        "# Females Desired:\n",
        "females = df[df[\"gender\"] == 'Female']\n",
        "desired_females = females[females[\"target\"] == 1.0]\n",
        "num_desired_females = desired_females.shape[0]\n",
        "\n",
        "# Unknown Genders Desired:\n",
        "unknown_gender = df[df[\"gender\"].isnull()]\n",
        "desired_unknown_genders = unknown_gender[unknown_gender[\"target\"] == 1.0]\n",
        "num_desired_unknown_genders = desired_unknown_genders.shape[0]\n",
        "\n",
        "# Results:\n",
        "genders = ['males', 'females', 'unknown']\n",
        "colors = ['cornflowerblue', 'royalblue', 'lightsteelblue']\n",
        "desired_genders = [num_desired_males, num_desired_females, num_desired_unknown_genders]\n",
        "\n",
        "# Plot results:\n",
        "plt.figure('Ratio of Genders Desired By Recruiters', figsize=(4,4), facecolor='grey')\n",
        "plt.pie(labels=genders, x=desired_genders, colors=colors)\n",
        "plt.show()"
      ],
      "execution_count": 5,
      "outputs": [
        {
          "output_type": "display_data",
          "data": {
            "image/png": "[encoded data removed]",
            "text/plain": [
              "<Figure size 288x288 with 1 Axes>"
            ]
          },
          "metadata": {}
        }
      ]
    },
    {
      "cell_type": "markdown",
      "metadata": {
        "id": "106meKYkI46f"
      },
      "source": [
        "### Proportion of Men Seeking Job versus Man Not Seeking Job\n",
        "\n"
      ]
    },
    {
      "cell_type": "code",
      "metadata": {
        "colab": {
          "base_uri": "https://localhost:8080/",
          "height": 248
        },
        "id": "UYw1seYJI_8x",
        "outputId": "8e62737e-3cfa-4f3c-f943-3e22749b343d"
      },
      "source": [
        "males = df[df[\"gender\"] == 'Male']\n",
        "\n",
        "# Males Desired:\n",
        "desired_males = males[males[\"target\"] == 1.0]\n",
        "num_desired_males = desired_males.shape[0]\n",
        "\n",
        "# Males Not Desired:\n",
        "undesired_males = males[males[\"target\"] == 0.0]\n",
        "num_undesired_males = undesired_males.shape[0]\n",
        "\n",
        "# Results\n",
        "data = [num_desired_males, num_undesired_males]\n",
        "labels = ['Males Seeking Job', 'Males Not Seeking Job']\n",
        "colors = ['cornflowerblue', 'royalblue']\n",
        "\n",
        "# Plot results:\n",
        "plt.figure('Ratio of Men Desired to Women Men', figsize=(4,4), facecolor='grey')\n",
        "plt.pie(x=data, labels=labels, colors=colors)\n",
        "plt.show()"
      ],
      "execution_count": 6,
      "outputs": [
        {
          "output_type": "display_data",
          "data": {
            "image/png": "[encoded data removed]",
            "text/plain": [
              "<Figure size 288x288 with 1 Axes>"
            ]
          },
          "metadata": {}
        }
      ]
    },
    {
      "cell_type": "markdown",
      "metadata": {
        "id": "TsW8OvxUJo_u"
      },
      "source": [
        "### Proportion of Woman Seeking Job versus Woman Not Seeking Job \n"
      ]
    },
    {
      "cell_type": "code",
      "metadata": {
        "colab": {
          "base_uri": "https://localhost:8080/",
          "height": 248
        },
        "id": "0quGD9qfJsd5",
        "outputId": "e483793b-a424-4478-9114-002a93b7170c"
      },
      "source": [
        "women = df[df[\"gender\"] == 'Female']\n",
        "\n",
        "# Women Desired:\n",
        "desired_women = women[women[\"target\"] == 1.0]\n",
        "num_desired_women = desired_women.shape[0]\n",
        "\n",
        "# Women Not Desired:\n",
        "undesired_women = women[women[\"target\"] == 0.0]\n",
        "num_undesired_women = undesired_women.shape[0]\n",
        "\n",
        "# Results\n",
        "data = [num_desired_women, num_undesired_women]\n",
        "labels = ['Women Seeking Job', 'Women Not Seeking Job']\n",
        "colors = ['cornflowerblue', 'royalblue']\n",
        "\n",
        "# Plot results:\n",
        "plt.figure('Ratio of Women Desired to Women Undesired', figsize=(4,4), facecolor='grey')\n",
        "plt.pie(x=data, labels=labels, colors=colors)\n",
        "plt.show()"
      ],
      "execution_count": 7,
      "outputs": [
        {
          "output_type": "display_data",
          "data": {
            "image/png": "[encoded data removed]",
            "text/plain": [
              "<Figure size 288x288 with 1 Axes>"
            ]
          },
          "metadata": {}
        }
      ]
    },
    {
      "cell_type": "markdown",
      "metadata": {
        "id": "H-bZ8BtlAZQm"
      },
      "source": [
        "### Analysis Of Male Vs. Female Data"
      ]
    },
    {
      "cell_type": "markdown",
      "metadata": {
        "id": "7ry720_9AhaA"
      },
      "source": [
        "There are many more men labelled in the data compared to woman, but the percentage of men seeking jobs and women seeking jobs are very similar when compared to their respective gender. This could mean that the data here is not as important for the model as it does not show that being a male or female makes one more likely to leave their job."
      ]
    },
    {
      "cell_type": "markdown",
      "metadata": {
        "id": "uuPZc2t4K33n"
      },
      "source": [
        "# Relevant Experience"
      ]
    },
    {
      "cell_type": "code",
      "metadata": {
        "colab": {
          "base_uri": "https://localhost:8080/",
          "height": 248
        },
        "id": "qWrzxEAS1lKb",
        "outputId": "12e89347-9fc4-4b7b-824e-992a3461871e"
      },
      "source": [
        "# People with Relative Experience:\n",
        "rel_exp = df[df[\"relevent_experience\"] == 'Has relevent experience']\n",
        "desired_rel_exp = rel_exp[rel_exp[\"target\"] == 1.0]\n",
        "num_desired_rel_exp = desired_rel_exp.shape[0]\n",
        "\n",
        "# People without Relative Experience:\n",
        "no_exp = df[df[\"relevent_experience\"] == 'No relevent experience']\n",
        "desired_no_exp = no_exp[no_exp[\"target\"] == 1.0]\n",
        "num_desired_no_exp = desired_no_exp.shape[0]\n",
        "\n",
        "# Unknown Experience:\n",
        "unknown_exp = df[df[\"relevent_experience\"].isnull()]\n",
        "desired_unknown_exp = unknown_exp[unknown_exp[\"target\"] == 1.0]\n",
        "num_desired_unknown_exp = desired_unknown_exp.shape[0]\n",
        "\n",
        "# Results\n",
        "data = [num_desired_rel_exp, num_desired_no_exp, num_desired_unknown_exp]\n",
        "labels = ['Seeking Job W/ Exp.', 'Seeking Job w/o Exp.', 'Unkown Experience']\n",
        "colors = ['cornflowerblue', 'royalblue', 'lightsteelblue']\n",
        "\n",
        "# Plot results:\n",
        "plt.figure('Ratio of People Desired with Relative Experience vs. No Relative Experience', figsize=(4,4), facecolor='grey')\n",
        "plt.pie(x=data, labels=labels, colors=colors)\n",
        "plt.show()\n"
      ],
      "execution_count": 8,
      "outputs": [
        {
          "output_type": "display_data",
          "data": {
            "image/png": "[encoded data removed]",
            "text/plain": [
              "<Figure size 288x288 with 1 Axes>"
            ]
          },
          "metadata": {}
        }
      ]
    },
    {
      "cell_type": "code",
      "metadata": {
        "colab": {
          "base_uri": "https://localhost:8080/",
          "height": 297
        },
        "id": "Hkn8j9m0kls0",
        "outputId": "91a1e542-8892-4816-fe4a-87e2bf637898"
      },
      "source": [
        "# Relative Experience to Target Values\n",
        "sns.countplot(data=df, x = 'relevent_experience', hue='target', palette='Blues')"
      ],
      "execution_count": 30,
      "outputs": [
        {
          "output_type": "execute_result",
          "data": {
            "text/plain": [
              "<matplotlib.axes._subplots.AxesSubplot at 0x7f10eac10190>"
            ]
          },
          "metadata": {},
          "execution_count": 30
        },
        {
          "output_type": "display_data",
          "data": {
            "image/png": "[encoded data removed]",
            "text/plain": [
              "<Figure size 432x288 with 1 Axes>"
            ]
          },
          "metadata": {
            "needs_background": "light"
          }
        }
      ]
    },
    {
      "cell_type": "markdown",
      "metadata": {
        "id": "IHvQyPLym1fS"
      },
      "source": [
        "Analysis:\n",
        "We can see here that both have more people that are not seeking a new job. However, the proportion of people wanting a new job with relevant experience is about %25 while no experience is about %50. With that info, it could mean that people with no experience are more likely to want a new job, so this feature may be of some importantce when training the moedl."
      ]
    },
    {
      "cell_type": "markdown",
      "metadata": {
        "id": "EqTbTvCSnStv"
      },
      "source": [
        "# Enrolled in University"
      ]
    },
    {
      "cell_type": "code",
      "metadata": {
        "colab": {
          "base_uri": "https://localhost:8080/",
          "height": 298
        },
        "id": "U756K7-QnWRg",
        "outputId": "44921f0a-c357-410a-ee4c-023ae5306c71"
      },
      "source": [
        "# Relative Experience to Target Values\n",
        "sns.countplot(data=df, x = 'enrolled_university', hue='target', palette='Blues')"
      ],
      "execution_count": 29,
      "outputs": [
        {
          "output_type": "execute_result",
          "data": {
            "text/plain": [
              "<matplotlib.axes._subplots.AxesSubplot at 0x7f10eac88d90>"
            ]
          },
          "metadata": {},
          "execution_count": 29
        },
        {
          "output_type": "display_data",
          "data": {
            "image/png": "[encoded data removed]",
            "text/plain": [
              "<Figure size 432x288 with 1 Axes>"
            ]
          },
          "metadata": {
            "needs_background": "light"
          }
        }
      ]
    },
    {
      "cell_type": "markdown",
      "metadata": {
        "id": "9hLPgZfznZdi"
      },
      "source": [
        "Here we can see that each of the categories again have more people not seeking job. However, we see here that people enrolled in studies are more likely to be seeking a job then no enrollment. This makes sense as they are probably students, and students are constantly seeking entry-level jobs. This feature is probable to have a strong correlation with experience and probably low experience in particular."
      ]
    },
    {
      "cell_type": "markdown",
      "metadata": {
        "id": "op9q09hnoBga"
      },
      "source": [
        "# Education Level"
      ]
    },
    {
      "cell_type": "code",
      "metadata": {
        "colab": {
          "base_uri": "https://localhost:8080/",
          "height": 297
        },
        "id": "5Jf_c1K2oFJp",
        "outputId": "14b493d2-6ade-40bc-946a-cf10732ec003"
      },
      "source": [
        "sns.countplot(data=df, x = 'education_level', hue='target', palette='Blues')"
      ],
      "execution_count": 28,
      "outputs": [
        {
          "output_type": "execute_result",
          "data": {
            "text/plain": [
              "<matplotlib.axes._subplots.AxesSubplot at 0x7f10eacbe290>"
            ]
          },
          "metadata": {},
          "execution_count": 28
        },
        {
          "output_type": "display_data",
          "data": {
            "image/png": "[encoded data removed]",
            "text/plain": [
              "<Figure size 432x288 with 1 Axes>"
            ]
          },
          "metadata": {
            "needs_background": "light"
          }
        }
      ]
    },
    {
      "cell_type": "markdown",
      "metadata": {
        "id": "oQNF4mD8oM1V"
      },
      "source": [
        "Here we see that the most proprtions are quite similar for each education level. There seems to be no distinguishing characteristic, so I believe that this feature will not be necessary for the model."
      ]
    },
    {
      "cell_type": "markdown",
      "metadata": {
        "id": "9obC3AYQpiaT"
      },
      "source": [
        "# Major Discipline"
      ]
    },
    {
      "cell_type": "code",
      "metadata": {
        "colab": {
          "base_uri": "https://localhost:8080/",
          "height": 297
        },
        "id": "FIW7vJJLpd5w",
        "outputId": "aeb624aa-df1e-43d4-8712-3984286f32fd"
      },
      "source": [
        "sns.countplot(data=df, x = 'major_discipline', hue='target', palette='Blues')"
      ],
      "execution_count": 31,
      "outputs": [
        {
          "output_type": "execute_result",
          "data": {
            "text/plain": [
              "<matplotlib.axes._subplots.AxesSubplot at 0x7f10eabc8390>"
            ]
          },
          "metadata": {},
          "execution_count": 31
        },
        {
          "output_type": "display_data",
          "data": {
            "image/png": "[encoded data removed]",
            "text/plain": [
              "<Figure size 432x288 with 1 Axes>"
            ]
          },
          "metadata": {
            "needs_background": "light"
          }
        }
      ]
    },
    {
      "cell_type": "markdown",
      "metadata": {
        "id": "QAYC9K2gputC"
      },
      "source": [
        "Analysis: \n",
        "Here we see that that STEM is the dominating major which is normal as Comp Sci and Mathematics are some of the most common majors for Data Science. I do not believe that this category will be very influential as all the other majors are so minute and follow the same trend as STEM anyways."
      ]
    },
    {
      "cell_type": "markdown",
      "metadata": {
        "id": "g62HeCIHqMKz"
      },
      "source": [
        "# Experience"
      ]
    },
    {
      "cell_type": "code",
      "metadata": {
        "colab": {
          "base_uri": "https://localhost:8080/",
          "height": 296
        },
        "id": "82gSMB3_qP4a",
        "outputId": "2c781ec2-c08b-435f-dddf-2074b7e72210"
      },
      "source": [
        "sns.countplot(data=df, x = 'experience', hue='target', palette='Blues')"
      ],
      "execution_count": 32,
      "outputs": [
        {
          "output_type": "execute_result",
          "data": {
            "text/plain": [
              "<matplotlib.axes._subplots.AxesSubplot at 0x7f10eab06490>"
            ]
          },
          "metadata": {},
          "execution_count": 32
        },
        {
          "output_type": "display_data",
          "data": {
            "image/png": "[encoded data removed]",
            "text/plain": [
              "<Figure size 432x288 with 1 Axes>"
            ]
          },
          "metadata": {
            "needs_background": "light"
          }
        }
      ]
    },
    {
      "cell_type": "markdown",
      "metadata": {
        "id": "qhPmgh4ZqZkB"
      },
      "source": [
        "This category does not seem to be very important as they all seem to follow same proportions."
      ]
    },
    {
      "cell_type": "markdown",
      "metadata": {
        "id": "XKLf9Pgzqg09"
      },
      "source": [
        "# Company Size"
      ]
    },
    {
      "cell_type": "code",
      "metadata": {
        "colab": {
          "base_uri": "https://localhost:8080/",
          "height": 297
        },
        "id": "v3DY21iuqkpe",
        "outputId": "b4553d21-b762-411b-a13a-47dca76ef3ec"
      },
      "source": [
        "sns.countplot(data=df, x = 'company_size', hue='target', palette='Blues')"
      ],
      "execution_count": 33,
      "outputs": [
        {
          "output_type": "execute_result",
          "data": {
            "text/plain": [
              "<matplotlib.axes._subplots.AxesSubplot at 0x7f10ea9fb190>"
            ]
          },
          "metadata": {},
          "execution_count": 33
        },
        {
          "output_type": "display_data",
          "data": {
            "image/png": "[encoded data removed]",
            "text/plain": [
              "<Figure size 432x288 with 1 Axes>"
            ]
          },
          "metadata": {
            "needs_background": "light"
          }
        }
      ]
    },
    {
      "cell_type": "markdown",
      "metadata": {
        "id": "hoiMDcW2qrKP"
      },
      "source": [
        "This category does not seem to be very important as they all seem to follow same proportions.\n"
      ]
    },
    {
      "cell_type": "markdown",
      "metadata": {
        "id": "zYybrePVqyAn"
      },
      "source": [
        "# Company Type"
      ]
    },
    {
      "cell_type": "code",
      "metadata": {
        "colab": {
          "base_uri": "https://localhost:8080/",
          "height": 297
        },
        "id": "iSTiQyNPq0Ok",
        "outputId": "57e4f534-73a7-43c4-92e0-094fa234aed3"
      },
      "source": [
        "sns.countplot(data=df, x = 'company_type', hue='target', palette='Blues')"
      ],
      "execution_count": 34,
      "outputs": [
        {
          "output_type": "execute_result",
          "data": {
            "text/plain": [
              "<matplotlib.axes._subplots.AxesSubplot at 0x7f10eb0e2850>"
            ]
          },
          "metadata": {},
          "execution_count": 34
        },
        {
          "output_type": "display_data",
          "data": {
            "image/png": "[encoded data removed]",
            "text/plain": [
              "<Figure size 432x288 with 1 Axes>"
            ]
          },
          "metadata": {
            "needs_background": "light"
          }
        }
      ]
    },
    {
      "cell_type": "markdown",
      "metadata": {
        "id": "5blTzBhrq6YO"
      },
      "source": [
        "This category does not seem to be very important as they all seem to follow same proportions.\n"
      ]
    },
    {
      "cell_type": "markdown",
      "metadata": {
        "id": "siF04DnAq_7B"
      },
      "source": [
        "# Last New Job"
      ]
    },
    {
      "cell_type": "code",
      "metadata": {
        "colab": {
          "base_uri": "https://localhost:8080/",
          "height": 297
        },
        "id": "lj5kAViMrBDf",
        "outputId": "e372d0f6-d39d-4d00-c6dd-678d6a40b679"
      },
      "source": [
        "sns.countplot(data=df, x = 'last_new_job', hue='target', palette='Blues')"
      ],
      "execution_count": 35,
      "outputs": [
        {
          "output_type": "execute_result",
          "data": {
            "text/plain": [
              "<matplotlib.axes._subplots.AxesSubplot at 0x7f10eb537610>"
            ]
          },
          "metadata": {},
          "execution_count": 35
        },
        {
          "output_type": "display_data",
          "data": {
            "image/png": "[encoded data removed]",
            "text/plain": [
              "<Figure size 432x288 with 1 Axes>"
            ]
          },
          "metadata": {
            "needs_background": "light"
          }
        }
      ]
    },
    {
      "cell_type": "markdown",
      "metadata": {
        "id": "t0M7yI5zrGaC"
      },
      "source": [
        "This category does not seem to be very important as they all seem to follow same proportions.\n"
      ]
    },
    {
      "cell_type": "markdown",
      "metadata": {
        "id": "60io7moLrJqf"
      },
      "source": [
        "# Training Hours"
      ]
    },
    {
      "cell_type": "code",
      "metadata": {
        "colab": {
          "base_uri": "https://localhost:8080/",
          "height": 297
        },
        "id": "umSFqt9QrLIL",
        "outputId": "2bbfc5f0-ed2b-4a4d-c0cf-50785e7f56bb"
      },
      "source": [
        "sns.countplot(data=df, x = 'training_hours', hue='target', palette='Blues', order=df.training_hours.value_counts().iloc[:8].index)"
      ],
      "execution_count": 39,
      "outputs": [
        {
          "output_type": "execute_result",
          "data": {
            "text/plain": [
              "<matplotlib.axes._subplots.AxesSubplot at 0x7f10ea798690>"
            ]
          },
          "metadata": {},
          "execution_count": 39
        },
        {
          "output_type": "display_data",
          "data": {
            "image/png": "[encoded data removed]",
            "text/plain": [
              "<Figure size 432x288 with 1 Axes>"
            ]
          },
          "metadata": {
            "needs_background": "light"
          }
        }
      ]
    },
    {
      "cell_type": "markdown",
      "metadata": {
        "id": "pGX2QS5yraTM"
      },
      "source": [
        "This category does not seem to be very important as they all seem to follow same proportions.\n"
      ]
    }
  ]
}