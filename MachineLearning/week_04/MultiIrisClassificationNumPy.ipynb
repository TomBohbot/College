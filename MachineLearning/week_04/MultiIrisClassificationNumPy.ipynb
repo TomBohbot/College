{
  "nbformat": 4,
  "nbformat_minor": 0,
  "metadata": {
    "colab": {
      "name": "MultiIrisClassificationNumPy.ipynb",
      "provenance": [],
      "collapsed_sections": []
    },
    "kernelspec": {
      "name": "python3",
      "display_name": "Python 3"
    }
  },
  "cells": [
    {
      "cell_type": "code",
      "metadata": {
        "id": "3STmiK4y48LN"
      },
      "source": [
        "# Necessary import statements\n",
        "import numpy as np\n",
        "import matplotlib.pyplot as plt\n",
        "from sklearn import datasets"
      ],
      "execution_count": 260,
      "outputs": []
    },
    {
      "cell_type": "code",
      "metadata": {
        "id": "sEdLBcA72ZdS"
      },
      "source": [
        "# Necessary variables and helper functions:\n",
        "LEARNING_RATE = 0.08\n",
        "NUM_EPOCHS = 200\n",
        "\n",
        "def get_loss(y, a):\n",
        "  return -1 * np.sum(y * np.log(a))\n",
        "\n",
        "def get_loss_numerically_stable(y, z):\n",
        "   return -1 * np.sum(y * (z + (-z.max() - np.log(np.sum(np.exp(z-z.max()))))))\n",
        "\n",
        "def get_gradients(x, z, a, y):\n",
        "  da = (-y / a)\n",
        "  matrix = np.matmul(a, np.ones((1, 3))) * (np.identity(3) - np.matmul(np.ones((3, 1)), a.T))\n",
        "  dz = np.matmul(matrix, da)\n",
        "  dW = dz * x.T\n",
        "  db = dz.copy()\n",
        "  return dz, dW, db\n",
        "\n",
        "def gradient_descent(W, b, dW, db, learning_rate):\n",
        "  W = W - learning_rate * dW\n",
        "  b = b - learning_rate * db\n",
        "  return W, b"
      ],
      "execution_count": 278,
      "outputs": []
    },
    {
      "cell_type": "code",
      "metadata": {
        "id": "nuOaZ4JA5dhQ"
      },
      "source": [
        "# Necessary softmax functions:\n",
        "def stable_softmax(z):\n",
        "  # z is 3 x 1\n",
        "  a = np.exp(z - max(z)) / np.sum(np.exp(z - max(z)))\n",
        "  # a is 3 x 1\n",
        "  return a\n",
        "\n",
        "def forward_propagate(x, W, b):\n",
        "  # W is 3 x 2\n",
        "  # x is 2 x 1\n",
        "  # b is 3 x 1\n",
        "  z = np.matmul(W, x) + b\n",
        "  a = stable_softmax(z)\n",
        "  # z is 3 x 1\n",
        "  # a is 3 x 1\n",
        "  return z, a"
      ],
      "execution_count": 262,
      "outputs": []
    },
    {
      "cell_type": "code",
      "metadata": {
        "id": "8e_TQynY3S18"
      },
      "source": [
        "def plot_loss(L_cache):\n",
        "  plt.grid()\n",
        "  plt.title('Loss', size=18)\n",
        "  plt.xlabel('Number of iterations', size=15)\n",
        "  plt.ylabel('Loss', size=15)\n",
        "  plt.ylim([0, max(L_cache) * 1.1])\n",
        "  plt.plot(L_cache)\n",
        "  plt.show()"
      ],
      "execution_count": 263,
      "outputs": []
    },
    {
      "cell_type": "code",
      "metadata": {
        "id": "PmAxzUKP2qWc"
      },
      "source": [
        "def multi_classifier(X, Y):\n",
        "  # random initialization\n",
        "  W_initial = np.random.rand(3, 2)\n",
        "  W = W_initial.copy()\n",
        "  b = np.zeros((3, 1))\n",
        "  W_cache = []\n",
        "  b_cache = []\n",
        "  L_cache = []\n",
        "  for i in range(NUM_EPOCHS):\n",
        "    dW = np.zeros(W.shape)\n",
        "    db = np.zeros(b.shape)\n",
        "    L = 0\n",
        "    for j in range(X.shape[0]):\n",
        "      x_j = X[j,:].reshape(2,1)\n",
        "      y_j = Y[j,:].reshape(3,1)\n",
        "      # print(y_j)\n",
        "      z_j, a_j = forward_propagate(x_j, W, b)\n",
        "      loss_j = get_loss_numerically_stable(y_j, z_j)\n",
        "      dZ_j, dW_j, db_j = get_gradients(x_j, z_j, a_j, y_j)\n",
        "      dW += dW_j\n",
        "      db += db_j\n",
        "      L += loss_j\n",
        "    # Find real datasize instead of 20:\n",
        "    size = len(y)\n",
        "    dW *= (1.0/size)\n",
        "    db *= (1.0/size)\n",
        "    L *= (1.0/size)\n",
        "    W, b = gradient_descent(W, b, dW, db, LEARNING_RATE)\n",
        "    W_cache.append(W)\n",
        "    b_cache.append(b)\n",
        "    L_cache.append(L)\n",
        "  plot_loss(L_cache)\n"
      ],
      "execution_count": 264,
      "outputs": []
    },
    {
      "cell_type": "code",
      "metadata": {
        "id": "dVVfGLze53pC"
      },
      "source": [
        "# Get the Iris Data Set:\n",
        "def get_iris_dataset():\n",
        "  iris = datasets.load_iris()\n",
        "  X = np.array(iris.data[:,:2] )\n",
        "  y = np.array(iris.target)[:]\n",
        "  Y = np.eye(3)[y]\n",
        "  return [X,Y]"
      ],
      "execution_count": 265,
      "outputs": []
    },
    {
      "cell_type": "code",
      "metadata": {
        "colab": {
          "base_uri": "https://localhost:8080/",
          "height": 304
        },
        "id": "z8ZBqfbZ55v0",
        "outputId": "fbaf6649-e606-4c9c-fd89-2acd3b0e4829"
      },
      "source": [
        "# Test code with iris dataset:\n",
        "iris = get_iris_dataset()\n",
        "X = iris[0]\n",
        "y = iris[1]\n",
        "multi_classifier(X, y)"
      ],
      "execution_count": 285,
      "outputs": [
        {
          "output_type": "display_data",
          "data": {
            "image/png": "[encoded data removed]",
            "text/plain": [
              "<Figure size 432x288 with 1 Axes>"
            ]
          },
          "metadata": {
            "tags": [],
            "needs_background": "light"
          }
        }
      ]
    }
  ]
}