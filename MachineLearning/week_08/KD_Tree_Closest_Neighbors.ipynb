{
  "nbformat": 4,
  "nbformat_minor": 0,
  "metadata": {
    "colab": {
      "name": "KD_Tree_Closest_Neighbors.ipynb",
      "provenance": [],
      "collapsed_sections": []
    },
    "kernelspec": {
      "name": "python3",
      "display_name": "Python 3"
    },
    "language_info": {
      "name": "python"
    }
  },
  "cells": [
    {
      "cell_type": "code",
      "metadata": {
        "id": "EKqcs3ae4agM"
      },
      "source": [
        "# Necessary import statements:\n",
        "import collections\n",
        "import operator"
      ],
      "execution_count": 27,
      "outputs": []
    },
    {
      "cell_type": "code",
      "metadata": {
        "id": "KrnY9QWb4b_q"
      },
      "source": [
        "# tuple required to structure nodes:\n",
        "node = collections.namedtuple(\"node\", [\"value\", \"left\", \"right\"])\n",
        "\n",
        "def build_kdtree(points):\n",
        "  return recursively_build_kdtree(points, 0)\n",
        "\n",
        "def recursively_build_kdtree(points, depth):\n",
        "  if len(points) == 0:\n",
        "    return\n",
        "  else:\n",
        "    # recursively add the upper and lower half of points.\n",
        "    num_dimensions = len(points[0])                              \n",
        "    points.sort(key=operator.itemgetter(depth % num_dimensions)) # find upper and lower half of points through sorting\n",
        "    median = len(points) // 2                                    # find median to access lower and upper half in constant time\n",
        "    return node(\n",
        "        value = points[median],\n",
        "        left = recursively_build_kdtree(points[:median], depth+1),   # add the lower half of points\n",
        "        right= recursively_build_kdtree(points[median+1:], depth+1), # add the upper half of points\n",
<<<<<<< HEAD
        "    )"
=======
        "    )\n",
>>>>>>> c02ad4d5e50ad7e41d96cf4195ec522e3e1ce4d0
      ],
      "execution_count": 28,
      "outputs": []
    },
    {
      "cell_type": "markdown",
      "metadata": {
        "id": "Ry6RarMv5iJ7"
      },
      "source": [
        "Show functionality of kd tree with self-generated small dataset"
      ]
    },
    {
      "cell_type": "code",
      "metadata": {
        "colab": {
          "base_uri": "https://localhost:8080/"
        },
        "id": "bW-Hg1E_5gdr",
        "outputId": "e997ba06-3338-41d3-f987-32763feab5d4"
      },
      "source": [
        "# 2 dimensional k-d tree:\n",
        "points = [ (1, 2, 3), (2, 3, 3), (3, 4, 3), (4, 5, 3) ]\n",
        "tree = build_kdtree(points)\n",
        "print(\"2 dimensional k-d tree:\", tree)\n",
        "\n",
        "# 3 dimensional k-d tree:\n",
        "points = [ (1, 2, 3), (2, 3, 4), (3, 4, 5), (4, 5, 6) ]\n",
        "tree = build_kdtree(points)\n",
        "print(\"3 dimensional k-d tree:\", tree)\n",
        "\n",
        "# 4 dimensional k-d tree:\n",
        "points = [ (1, 2, 3, 1), (2, 3, 4, 1), (3, 4, 5, 1), (4, 5, 6, 1) ]\n",
        "tree = build_kdtree(points)\n",
        "print(\"4 dimensional k-d tree:\", tree)"
      ],
      "execution_count": 29,
      "outputs": [
        {
          "output_type": "stream",
          "text": [
            "2 dimensional k-d tree: node(value=(3, 4, 3), left=node(value=(2, 3, 3), left=node(value=(1, 2, 3), left=None, right=None), right=None), right=node(value=(4, 5, 3), left=None, right=None))\n",
            "3 dimensional k-d tree: node(value=(3, 4, 5), left=node(value=(2, 3, 4), left=node(value=(1, 2, 3), left=None, right=None), right=None), right=node(value=(4, 5, 6), left=None, right=None))\n",
            "4 dimensional k-d tree: node(value=(3, 4, 5, 1), left=node(value=(2, 3, 4, 1), left=node(value=(1, 2, 3, 1), left=None, right=None), right=None), right=node(value=(4, 5, 6, 1), left=None, right=None))\n"
          ],
          "name": "stdout"
        }
      ]
    },
    {
      "cell_type": "markdown",
      "metadata": {
        "id": "3S3c5ghuYEo8"
      },
      "source": [
        "Show functionality from iris dataset"
      ]
    },
    {
      "cell_type": "code",
      "metadata": {
        "colab": {
          "base_uri": "https://localhost:8080/"
        },
        "id": "QJiv2r_rYHTF",
        "outputId": "9a71a68b-d310-4dea-f1d8-7d29774ff848"
      },
      "source": [
        "from sklearn.datasets import load_iris\n",
        "iris = load_iris()\n",
        "\n",
        "# 2 dimensional k-d tree:\n",
        "X = iris.data[:, 2:] \n",
        "y = iris.target\n",
        "points = []\n",
        "for elem in X:\n",
        "  first, second = elem[0], elem[1]\n",
        "  cur_tuple = (first, second)\n",
        "  points.append(cur_tuple)\n",
        "tree = build_kdtree(points)\n",
        "print(\"2d k-d tree:\", tree)\n",
        "\n",
        "# 3 dimensional k-d tree:\n",
        "X = iris.data[:, 1:] \n",
        "y = iris.target\n",
        "points = []\n",
        "for elem in X:\n",
        "  first, second, third = elem[0], elem[1], elem[2]\n",
        "  cur_tuple = (first, second, third)\n",
        "  points.append(cur_tuple)\n",
        "tree = build_kdtree(points)\n",
        "print(\"3d k-d tree:\", tree)\n",
        "\n",
        "# 4 dimensional k-d tree:\n",
        "X = iris.data\n",
        "y = iris.target\n",
        "points = []\n",
        "for elem in X:\n",
        "  first, second, third, fourth = elem[0], elem[1], elem[2], elem[3]\n",
        "  cur_tuple = (first, second, third, fourth)\n",
        "  points.append(cur_tuple)\n",
        "tree = build_kdtree(points)\n",
        "print(\"4d k-d tree:\", tree)"
      ],
      "execution_count": 30,
      "outputs": [
        {
          "output_type": "stream",
          "text": [
            "2d k-d tree: node(value=(4.4, 1.4), left=node(value=(1.4, 0.3), left=node(value=(1.4, 0.2), left=node(value=(1.3, 0.2), left=node(value=(1.3, 0.2), left=node(value=(1.2, 0.2), left=node(value=(1.1, 0.1), left=node(value=(1.0, 0.2), left=None, right=None), right=None), right=node(value=(1.2, 0.2), left=None, right=None)), right=node(value=(1.3, 0.2), left=node(value=(1.4, 0.1), left=node(value=(1.4, 0.1), left=None, right=None), right=None), right=node(value=(1.3, 0.2), left=None, right=None))), right=node(value=(1.4, 0.2), left=node(value=(1.3, 0.3), left=node(value=(1.4, 0.2), left=node(value=(1.4, 0.2), left=None, right=None), right=None), right=node(value=(1.3, 0.3), left=None, right=None)), right=node(value=(1.4, 0.2), left=node(value=(1.4, 0.2), left=None, right=None), right=node(value=(1.4, 0.2), left=None, right=None)))), right=node(value=(1.5, 0.2), left=node(value=(1.5, 0.2), left=node(value=(1.4, 0.2), left=node(value=(1.5, 0.1), left=node(value=(1.5, 0.1), left=None, right=None), right=None), right=node(value=(1.5, 0.2), left=None, right=None)), right=node(value=(1.5, 0.2), left=node(value=(1.5, 0.2), left=node(value=(1.5, 0.2), left=None, right=None), right=None), right=node(value=(1.5, 0.2), left=None, right=None))), right=node(value=(1.6, 0.2), left=node(value=(1.6, 0.2), left=node(value=(1.6, 0.2), left=node(value=(1.6, 0.2), left=None, right=None), right=None), right=node(value=(1.4, 0.3), left=None, right=None)), right=node(value=(1.7, 0.2), left=node(value=(1.6, 0.2), left=None, right=None), right=node(value=(1.9, 0.2), left=None, right=None))))), right=node(value=(3.7, 1.0), left=node(value=(1.9, 0.4), left=node(value=(1.5, 0.4), left=node(value=(1.3, 0.4), left=node(value=(1.5, 0.3), left=node(value=(1.4, 0.3), left=None, right=None), right=None), right=node(value=(1.5, 0.4), left=None, right=None)), right=node(value=(1.6, 0.4), left=node(value=(1.7, 0.3), left=node(value=(1.5, 0.4), left=None, right=None), right=None), right=node(value=(1.7, 0.4), left=None, right=None))), right=node(value=(3.3, 1.0), left=node(value=(3.3, 1.0), left=node(value=(1.7, 0.5), left=node(value=(1.6, 0.6), left=None, right=None), right=None), right=node(value=(3.0, 1.1), left=None, right=None)), right=node(value=(3.5, 1.0), left=node(value=(3.5, 1.0), left=None, right=None), right=node(value=(3.6, 1.3), left=None, right=None)))), right=node(value=(4.0, 1.3), left=node(value=(4.0, 1.2), left=node(value=(3.9, 1.1), left=node(value=(4.0, 1.0), left=node(value=(3.8, 1.1), left=None, right=None), right=None), right=node(value=(3.9, 1.2), left=None, right=None)), right=node(value=(4.0, 1.3), left=node(value=(4.2, 1.2), left=node(value=(4.1, 1.0), left=None, right=None), right=None), right=node(value=(4.0, 1.3), left=None, right=None))), right=node(value=(4.2, 1.3), left=node(value=(4.2, 1.3), left=node(value=(4.1, 1.3), left=node(value=(4.1, 1.3), left=None, right=None), right=None), right=node(value=(3.9, 1.4), left=None, right=None)), right=node(value=(4.3, 1.3), left=node(value=(4.3, 1.3), left=None, right=None), right=node(value=(4.2, 1.5), left=None, right=None)))))), right=node(value=(5.8, 1.8), left=node(value=(4.7, 1.6), left=node(value=(4.5, 1.5), left=node(value=(4.6, 1.3), left=node(value=(4.5, 1.3), left=node(value=(4.4, 1.3), left=node(value=(4.4, 1.2), left=None, right=None), right=None), right=node(value=(4.4, 1.4), left=None, right=None)), right=node(value=(4.7, 1.4), left=node(value=(4.7, 1.2), left=node(value=(4.6, 1.4), left=None, right=None), right=None), right=node(value=(4.7, 1.4), left=None, right=None))), right=node(value=(4.5, 1.6), left=node(value=(4.5, 1.5), left=node(value=(4.5, 1.5), left=node(value=(4.5, 1.5), left=None, right=None), right=None), right=node(value=(4.5, 1.5), left=None, right=None)), right=node(value=(4.7, 1.5), left=node(value=(4.6, 1.5), left=None, right=None), right=node(value=(4.5, 1.7), left=None, right=None)))), right=node(value=(4.8, 1.8), left=node(value=(5.0, 1.7), left=node(value=(4.9, 1.5), left=node(value=(4.9, 1.5), left=node(value=(4.8, 1.4), left=None, right=None), right=None), right=node(value=(5.0, 1.5), left=None, right=None)), right=node(value=(5.1, 1.6), left=node(value=(5.6, 1.4), left=node(value=(5.1, 1.5), left=None, right=None), right=None), right=node(value=(5.8, 1.6), left=None, right=None))), right=node(value=(5.1, 1.8), left=node(value=(4.9, 1.8), left=node(value=(4.8, 1.8), left=node(value=(4.8, 1.8), left=None, right=None), right=None), right=node(value=(4.9, 1.8), left=None, right=None)), right=node(value=(5.5, 1.8), left=node(value=(5.5, 1.8), left=None, right=None), right=node(value=(5.6, 1.8), left=None, right=None))))), right=node(value=(5.6, 2.4), left=node(value=(5.5, 2.1), left=node(value=(5.1, 1.9), left=node(value=(4.9, 2.0), left=node(value=(5.1, 1.9), left=node(value=(5.0, 1.9), left=None, right=None), right=None), right=node(value=(5.0, 2.0), left=None, right=None)), right=node(value=(5.2, 2.0), left=node(value=(5.3, 1.9), left=node(value=(5.1, 2.0), left=None, right=None), right=None), right=node(value=(5.4, 2.1), left=None, right=None))), right=node(value=(5.4, 2.3), left=node(value=(5.3, 2.3), left=node(value=(5.2, 2.3), left=node(value=(5.1, 2.3), left=None, right=None), right=None), right=node(value=(5.1, 2.4), left=None, right=None)), right=node(value=(5.6, 2.2), left=node(value=(5.6, 2.1), left=None, right=None), right=node(value=(5.6, 2.4), left=None, right=None)))), right=node(value=(5.8, 2.2), left=node(value=(6.3, 1.8), left=node(value=(5.7, 2.1), left=node(value=(6.1, 1.9), left=node(value=(6.0, 1.8), left=None, right=None), right=None), right=node(value=(5.9, 2.1), left=None, right=None)), right=node(value=(6.7, 2.0), left=node(value=(6.4, 2.0), left=None, right=None), right=node(value=(6.6, 2.1), left=None, right=None))), right=node(value=(6.1, 2.3), left=node(value=(5.7, 2.5), left=node(value=(5.9, 2.3), left=node(value=(5.7, 2.3), left=None, right=None), right=None), right=node(value=(6.0, 2.5), left=None, right=None)), right=node(value=(6.9, 2.3), left=node(value=(6.7, 2.2), left=None, right=None), right=node(value=(6.1, 2.5), left=None, right=None)))))))\n",
            "3d k-d tree: node(value=(3.0, 5.5, 1.8), left=node(value=(2.5, 4.5, 1.7), left=node(value=(2.7, 3.9, 1.2), left=node(value=(2.6, 3.5, 1.0), left=node(value=(2.0, 3.5, 1.0), left=node(value=(2.4, 3.3, 1.0), left=node(value=(2.3, 3.3, 1.0), left=node(value=(2.3, 1.3, 0.3), left=None, right=None), right=None), right=node(value=(2.5, 3.0, 1.1), left=None, right=None)), right=node(value=(2.4, 3.8, 1.1), left=node(value=(2.4, 3.7, 1.0), left=node(value=(2.2, 4.0, 1.0), left=None, right=None), right=None), right=node(value=(2.5, 3.9, 1.1), left=None, right=None))), right=node(value=(3.0, 1.4, 0.2), left=node(value=(3.0, 1.3, 0.2), left=node(value=(3.0, 1.4, 0.1), left=node(value=(3.0, 1.1, 0.1), left=None, right=None), right=None), right=node(value=(2.9, 1.4, 0.2), left=None, right=None)), right=node(value=(3.0, 1.4, 0.3), left=node(value=(3.0, 1.6, 0.2), left=None, right=None), right=node(value=(2.7, 4.1, 1.0), left=None, right=None)))), right=node(value=(2.8, 4.1, 1.3), left=node(value=(2.8, 4.0, 1.3), left=node(value=(2.5, 4.0, 1.3), left=node(value=(2.6, 4.0, 1.2), left=node(value=(2.3, 4.0, 1.3), left=None, right=None), right=None), right=node(value=(2.7, 3.9, 1.4), left=None, right=None)), right=node(value=(2.3, 4.4, 1.3), left=node(value=(2.7, 4.2, 1.3), left=node(value=(2.6, 4.4, 1.2), left=None, right=None), right=None), right=node(value=(2.2, 4.5, 1.5), left=None, right=None))), right=node(value=(3.0, 4.2, 1.5), left=node(value=(3.0, 4.1, 1.3), left=node(value=(3.0, 4.2, 1.2), left=node(value=(2.9, 3.6, 1.3), left=None, right=None), right=None), right=node(value=(2.9, 4.2, 1.3), left=None, right=None)), right=node(value=(2.9, 4.3, 1.3), left=node(value=(2.9, 4.3, 1.3), left=None, right=None), right=node(value=(3.0, 4.4, 1.4), left=None, right=None))))), right=node(value=(2.9, 5.6, 1.8), left=node(value=(2.8, 5.1, 1.5), left=node(value=(2.5, 4.9, 1.5), left=node(value=(2.8, 4.8, 1.4), left=node(value=(2.8, 4.5, 1.3), left=node(value=(2.8, 4.7, 1.2), left=None, right=None), right=None), right=node(value=(2.8, 4.6, 1.5), left=None, right=None)), right=node(value=(2.7, 5.1, 1.6), left=node(value=(2.6, 5.6, 1.4), left=node(value=(2.2, 5.0, 1.5), left=None, right=None), right=None), right=node(value=(2.7, 4.9, 1.8), left=None, right=None))), right=node(value=(3.0, 4.6, 1.4), left=node(value=(3.0, 4.5, 1.5), left=node(value=(2.9, 4.5, 1.5), left=node(value=(2.9, 4.6, 1.3), left=None, right=None), right=None), right=node(value=(3.0, 4.5, 1.5), left=None, right=None)), right=node(value=(3.0, 5.0, 1.7), left=node(value=(2.9, 4.7, 1.4), left=None, right=None), right=node(value=(2.8, 4.8, 1.8), left=None, right=None)))), right=node(value=(2.8, 6.7, 2.0), left=node(value=(2.7, 5.1, 1.9), left=node(value=(2.8, 4.9, 2.0), left=node(value=(2.7, 5.1, 1.9), left=node(value=(2.5, 5.0, 1.9), left=None, right=None), right=None), right=node(value=(2.5, 5.0, 2.0), left=None, right=None)), right=node(value=(2.8, 6.1, 1.9), left=node(value=(2.7, 5.3, 1.9), left=node(value=(2.5, 5.8, 1.8), left=None, right=None), right=None), right=node(value=(2.6, 6.9, 2.3), left=None, right=None))), right=node(value=(3.0, 5.8, 2.2), left=node(value=(2.8, 5.6, 2.2), left=node(value=(3.0, 5.5, 2.1), left=node(value=(2.8, 5.6, 2.1), left=None, right=None), right=None), right=node(value=(2.8, 5.1, 2.4), left=None, right=None)), right=node(value=(3.0, 5.9, 2.1), left=node(value=(2.9, 6.3, 1.8), left=None, right=None), right=node(value=(3.0, 6.6, 2.1), left=None, right=None)))))), right=node(value=(3.4, 1.7, 0.2), left=node(value=(3.4, 1.5, 0.2), left=node(value=(3.4, 1.5, 0.2), left=node(value=(3.3, 1.4, 0.2), left=node(value=(3.2, 1.3, 0.2), left=node(value=(3.2, 1.3, 0.2), left=node(value=(3.2, 1.2, 0.2), left=None, right=None), right=None), right=node(value=(3.2, 1.4, 0.2), left=None, right=None)), right=node(value=(3.1, 1.5, 0.2), left=node(value=(3.4, 1.4, 0.2), left=node(value=(3.1, 1.5, 0.1), left=None, right=None), right=None), right=node(value=(3.1, 1.5, 0.2), left=None, right=None))), right=node(value=(3.6, 1.4, 0.1), left=node(value=(3.5, 1.3, 0.2), left=node(value=(4.0, 1.2, 0.2), left=node(value=(3.6, 1.0, 0.2), left=None, right=None), right=None), right=node(value=(3.5, 1.4, 0.2), left=None, right=None)), right=node(value=(3.6, 1.4, 0.2), left=node(value=(4.1, 1.5, 0.1), left=None, right=None), right=node(value=(4.2, 1.4, 0.2), left=None, right=None)))), right=node(value=(3.5, 1.4, 0.3), left=node(value=(3.1, 1.6, 0.2), left=node(value=(3.4, 1.4, 0.3), left=node(value=(3.5, 1.3, 0.3), left=node(value=(3.5, 1.5, 0.2), left=None, right=None), right=None), right=node(value=(3.4, 1.5, 0.4), left=None, right=None)), right=node(value=(3.4, 1.6, 0.4), left=node(value=(3.4, 1.6, 0.2), left=node(value=(3.2, 1.6, 0.2), left=None, right=None), right=None), right=node(value=(3.3, 1.7, 0.5), left=None, right=None))), right=node(value=(3.8, 1.5, 0.3), left=node(value=(3.9, 1.3, 0.4), left=node(value=(3.7, 1.5, 0.2), left=node(value=(3.7, 1.5, 0.2), left=None, right=None), right=None), right=node(value=(3.7, 1.5, 0.4), left=None, right=None)), right=node(value=(4.4, 1.5, 0.4), left=node(value=(3.8, 1.6, 0.2), left=None, right=None), right=node(value=(3.5, 1.6, 0.6), left=None, right=None))))), right=node(value=(3.2, 5.1, 2.0), left=node(value=(3.2, 4.5, 1.5), left=node(value=(3.0, 4.9, 1.8), left=node(value=(3.1, 4.7, 1.5), left=node(value=(3.2, 4.7, 1.4), left=node(value=(3.1, 4.4, 1.4), left=None, right=None), right=None), right=node(value=(3.0, 4.8, 1.8), left=None, right=None)), right=node(value=(3.0, 5.1, 1.8), left=node(value=(3.1, 4.9, 1.5), left=node(value=(3.0, 5.8, 1.6), left=None, right=None), right=None), right=node(value=(3.1, 5.5, 1.8), left=None, right=None))), right=node(value=(3.4, 4.5, 1.6), left=node(value=(3.9, 1.7, 0.4), left=node(value=(3.8, 1.7, 0.3), left=node(value=(3.4, 1.9, 0.2), left=None, right=None), right=None), right=node(value=(3.8, 1.9, 0.4), left=None, right=None)), right=node(value=(3.2, 4.8, 1.8), left=node(value=(3.3, 4.7, 1.6), left=None, right=None), right=node(value=(3.2, 6.0, 1.8), left=None, right=None)))), right=node(value=(3.2, 5.9, 2.3), left=node(value=(3.1, 5.4, 2.1), left=node(value=(3.0, 5.2, 2.3), left=node(value=(3.1, 5.1, 2.3), left=node(value=(3.0, 5.2, 2.0), left=None, right=None), right=None), right=node(value=(3.2, 5.3, 2.3), left=None, right=None)), right=node(value=(3.0, 6.1, 2.3), left=node(value=(3.2, 5.7, 2.3), left=None, right=None), right=node(value=(3.1, 5.6, 2.4), left=None, right=None))), right=node(value=(3.3, 6.0, 2.5), left=node(value=(3.4, 5.6, 2.4), left=node(value=(3.4, 5.4, 2.3), left=node(value=(3.3, 5.7, 2.1), left=None, right=None), right=None), right=node(value=(3.3, 5.7, 2.5), left=None, right=None)), right=node(value=(3.8, 6.7, 2.2), left=node(value=(3.8, 6.4, 2.0), left=None, right=None), right=node(value=(3.6, 6.1, 2.5), left=None, right=None)))))))\n",
            "4d k-d tree: node(value=(5.8, 2.7, 3.9, 1.2), left=node(value=(4.4, 3.2, 1.3, 0.2), left=node(value=(5.5, 2.4, 3.7, 1.0), left=node(value=(4.8, 3.1, 1.6, 0.2), left=node(value=(4.8, 3.0, 1.4, 0.1), left=node(value=(4.4, 3.0, 1.3, 0.2), left=node(value=(4.4, 2.9, 1.4, 0.2), left=node(value=(4.3, 3.0, 1.1, 0.1), left=None, right=None), right=None), right=node(value=(4.6, 3.1, 1.5, 0.2), left=None, right=None)), right=node(value=(4.9, 3.1, 1.5, 0.1), left=node(value=(5.0, 3.0, 1.6, 0.2), left=node(value=(4.9, 3.0, 1.4, 0.2), left=None, right=None), right=None), right=node(value=(4.9, 3.1, 1.5, 0.2), left=None, right=None))), right=node(value=(5.0, 2.0, 3.5, 1.0), left=node(value=(4.9, 2.4, 3.3, 1.0), left=node(value=(5.0, 2.3, 3.3, 1.0), left=node(value=(4.5, 2.3, 1.3, 0.3), left=None, right=None), right=None), right=node(value=(4.8, 3.0, 1.4, 0.3), left=None, right=None)), right=node(value=(5.7, 2.6, 3.5, 1.0), left=node(value=(5.1, 2.5, 3.0, 1.1), left=None, right=None), right=node(value=(5.6, 2.9, 3.6, 1.3), left=None, right=None)))), right=node(value=(5.6, 2.7, 4.2, 1.3), left=node(value=(5.6, 2.5, 3.9, 1.1), left=node(value=(5.5, 2.5, 4.0, 1.3), left=node(value=(5.5, 2.3, 4.0, 1.3), left=node(value=(5.5, 2.4, 3.8, 1.1), left=None, right=None), right=None), right=node(value=(5.5, 2.6, 4.4, 1.2), left=None, right=None)), right=node(value=(5.6, 3.0, 4.1, 1.3), left=node(value=(5.7, 2.8, 4.1, 1.3), left=node(value=(5.8, 2.7, 4.1, 1.0), left=None, right=None), right=None), right=node(value=(5.7, 3.0, 4.2, 1.2), left=None, right=None))), right=node(value=(5.6, 2.8, 4.9, 2.0), left=node(value=(5.4, 3.0, 4.5, 1.5), left=node(value=(4.9, 2.5, 4.5, 1.7), left=node(value=(5.2, 2.7, 3.9, 1.4), left=None, right=None), right=None), right=node(value=(5.6, 3.0, 4.5, 1.5), left=None, right=None)), right=node(value=(5.7, 2.8, 4.5, 1.3), left=node(value=(5.7, 2.5, 5.0, 2.0), left=None, right=None), right=node(value=(5.7, 2.9, 4.2, 1.3), left=None, right=None))))), right=node(value=(5.4, 3.4, 1.5, 0.4), left=node(value=(5.1, 3.5, 1.4, 0.2), left=node(value=(5.0, 3.2, 1.2, 0.2), left=node(value=(4.6, 3.6, 1.0, 0.2), left=node(value=(4.6, 3.2, 1.4, 0.2), left=node(value=(4.7, 3.2, 1.3, 0.2), left=None, right=None), right=None), right=node(value=(4.9, 3.6, 1.4, 0.1), left=None, right=None)), right=node(value=(5.5, 3.5, 1.3, 0.2), left=node(value=(5.2, 3.4, 1.4, 0.2), left=node(value=(5.0, 3.3, 1.4, 0.2), left=None, right=None), right=None), right=node(value=(5.8, 4.0, 1.2, 0.2), left=None, right=None))), right=node(value=(5.1, 3.4, 1.5, 0.2), left=node(value=(5.0, 3.5, 1.3, 0.3), left=node(value=(5.0, 3.4, 1.5, 0.2), left=node(value=(4.6, 3.4, 1.4, 0.3), left=None, right=None), right=None), right=node(value=(5.0, 3.6, 1.4, 0.2), left=None, right=None)), right=node(value=(5.4, 3.9, 1.3, 0.4), left=node(value=(5.1, 3.5, 1.4, 0.3), left=None, right=None), right=node(value=(5.5, 4.2, 1.4, 0.2), left=None, right=None)))), right=node(value=(5.1, 3.8, 1.5, 0.3), left=node(value=(5.2, 4.1, 1.5, 0.1), left=node(value=(4.8, 3.4, 1.9, 0.2), left=node(value=(4.8, 3.4, 1.6, 0.2), left=node(value=(4.7, 3.2, 1.6, 0.2), left=None, right=None), right=None), right=node(value=(5.1, 3.8, 1.6, 0.2), left=None, right=None)), right=node(value=(5.3, 3.7, 1.5, 0.2), left=node(value=(5.4, 3.4, 1.7, 0.2), left=node(value=(5.2, 3.5, 1.5, 0.2), left=None, right=None), right=None), right=node(value=(5.4, 3.7, 1.5, 0.2), left=None, right=None))), right=node(value=(5.1, 3.3, 1.7, 0.5), left=node(value=(5.1, 3.7, 1.5, 0.4), left=node(value=(5.0, 3.5, 1.6, 0.6), left=node(value=(5.0, 3.4, 1.6, 0.4), left=None, right=None), right=None), right=node(value=(5.1, 3.8, 1.9, 0.4), left=None, right=None)), right=node(value=(5.4, 3.9, 1.7, 0.4), left=node(value=(5.7, 3.8, 1.7, 0.3), left=None, right=None), right=node(value=(5.7, 4.4, 1.5, 0.4), left=None, right=None)))))), right=node(value=(6.1, 3.0, 4.9, 1.8), left=node(value=(6.3, 2.7, 4.9, 1.8), left=node(value=(6.1, 2.9, 4.7, 1.4), left=node(value=(6.1, 3.0, 4.6, 1.4), left=node(value=(6.1, 2.8, 4.7, 1.2), left=node(value=(5.8, 2.6, 4.0, 1.2), left=node(value=(6.0, 2.2, 4.0, 1.0), left=None, right=None), right=None), right=node(value=(6.1, 2.8, 4.0, 1.3), left=None, right=None)), right=node(value=(6.4, 2.9, 4.3, 1.3), left=node(value=(6.3, 2.3, 4.4, 1.3), left=node(value=(6.2, 2.9, 4.3, 1.3), left=None, right=None), right=None), right=node(value=(6.6, 2.9, 4.6, 1.3), left=None, right=None))), right=node(value=(6.2, 2.8, 4.8, 1.8), left=node(value=(5.9, 3.0, 4.2, 1.5), left=node(value=(6.0, 2.9, 4.5, 1.5), left=node(value=(6.2, 2.2, 4.5, 1.5), left=None, right=None), right=None), right=node(value=(6.0, 3.0, 4.8, 1.8), left=None, right=None)), right=node(value=(6.5, 2.8, 4.6, 1.5), left=node(value=(6.3, 2.5, 4.9, 1.5), left=None, right=None), right=node(value=(6.8, 2.8, 4.8, 1.4), left=None, right=None)))), right=node(value=(5.8, 2.7, 5.1, 1.9), left=node(value=(6.3, 2.8, 5.1, 1.5), left=node(value=(6.0, 2.7, 5.1, 1.6), left=node(value=(6.1, 2.6, 5.6, 1.4), left=node(value=(6.0, 2.2, 5.0, 1.5), left=None, right=None), right=None), right=node(value=(5.9, 3.0, 5.1, 1.8), left=None, right=None)), right=node(value=(6.3, 2.9, 5.6, 1.8), left=node(value=(6.7, 2.5, 5.8, 1.8), left=node(value=(6.3, 2.5, 5.0, 1.9), left=None, right=None), right=None), right=node(value=(7.3, 2.9, 6.3, 1.8), left=None, right=None))), right=node(value=(6.4, 2.8, 5.6, 2.2), left=node(value=(5.8, 2.8, 5.1, 2.4), left=node(value=(6.4, 2.7, 5.3, 1.9), left=node(value=(5.8, 2.7, 5.1, 1.9), left=None, right=None), right=None), right=node(value=(6.4, 2.8, 5.6, 2.1), left=None, right=None)), right=node(value=(7.4, 2.8, 6.1, 1.9), left=node(value=(7.7, 2.6, 6.9, 2.3), left=None, right=None), right=node(value=(7.7, 2.8, 6.7, 2.0), left=None, right=None))))), right=node(value=(6.8, 3.0, 5.5, 2.1), left=node(value=(5.9, 3.2, 4.8, 1.8), left=node(value=(6.7, 3.1, 4.4, 1.4), left=node(value=(6.3, 3.3, 4.7, 1.6), left=node(value=(6.4, 3.2, 4.5, 1.5), left=node(value=(6.6, 3.0, 4.4, 1.4), left=None, right=None), right=None), right=node(value=(6.0, 3.4, 4.5, 1.6), left=None, right=None)), right=node(value=(6.9, 3.1, 4.9, 1.5), left=node(value=(6.7, 3.0, 5.0, 1.7), left=node(value=(6.7, 3.1, 4.7, 1.5), left=None, right=None), right=None), right=node(value=(7.0, 3.2, 4.7, 1.4), left=None, right=None))), right=node(value=(6.5, 3.0, 5.2, 2.0), left=node(value=(6.5, 3.2, 5.1, 2.0), left=node(value=(6.5, 3.0, 5.5, 1.8), left=node(value=(6.4, 3.2, 5.3, 2.3), left=None, right=None), right=None), right=node(value=(6.2, 3.4, 5.4, 2.3), left=None, right=None)), right=node(value=(6.9, 3.1, 5.4, 2.1), left=node(value=(6.7, 3.0, 5.2, 2.3), left=None, right=None), right=node(value=(6.9, 3.1, 5.1, 2.3), left=None, right=None)))), right=node(value=(7.7, 3.8, 6.7, 2.2), left=node(value=(7.2, 3.0, 5.8, 1.6), left=node(value=(6.4, 3.1, 5.5, 1.8), left=node(value=(7.1, 3.0, 5.9, 2.1), left=node(value=(6.5, 3.0, 5.8, 2.2), left=None, right=None), right=None), right=node(value=(6.7, 3.3, 5.7, 2.1), left=None, right=None)), right=node(value=(7.2, 3.2, 6.0, 1.8), left=node(value=(7.6, 3.0, 6.6, 2.1), left=None, right=None), right=node(value=(7.9, 3.8, 6.4, 2.0), left=None, right=None))), right=node(value=(6.8, 3.2, 5.9, 2.3), left=node(value=(6.7, 3.3, 5.7, 2.5), left=node(value=(6.3, 3.3, 6.0, 2.5), left=node(value=(6.7, 3.1, 5.6, 2.4), left=None, right=None), right=None), right=node(value=(6.3, 3.4, 5.6, 2.4), left=None, right=None)), right=node(value=(6.9, 3.2, 5.7, 2.3), left=node(value=(7.7, 3.0, 6.1, 2.3), left=None, right=None), right=node(value=(7.2, 3.6, 6.1, 2.5), left=None, right=None)))))))\n"
          ],
          "name": "stdout"
        }
      ]
    },
    {
      "cell_type": "markdown",
      "metadata": {
        "id": "B3ZUV4025cNH"
      },
      "source": [
        "Extra Credit: Find Nearest Neigbor"
      ]
    },
    {
      "cell_type": "code",
      "metadata": {
        "id": "RfS-6iW64hDB"
      },
      "source": [
        "# helper function for find nearest neighbor to find distnace between two points:\n",
        "def calc_distance(X, Y):\n",
        "    return sum((i-j)**2 for i, j in zip(X, Y))\n",
        "\n",
        "# tuple required for the function:\n",
        "min_distance = collections.namedtuple(\"min_distance\", [\"point\", \"distance\"])\n",
        "\n",
        "def find_nearest_neighbor(tree, point):\n",
        "  closest_point = None\n",
        "  num_dimensions = len(point)\n",
        "  def recursively_find_nearest_neighbor(tree, depth):\n",
        "    # base case:\n",
        "    if tree is None:\n",
        "        return\n",
        "    else:\n",
        "      nonlocal closest_point\n",
        "      # check if current point beats the current closest point:\n",
        "      distance = calc_distance(tree.value, point)\n",
        "      if closest_point is None or distance < closest_point.distance:\n",
        "          closest_point = min_distance(tree.value, distance)\n",
        "      axis = depth % num_dimensions\n",
        "      diff = point[axis] - tree.value[axis]\n",
        "      # find left and right child for recursive call:\n",
        "      if diff <= 0:\n",
        "          left, right = tree.left, tree.right\n",
        "      else:\n",
        "          left, rigth = tree.right, tree.left\n",
        "      # recursively check if there is a closer point:\n",
        "      recursively_find_nearest_neighbor(left, depth+1)\n",
        "      if diff**2 < closest_point.distance:\n",
        "          recursively_find_nearest_neighbor(right, depth+1)\n",
        "  recursively_find_nearest_neighbor(tree, 0)\n",
        "  return closest_point.point"
      ],
      "execution_count": 31,
      "outputs": []
    },
    {
      "cell_type": "markdown",
      "metadata": {
        "id": "_FheFPSUP0Pp"
      },
      "source": [
        "Driver to show finding nearest neighbor works"
      ]
    },
    {
      "cell_type": "code",
      "metadata": {
        "colab": {
          "base_uri": "https://localhost:8080/"
        },
        "id": "r7UnPpR2Py_2",
        "outputId": "17a09606-b2df-4346-ca3f-62c76550220a"
      },
      "source": [
        "# Driver:\n",
        "points = [ (1, 2), (3, 4), (8, 9), (10, 12) ]\n",
        "kd_tree = build_kdtree(points)\n",
        "print(find_nearest_neighbor(kd_tree, (1, 2)) )\n",
        "print(find_nearest_neighbor(kd_tree, (10, 11)) )\n",
        "print(find_nearest_neighbor(kd_tree, (6, 7)) )"
      ],
      "execution_count": 32,
      "outputs": [
        {
          "output_type": "stream",
          "text": [
            "(1, 2)\n",
            "(10, 12)\n",
            "(8, 9)\n"
          ],
          "name": "stdout"
        }
      ]
    }
  ]
}
