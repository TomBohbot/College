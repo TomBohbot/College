{
  "nbformat": 4,
  "nbformat_minor": 0,
  "metadata": {
    "colab": {
      "name": "Untitled7.ipynb",
      "provenance": [],
      "collapsed_sections": []
    },
    "kernelspec": {
      "name": "python3",
      "display_name": "Python 3"
    },
    "language_info": {
      "name": "python"
    }
  },
  "cells": [
    {
      "cell_type": "code",
      "metadata": {
        "id": "317CVA5LTFa7"
      },
      "source": [
        "# Necessary import statements:\n",
        "import numpy as np\n",
        "import pandas as pd\n",
        "import matplotlib.pyplot as plt\n",
        "from sklearn.preprocessing import MinMaxScaler\n",
        "from keras.models import Sequential\n",
        "from keras.layers import Dense\n",
        "from keras.layers import LSTM\n",
        "from keras.layers import Dropout\n",
        "from keras.layers import *"
      ],
      "execution_count": 39,
      "outputs": []
    },
    {
      "cell_type": "markdown",
      "metadata": {
        "id": "PsxnRoy3VN7E"
      },
      "source": [
        "Read the data and set the training and testing sets\n"
      ]
    },
    {
      "cell_type": "code",
      "metadata": {
        "id": "C4zhrd9TRVCl"
      },
      "source": [
        "tesla_df = pd.read_csv(\"TSLA.csv\")"
      ],
      "execution_count": 40,
      "outputs": []
    },
    {
      "cell_type": "markdown",
      "metadata": {
        "id": "FJYko2mAV4x7"
      },
      "source": [
        "Split the tesla stock in half for training and testing sets"
      ]
    },
    {
      "cell_type": "code",
      "metadata": {
        "id": "85HY3QL3V3eb"
      },
      "source": [
        "training_set = tesla_df.iloc[:800, 1:2].values\n",
        "test_set = tesla_df.iloc[800:, 1:2].values"
      ],
      "execution_count": 41,
      "outputs": []
    },
    {
      "cell_type": "markdown",
      "metadata": {
        "id": "kcqWpdHxVUnE"
      },
      "source": [
        "Normalize data using a MinMax Scaler: Transforms all values into a range between 0 and 1. Minimizes bias"
      ]
    },
    {
      "cell_type": "code",
      "metadata": {
        "id": "EOXnlHj8RXMv"
      },
      "source": [
        "min_max_scaler = MinMaxScaler()\n",
        "normalized_training_set = min_max_scaler.fit_transform(training_set)\n",
        "X_train = []\n",
        "y_train = []\n",
        "for i in range(60, 800):\n",
        "    X_train.append(normalized_training_set[i-50:i, 0])\n",
        "    y_train.append(normalized_training_set[i, 0])\n",
        "X_train, y_train = np.array(X_train), np.array(y_train)\n",
        "X_train = np.reshape(X_train, (X_train.shape[0], X_train.shape[1], 1))"
      ],
      "execution_count": 42,
      "outputs": []
    },
    {
      "cell_type": "markdown",
      "metadata": {
        "id": "CoJD89q2ZwmE"
      },
      "source": [
        "Train the training set"
      ]
    },
    {
      "cell_type": "code",
      "metadata": {
        "colab": {
          "base_uri": "https://localhost:8080/"
        },
        "id": "eQDdRloFRZ1f",
        "outputId": "62f97e04-a5d3-4087-bf48-097b92d30aab"
      },
      "source": [
        "model = Sequential()\n",
        "model.add(LSTM(units = 50, return_sequences = True, input_shape = (X_train.shape[1], 1)))\n",
        "model.add(Dropout(0.2))\n",
        "\n",
        "model.add(LSTM(units = 50, return_sequences = True))\n",
        "model.add(Dropout(0.2))\n",
        "\n",
        "model.add(LSTM(units = 50, return_sequences = True))\n",
        "model.add(Dropout(0.2))\n",
        "\n",
        "model.add(LSTM(units = 50))\n",
        "model.add(Dropout(0.2))\n",
        "\n",
        "model.add(Dense(units = 1))\n",
        "\n",
        "\n",
        "model.compile(optimizer = 'adam', loss = 'mean_squared_error')\n",
        "\n",
        "\n",
        "model.fit(X_train, y_train, epochs = 100, batch_size = 32)"
      ],
      "execution_count": 24,
      "outputs": [
        {
          "output_type": "stream",
          "text": [
            "Epoch 1/100\n",
            "24/24 [==============================] - 9s 94ms/step - loss: 0.1409\n",
            "Epoch 2/100\n",
            "24/24 [==============================] - 3s 105ms/step - loss: 0.0187\n",
            "Epoch 3/100\n",
            "24/24 [==============================] - 3s 105ms/step - loss: 0.0145\n",
            "Epoch 4/100\n",
            "24/24 [==============================] - 3s 105ms/step - loss: 0.0156\n",
            "Epoch 5/100\n",
            "24/24 [==============================] - 3s 107ms/step - loss: 0.0115\n",
            "Epoch 6/100\n",
            "24/24 [==============================] - 3s 107ms/step - loss: 0.0112\n",
            "Epoch 7/100\n",
            "24/24 [==============================] - 3s 105ms/step - loss: 0.0129\n",
            "Epoch 8/100\n",
            "24/24 [==============================] - 3s 105ms/step - loss: 0.0115\n",
            "Epoch 9/100\n",
            "24/24 [==============================] - 2s 104ms/step - loss: 0.0114\n",
            "Epoch 10/100\n",
            "24/24 [==============================] - 2s 102ms/step - loss: 0.0102\n",
            "Epoch 11/100\n",
            "24/24 [==============================] - 2s 102ms/step - loss: 0.0100\n",
            "Epoch 12/100\n",
            "24/24 [==============================] - 2s 103ms/step - loss: 0.0115\n",
            "Epoch 13/100\n",
            "24/24 [==============================] - 2s 104ms/step - loss: 0.0108\n",
            "Epoch 14/100\n",
            "24/24 [==============================] - 2s 103ms/step - loss: 0.0100\n",
            "Epoch 15/100\n",
            "24/24 [==============================] - 2s 103ms/step - loss: 0.0087\n",
            "Epoch 16/100\n",
            "24/24 [==============================] - 2s 103ms/step - loss: 0.0098\n",
            "Epoch 17/100\n",
            "24/24 [==============================] - 2s 104ms/step - loss: 0.0085\n",
            "Epoch 18/100\n",
            "24/24 [==============================] - 2s 103ms/step - loss: 0.0147\n",
            "Epoch 19/100\n",
            "24/24 [==============================] - 2s 102ms/step - loss: 0.0074\n",
            "Epoch 20/100\n",
            "24/24 [==============================] - 2s 103ms/step - loss: 0.0083\n",
            "Epoch 21/100\n",
            "24/24 [==============================] - 2s 102ms/step - loss: 0.0075\n",
            "Epoch 22/100\n",
            "24/24 [==============================] - 2s 102ms/step - loss: 0.0076\n",
            "Epoch 23/100\n",
            "24/24 [==============================] - 2s 102ms/step - loss: 0.0095\n",
            "Epoch 24/100\n",
            "24/24 [==============================] - 2s 101ms/step - loss: 0.0068\n",
            "Epoch 25/100\n",
            "24/24 [==============================] - 2s 103ms/step - loss: 0.0070\n",
            "Epoch 26/100\n",
            "24/24 [==============================] - 3s 104ms/step - loss: 0.0064\n",
            "Epoch 27/100\n",
            "24/24 [==============================] - 2s 104ms/step - loss: 0.0086\n",
            "Epoch 28/100\n",
            "24/24 [==============================] - 2s 102ms/step - loss: 0.0079\n",
            "Epoch 29/100\n",
            "24/24 [==============================] - 2s 103ms/step - loss: 0.0064\n",
            "Epoch 30/100\n",
            "24/24 [==============================] - 3s 105ms/step - loss: 0.0064\n",
            "Epoch 31/100\n",
            "24/24 [==============================] - 2s 104ms/step - loss: 0.0055\n",
            "Epoch 32/100\n",
            "24/24 [==============================] - 2s 103ms/step - loss: 0.0060\n",
            "Epoch 33/100\n",
            "24/24 [==============================] - 2s 103ms/step - loss: 0.0060\n",
            "Epoch 34/100\n",
            "24/24 [==============================] - 2s 104ms/step - loss: 0.0055\n",
            "Epoch 35/100\n",
            "24/24 [==============================] - 2s 103ms/step - loss: 0.0060\n",
            "Epoch 36/100\n",
            "24/24 [==============================] - 2s 103ms/step - loss: 0.0070\n",
            "Epoch 37/100\n",
            "24/24 [==============================] - 3s 104ms/step - loss: 0.0067\n",
            "Epoch 38/100\n",
            "24/24 [==============================] - 2s 102ms/step - loss: 0.0054\n",
            "Epoch 39/100\n",
            "24/24 [==============================] - 2s 101ms/step - loss: 0.0046\n",
            "Epoch 40/100\n",
            "24/24 [==============================] - 2s 103ms/step - loss: 0.0053\n",
            "Epoch 41/100\n",
            "24/24 [==============================] - 2s 101ms/step - loss: 0.0049\n",
            "Epoch 42/100\n",
            "24/24 [==============================] - 2s 101ms/step - loss: 0.0053\n",
            "Epoch 43/100\n",
            "24/24 [==============================] - 2s 100ms/step - loss: 0.0057\n",
            "Epoch 44/100\n",
            "24/24 [==============================] - 2s 102ms/step - loss: 0.0055\n",
            "Epoch 45/100\n",
            "24/24 [==============================] - 3s 105ms/step - loss: 0.0052\n",
            "Epoch 46/100\n",
            "24/24 [==============================] - 3s 104ms/step - loss: 0.0048\n",
            "Epoch 47/100\n",
            "24/24 [==============================] - 2s 102ms/step - loss: 0.0055\n",
            "Epoch 48/100\n",
            "24/24 [==============================] - 2s 103ms/step - loss: 0.0045\n",
            "Epoch 49/100\n",
            "24/24 [==============================] - 2s 102ms/step - loss: 0.0044\n",
            "Epoch 50/100\n",
            "24/24 [==============================] - 2s 103ms/step - loss: 0.0039\n",
            "Epoch 51/100\n",
            "24/24 [==============================] - 2s 102ms/step - loss: 0.0043\n",
            "Epoch 52/100\n",
            "24/24 [==============================] - 2s 103ms/step - loss: 0.0040\n",
            "Epoch 53/100\n",
            "24/24 [==============================] - 2s 101ms/step - loss: 0.0049\n",
            "Epoch 54/100\n",
            "24/24 [==============================] - 2s 103ms/step - loss: 0.0043\n",
            "Epoch 55/100\n",
            "24/24 [==============================] - 2s 102ms/step - loss: 0.0044\n",
            "Epoch 56/100\n",
            "24/24 [==============================] - 2s 103ms/step - loss: 0.0044\n",
            "Epoch 57/100\n",
            "24/24 [==============================] - 2s 103ms/step - loss: 0.0043\n",
            "Epoch 58/100\n",
            "24/24 [==============================] - 2s 103ms/step - loss: 0.0044\n",
            "Epoch 59/100\n",
            "24/24 [==============================] - 2s 103ms/step - loss: 0.0047\n",
            "Epoch 60/100\n",
            "24/24 [==============================] - 2s 103ms/step - loss: 0.0039\n",
            "Epoch 61/100\n",
            "24/24 [==============================] - 2s 102ms/step - loss: 0.0038\n",
            "Epoch 62/100\n",
            "24/24 [==============================] - 2s 103ms/step - loss: 0.0035\n",
            "Epoch 63/100\n",
            "24/24 [==============================] - 2s 103ms/step - loss: 0.0047\n",
            "Epoch 64/100\n",
            "24/24 [==============================] - 2s 102ms/step - loss: 0.0041\n",
            "Epoch 65/100\n",
            "24/24 [==============================] - 2s 104ms/step - loss: 0.0036\n",
            "Epoch 66/100\n",
            "24/24 [==============================] - 2s 102ms/step - loss: 0.0035\n",
            "Epoch 67/100\n",
            "24/24 [==============================] - 2s 103ms/step - loss: 0.0035\n",
            "Epoch 68/100\n",
            "24/24 [==============================] - 2s 104ms/step - loss: 0.0038\n",
            "Epoch 69/100\n",
            "24/24 [==============================] - 2s 102ms/step - loss: 0.0037\n",
            "Epoch 70/100\n",
            "24/24 [==============================] - 2s 103ms/step - loss: 0.0039\n",
            "Epoch 71/100\n",
            "24/24 [==============================] - 2s 101ms/step - loss: 0.0036\n",
            "Epoch 72/100\n",
            "24/24 [==============================] - 2s 101ms/step - loss: 0.0042\n",
            "Epoch 73/100\n",
            "24/24 [==============================] - 2s 103ms/step - loss: 0.0039\n",
            "Epoch 74/100\n",
            "24/24 [==============================] - 3s 105ms/step - loss: 0.0041\n",
            "Epoch 75/100\n",
            "24/24 [==============================] - 2s 102ms/step - loss: 0.0048\n",
            "Epoch 76/100\n",
            "24/24 [==============================] - 2s 102ms/step - loss: 0.0036\n",
            "Epoch 77/100\n",
            "24/24 [==============================] - 2s 101ms/step - loss: 0.0033\n",
            "Epoch 78/100\n",
            "24/24 [==============================] - 2s 102ms/step - loss: 0.0032\n",
            "Epoch 79/100\n",
            "24/24 [==============================] - 2s 102ms/step - loss: 0.0044\n",
            "Epoch 80/100\n",
            "24/24 [==============================] - 2s 102ms/step - loss: 0.0032\n",
            "Epoch 81/100\n",
            "24/24 [==============================] - 2s 103ms/step - loss: 0.0035\n",
            "Epoch 82/100\n",
            "24/24 [==============================] - 2s 104ms/step - loss: 0.0039\n",
            "Epoch 83/100\n",
            "24/24 [==============================] - 2s 104ms/step - loss: 0.0036\n",
            "Epoch 84/100\n",
            "24/24 [==============================] - 3s 105ms/step - loss: 0.0030\n",
            "Epoch 85/100\n",
            "24/24 [==============================] - 2s 104ms/step - loss: 0.0029\n",
            "Epoch 86/100\n",
            "24/24 [==============================] - 2s 103ms/step - loss: 0.0031\n",
            "Epoch 87/100\n",
            "24/24 [==============================] - 2s 102ms/step - loss: 0.0029\n",
            "Epoch 88/100\n",
            "24/24 [==============================] - 3s 105ms/step - loss: 0.0028\n",
            "Epoch 89/100\n",
            "24/24 [==============================] - 3s 104ms/step - loss: 0.0033\n",
            "Epoch 90/100\n",
            "24/24 [==============================] - 2s 102ms/step - loss: 0.0032\n",
            "Epoch 91/100\n",
            "24/24 [==============================] - 3s 105ms/step - loss: 0.0050\n",
            "Epoch 92/100\n",
            "24/24 [==============================] - 3s 105ms/step - loss: 0.0033\n",
            "Epoch 93/100\n",
            "24/24 [==============================] - 2s 103ms/step - loss: 0.0030\n",
            "Epoch 94/100\n",
            "24/24 [==============================] - 3s 104ms/step - loss: 0.0029\n",
            "Epoch 95/100\n",
            "24/24 [==============================] - 3s 105ms/step - loss: 0.0029\n",
            "Epoch 96/100\n",
            "24/24 [==============================] - 2s 103ms/step - loss: 0.0033\n",
            "Epoch 97/100\n",
            "24/24 [==============================] - 2s 103ms/step - loss: 0.0033\n",
            "Epoch 98/100\n",
            "24/24 [==============================] - 2s 103ms/step - loss: 0.0033\n",
            "Epoch 99/100\n",
            "24/24 [==============================] - 2s 103ms/step - loss: 0.0029\n",
            "Epoch 100/100\n",
            "24/24 [==============================] - 2s 102ms/step - loss: 0.0026\n"
          ],
          "name": "stdout"
        },
        {
          "output_type": "execute_result",
          "data": {
            "text/plain": [
              "<tensorflow.python.keras.callbacks.History at 0x7f9a80b70810>"
            ]
          },
          "metadata": {
            "tags": []
          },
          "execution_count": 24
        }
      ]
    },
    {
      "cell_type": "markdown",
      "metadata": {
        "id": "gEv4w_6EZ-Od"
      },
      "source": [
        "Make predictions"
      ]
    },
    {
      "cell_type": "code",
      "metadata": {
        "id": "OKf7NndJRbYQ"
      },
      "source": [
        "dataset_train = tesla_df.iloc[:800, 1:2]\n",
        "dataset_test = tesla_df.iloc[800:, 1:2]\n",
        "dataset_total = pd.concat((dataset_train, dataset_test), axis = 0)\n",
        "inputs = dataset_total[len(dataset_total) - len(dataset_test) - 60:].values\n",
        "inputs = inputs.reshape(-1,1)\n",
        "inputs = min_max_scaler.transform(inputs)\n",
        "X_test = []\n",
        "for i in range(60, 519):\n",
        "    X_test.append(inputs[i-50:i, 0])\n",
        "X_test = np.array(X_test)\n",
        "X_test = np.reshape(X_test, (X_test.shape[0], X_test.shape[1], 1))\n",
        "\n",
        "predictions = model.predict(X_test)\n",
        "predictions = min_max_scaler.inverse_transform(predictions)"
      ],
      "execution_count": 36,
      "outputs": []
    },
    {
      "cell_type": "markdown",
      "metadata": {
        "id": "gAgIAIXyZnIL"
      },
      "source": [
        "Graph the model"
      ]
    },
    {
      "cell_type": "code",
      "metadata": {
        "colab": {
          "base_uri": "https://localhost:8080/",
          "height": 264
        },
        "id": "eKBYO3uVReLB",
        "outputId": "6da53930-d567-4316-a134-45196243ca4e"
      },
      "source": [
        "plt.plot(tesla_df.loc[800:, 'Date'],dataset_test.values, color = 'red', label = 'Tesla Stock Price')\n",
        "plt.plot(tesla_df.loc[800:, 'Date'],predictions, color = 'blue', label = 'Predictions')\n",
        "plt.legend()\n",
        "plt.show()"
      ],
      "execution_count": 38,
      "outputs": [
        {
          "output_type": "display_data",
          "data": {
            "image/png": "[encoded data removed]",
            "text/plain": [
              "<Figure size 432x288 with 1 Axes>"
            ]
          },
          "metadata": {
            "tags": [],
            "needs_background": "light"
          }
        }
      ]
    }
  ]
}