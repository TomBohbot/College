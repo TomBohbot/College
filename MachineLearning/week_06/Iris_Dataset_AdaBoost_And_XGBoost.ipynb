{
  "nbformat": 4,
  "nbformat_minor": 0,
  "metadata": {
    "colab": {
      "name": "Iris_Dataset_AdaBoost_And_XGBoost.ipynb",
      "provenance": []
    },
    "kernelspec": {
      "name": "python3",
      "display_name": "Python 3"
    }
  },
  "cells": [
    {
      "cell_type": "code",
      "metadata": {
        "id": "BfP5OKfbXVhX"
      },
      "source": [
        "# Necessary import statements\n",
        "from sklearn.ensemble import AdaBoostClassifier\n",
        "from sklearn.tree import DecisionTreeClassifier\n",
        "from sklearn.datasets import load_iris\n",
        "from sklearn.model_selection import train_test_split\n",
        "from sklearn import metrics"
      ],
      "execution_count": 88,
      "outputs": []
    },
    {
      "cell_type": "code",
      "metadata": {
        "id": "OJstF9l7YhJq"
      },
      "source": [
        "# load the iris dataset: \n",
        "iris_data = load_iris() \n",
        "\n",
        "# Set x as flower characteristics and y as target values:\n",
        "x = iris_data.data[:,[2,3] ]\n",
        "y = iris_data.target.reshape(-1, 1)\n",
        "\n",
        "# Split the data for training and testing:\n",
        "train_x, test_x, train_y, test_y = train_test_split(x, y, test_size=0.20)"
      ],
      "execution_count": 89,
      "outputs": []
    },
    {
      "cell_type": "code",
      "metadata": {
        "colab": {
          "base_uri": "https://localhost:8080/"
        },
        "id": "IChcAazNYKRj",
        "outputId": "83ed1f9d-4524-4ed1-de72-226801246191"
      },
      "source": [
        "# Create the ada boost classifier:\n",
        "ada_clf = AdaBoostClassifier(\n",
        "    DecisionTreeClassifier(max_depth=1,),\n",
        "    n_estimators=200,\n",
        "    algorithm=\"SAMME.R\",\n",
        "    learning_rate=0.5\n",
        ")\n",
        "ada_clf.fit(train_x, train_y.ravel() ) # The ravel allows me to have correct shape."
      ],
      "execution_count": 90,
      "outputs": [
        {
          "output_type": "execute_result",
          "data": {
            "text/plain": [
              "AdaBoostClassifier(algorithm='SAMME.R',\n",
              "                   base_estimator=DecisionTreeClassifier(ccp_alpha=0.0,\n",
              "                                                         class_weight=None,\n",
              "                                                         criterion='gini',\n",
              "                                                         max_depth=1,\n",
              "                                                         max_features=None,\n",
              "                                                         max_leaf_nodes=None,\n",
              "                                                         min_impurity_decrease=0.0,\n",
              "                                                         min_impurity_split=None,\n",
              "                                                         min_samples_leaf=1,\n",
              "                                                         min_samples_split=2,\n",
              "                                                         min_weight_fraction_leaf=0.0,\n",
              "                                                         presort='deprecated',\n",
              "                                                         random_state=None,\n",
              "                                                         splitter='best'),\n",
              "                   learning_rate=0.5, n_estimators=200, random_state=None)"
            ]
          },
          "metadata": {
            "tags": []
          },
          "execution_count": 90
        }
      ]
    },
    {
      "cell_type": "code",
      "metadata": {
        "colab": {
          "base_uri": "https://localhost:8080/"
        },
        "id": "Ssgotfi_ZTuK",
        "outputId": "607ee491-d38e-4a7a-8fb9-3c748a70d1db"
      },
      "source": [
        "# Train ada_clf:\n",
        "model = ada_clf.fit(train_x, train_y)\n",
        "\n",
        "# Generate predictions:\n",
        "pred_y = model.predict(test_x)\n",
        "\n",
        "# Check how accurate the model is:\n",
        "ada_boost_acc = metrics.accuracy_score(test_y, pred_y)\n",
        "print(\"Accuracy:\",ada_boost_acc)"
      ],
      "execution_count": 91,
      "outputs": [
        {
          "output_type": "stream",
          "text": [
            "/usr/local/lib/python3.7/dist-packages/sklearn/utils/validation.py:760: DataConversionWarning: A column-vector y was passed when a 1d array was expected. Please change the shape of y to (n_samples, ), for example using ravel().\n",
            "  y = column_or_1d(y, warn=True)\n"
          ],
          "name": "stderr"
        },
        {
          "output_type": "stream",
          "text": [
            "Accuracy: 0.9\n"
          ],
          "name": "stdout"
        }
      ]
    },
    {
      "cell_type": "code",
      "metadata": {
        "colab": {
          "base_uri": "https://localhost:8080/"
        },
        "id": "vsQplnh4hKzn",
        "outputId": "f2d03d6a-3901-4ccf-ddc3-617660201b93"
      },
      "source": [
        "# Compare above result with XG Boost:\n",
        "import xgboost\n",
        "import numpy as np\n",
        "\n",
        "# Create the xgb model:\n",
        "xgb_reg = xgboost.XGBRegressor()\n",
        "xgb_reg.fit(train_x, train_y)\n",
        "\n",
        "# Test the model:\n",
        "xgb_pred_y = xgb_reg.predict(test_x)\n",
        "\n",
        "# Round the model to find what it would be classified as:\n",
        "rounded_xgb_pred_y = np.around(xgb_pred_y)\n",
        "\n",
        "# Check how accurate the model is:\n",
        "xgb_acc = metrics.accuracy_score(test_y, rounded_xgb_pred_y)\n",
        "print(\"Accuracy:\",xgb_acc)"
      ],
      "execution_count": 92,
      "outputs": [
        {
          "output_type": "stream",
          "text": [
            "[18:48:04] WARNING: /workspace/src/objective/regression_obj.cu:152: reg:linear is now deprecated in favor of reg:squarederror.\n",
            "Accuracy: 0.9333333333333333\n"
          ],
          "name": "stdout"
        }
      ]
    },
    {
      "cell_type": "code",
      "metadata": {
        "colab": {
          "base_uri": "https://localhost:8080/"
        },
        "id": "9RDG1tDJjCOE",
        "outputId": "d1ba5fe1-f352-4270-a67e-7519fd8a79d3"
      },
      "source": [
        "# Result of comparison:\n",
        "print(\"AdaBoost vs XGB Boost Accuracy:\")\n",
        "print(\"Ada Boost Accuracy:\",ada_boost_acc)\n",
        "print(\"XGB Boost Accuracy:\",xgb_acc)"
      ],
      "execution_count": 93,
      "outputs": [
        {
          "output_type": "stream",
          "text": [
            "AdaBoost vs XGB Boost Accuracy:\n",
            "Ada Boost Accuracy: 0.9\n",
            "XGB Boost Accuracy: 0.9333333333333333\n"
          ],
          "name": "stdout"
        }
      ]
    }
  ]
}