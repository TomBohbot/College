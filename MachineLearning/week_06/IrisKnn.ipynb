{
  "nbformat": 4,
  "nbformat_minor": 0,
  "metadata": {
    "colab": {
      "name": "IrisKnn.ipynb",
      "provenance": []
    },
    "kernelspec": {
      "name": "python3",
      "display_name": "Python 3"
    }
  },
  "cells": [
    {
      "cell_type": "code",
      "metadata": {
        "id": "0udWZFiDuRma"
      },
      "source": [
        "# Necessary import statements:\n",
        "import matplotlib.pyplot as plt\n",
        "import numpy as np\n",
        "from sklearn.datasets import load_iris\n",
        "from sklearn.model_selection import train_test_split"
      ],
      "execution_count": 188,
      "outputs": []
    },
    {
      "cell_type": "code",
      "metadata": {
        "id": "yOXZkszB0f7G"
      },
      "source": [
        "def get_test_train_data():\n",
        "  # load the iris dataset: \n",
        "  iris_data = load_iris() \n",
        "  # get x and y data:\n",
        "  x = iris_data.data[:,[2,3] ]\n",
        "  y = iris_data.target.reshape(-1, 1)\n",
        "  # split the data:\n",
        "  train_x, test_x, train_y, test_y = train_test_split(x, y, test_size=0.20)\n",
        "  return [train_x, train_y, test_x, test_y]"
      ],
      "execution_count": 189,
      "outputs": []
    },
    {
      "cell_type": "code",
      "metadata": {
        "id": "iHXv0YaRunld"
      },
      "source": [
        "# Helper method to implement Knn:\n",
        "def distance(x1, y1, x2, y2):\n",
        "  return np.sqrt( (x1-x2)**2 + (y1-y2)**2)"
      ],
      "execution_count": 190,
      "outputs": []
    },
    {
      "cell_type": "code",
      "metadata": {
        "id": "9m6T1RifuerB"
      },
      "source": [
        "def implement_knn(k, x, y, train_x, train_y):\n",
        "  closestPoints = []\n",
        "  for i in range(len(train_x)):\n",
        "    distancee = distance(x, y, train_x[i][0], train_x[i][1])\n",
        "    closestPoints.append([distancee, train_y[i][0]])\n",
        "  sortedDistances = sorted(closestPoints, key=lambda x: x[0])\n",
        "  # Calculate which element is closest:\n",
        "  setosa = 0\n",
        "  versicolor = 0\n",
        "  virginica = 0\n",
        "  for i in range(k):\n",
        "    if sortedDistances[i][1] == 0:\n",
        "      setosa += 1\n",
        "    elif sortedDistances[i][1] == 1:\n",
        "      versicolor += 1\n",
        "    elif sortedDistances[i][1] == 2:\n",
        "      virginica += 1\n",
        "  if setosa >= versicolor and setosa >= virginica:\n",
        "    return 0\n",
        "  elif versicolor >= setosa and versicolor >= virginica:\n",
        "    return 1\n",
        "  else:\n",
        "    return 2"
      ],
      "execution_count": 191,
      "outputs": []
    },
    {
      "cell_type": "code",
      "metadata": {
        "id": "CtCYeqkiwW_r"
      },
      "source": [
        "def graph_iris_data(dataset):\n",
        "  fig = plt.figure(figsize=(6,6) )\n",
        "  for i in range(len(dataset)):\n",
        "    if dataset[i][2] == 0:\n",
        "      plt.plot(dataset[i][0],\n",
        "              dataset[i][1],\n",
        "              'o',\n",
        "              markersize = 10,\n",
        "              alpha = 0.75,\n",
        "              color = 'blue'\n",
        "              )\n",
        "    elif dataset [i][2] == 1:\n",
        "      plt.plot(dataset[i][0],\n",
        "                dataset[i][1],\n",
        "                '<',\n",
        "                markersize = 10,\n",
        "                alpha = 0.75,\n",
        "                color = 'red'\n",
        "      )\n",
        "    elif dataset [i][2] == 2:\n",
        "      plt.plot(dataset[i][0],\n",
        "                dataset[i][1],\n",
        "                '<',\n",
        "                markersize = 10,\n",
        "                alpha = 0.75,\n",
        "                color = 'purple'\n",
        "      )\n",
        "  plt.xlabel(r'x_0')\n",
        "  plt.ylabel(r'x_1')\n",
        "  plt.show()"
      ],
      "execution_count": 192,
      "outputs": []
    },
    {
      "cell_type": "code",
      "metadata": {
        "colab": {
          "base_uri": "https://localhost:8080/"
        },
        "id": "nSm52eDxv61T",
        "outputId": "a8c4bb79-65d8-4bc7-d50a-8c3cfe1adee9"
      },
      "source": [
        "# get test vs train data:\n",
        "iris_data = get_test_train_data()\n",
        "train_x = iris_data[0]\n",
        "train_y = iris_data[1]\n",
        "test_x  = iris_data[2]\n",
        "test_y  = iris_data[3]\n",
        "# Driver for iris dataset:\n",
        "correct_output = 0\n",
        "for i in range(len(test_x) ):\n",
        "  result = implement_knn(5, test_x[i][0], test_y[i][0], train_x, train_y)\n",
        "  if result == test_y[i]:\n",
        "    correct_output += 1\n",
        "# Determine percentage of correct output:\n",
        "percentage_correct = correct_output/len(test_y)\n",
        "# blue = setosa, red = versicolor, purple = virginica\n",
        "print(\"RESULT\", percentage_correct)\n"
      ],
      "execution_count": 193,
      "outputs": [
        {
          "output_type": "stream",
          "text": [
            "RESULT 1.0\n"
          ],
          "name": "stdout"
        }
      ]
    }
  ]
}