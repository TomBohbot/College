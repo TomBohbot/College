{
  "nbformat": 4,
  "nbformat_minor": 0,
  "metadata": {
    "colab": {
      "name": "Iris_Random__Forest.ipynb",
      "provenance": [],
      "collapsed_sections": []
    },
    "kernelspec": {
      "name": "python3",
      "display_name": "Python 3"
    }
  },
  "cells": [
    {
      "cell_type": "code",
      "metadata": {
        "id": "CaMwYttUcXUJ"
      },
      "source": [
        "# Necessary import statements:\n",
        "from sklearn.ensemble import RandomForestClassifier\n",
        "from sklearn.datasets import load_iris\n",
        "from sklearn.model_selection import train_test_split"
      ],
      "execution_count": 10,
      "outputs": []
    },
    {
      "cell_type": "code",
      "metadata": {
        "id": "LX5NOMlycvHl"
      },
      "source": [
        "# load the iris dataset: \n",
        "iris_data = load_iris() \n",
        "\n",
        "# Set x as flower characteristics and y as target values:\n",
        "x = iris_data.data[:,[2,3] ]\n",
        "y = iris_data.target.reshape(-1, 1)\n",
        "\n",
        "# Split the data for training and testing:\n",
        "train_x, test_x, train_y, test_y = train_test_split(x, y, test_size=0.20)"
      ],
      "execution_count": 11,
      "outputs": []
    },
    {
      "cell_type": "code",
      "metadata": {
        "colab": {
          "base_uri": "https://localhost:8080/"
        },
        "id": "Q5UIiNToc1oM",
        "outputId": "a7e11f62-937b-4ec6-b366-1cb992233bca"
      },
      "source": [
        "# Create a random forest classifier per Geron page 197.\n",
        "rnd_clf = RandomForestClassifier(n_estimators=500, max_leaf_nodes=16, n_jobs=-1)\n",
        "rnd_clf.fit(train_x, train_y)\n",
        "y_pred_rf = rnd_clf.predict(test_x)"
      ],
      "execution_count": 12,
      "outputs": [
        {
          "output_type": "stream",
          "text": [
            "/usr/local/lib/python3.7/dist-packages/ipykernel_launcher.py:2: DataConversionWarning: A column-vector y was passed when a 1d array was expected. Please change the shape of y to (n_samples,), for example using ravel().\n",
            "  \n"
          ],
          "name": "stderr"
        }
      ]
    },
    {
      "cell_type": "code",
      "metadata": {
        "colab": {
          "base_uri": "https://localhost:8080/"
        },
        "id": "EFHXtjitd5dz",
        "outputId": "f4428655-5d61-4eb4-a195-92f23268a17c"
      },
      "source": [
        "# Find out how accurate the random forest generator is:\n",
        "correct = 0\n",
        "for i in range(len(y_pred_rf) ):\n",
        "  if y_pred_rf[i] == test_y[i]:\n",
        "    correct += 1\n",
        "per_correct = correct/len(y_pred_rf)\n",
        "print(per_correct)"
      ],
      "execution_count": 13,
      "outputs": [
        {
          "output_type": "stream",
          "text": [
            "1.0\n"
          ],
          "name": "stdout"
        }
      ]
    }
  ]
}