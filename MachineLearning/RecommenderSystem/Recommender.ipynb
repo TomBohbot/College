{
  "nbformat": 4,
  "nbformat_minor": 0,
  "metadata": {
    "colab": {
      "name": "ml_final.ipynb",
      "provenance": [],
      "collapsed_sections": [
        "3RDinazJeAym",
        "lGvojaIwfSLZ",
        "_7VsVSkNk1A2",
        "tdBVOuCm2NQ_",
        "MUckQPFd-8EK",
        "9jHej7UBmpZh",
        "O5KtmdAp_QXz"
      ]
    },
    "kernelspec": {
      "name": "python3",
      "display_name": "Python 3"
    },
    "language_info": {
      "name": "python"
    }
  },
  "cells": [
    {
      "cell_type": "markdown",
      "metadata": {
        "id": "3RDinazJeAym"
      },
      "source": [
        "# Setting up "
      ]
    },
    {
      "cell_type": "code",
      "metadata": {
        "colab": {
          "base_uri": "https://localhost:8080/"
        },
        "id": "_CXjHRGmd7aQ",
        "outputId": "cc20f205-a0ab-4fe1-9e26-bf1622c6c003"
      },
      "source": [
        "# Necessary import statements:\n",
        "!pip install lenskit\n",
        "!git clone https://github.com/crash-course-ai/lab4-recommender-systems.git\n",
        "\n",
        "link='http://files.grouplens.org/datasets/movielens/ml-100k.zip'\n",
        "\n",
        "!wget -nc http://files.grouplens.org/datasets/movielens/ml-100k.zip\n",
        "!unzip -n ml-100k.zip\n",
        "\n",
        "import lenskit.datasets as ds\n",
        "import pandas as pd\n",
        "import numpy as np\n",
        "from sklearn.metrics.pairwise import pairwise_distances \n",
        "from sklearn.model_selection import train_test_split\n",
        "from sklearn.preprocessing import LabelEncoder\n",
        "from keras import backend\n",
        "import keras\n",
        "import tensorflow as tf\n",
        "import matplotlib.pyplot as plt\n",
        "from sklearn.metrics.pairwise import cosine_similarity\n",
        "from itertools import combinations\n",
        "from sklearn.feature_extraction.text import TfidfVectorizer"
      ],
      "execution_count": 123,
      "outputs": [
        {
          "output_type": "stream",
          "text": [
            "Requirement already satisfied: lenskit in /usr/local/lib/python3.7/dist-packages (0.12.3)\n",
            "Requirement already satisfied: binpickle>=0.3.2 in /usr/local/lib/python3.7/dist-packages (from lenskit) (0.3.3)\n",
            "Requirement already satisfied: pyarrow>=0.15 in /usr/local/lib/python3.7/dist-packages (from lenskit) (3.0.0)\n",
            "Requirement already satisfied: csr<0.3,>=0.2 in /usr/local/lib/python3.7/dist-packages (from lenskit) (0.2.0)\n",
            "Requirement already satisfied: pandas>=0.24 in /usr/local/lib/python3.7/dist-packages (from lenskit) (1.1.5)\n",
            "Requirement already satisfied: cffi>=1.12.2 in /usr/local/lib/python3.7/dist-packages (from lenskit) (1.14.5)\n",
            "Requirement already satisfied: numba<0.53,>=0.51 in /usr/local/lib/python3.7/dist-packages (from lenskit) (0.51.2)\n",
            "Requirement already satisfied: numpy>=1.16 in /usr/local/lib/python3.7/dist-packages (from lenskit) (1.19.5)\n",
            "Requirement already satisfied: scipy>=1.2 in /usr/local/lib/python3.7/dist-packages (from lenskit) (1.4.1)\n",
            "Requirement already satisfied: pickle5; python_version < \"3.8\" in /usr/local/lib/python3.7/dist-packages (from binpickle>=0.3.2->lenskit) (0.0.11)\n",
            "Requirement already satisfied: msgpack>=1.0 in /usr/local/lib/python3.7/dist-packages (from binpickle>=0.3.2->lenskit) (1.0.2)\n",
            "Requirement already satisfied: python-dateutil>=2.7.3 in /usr/local/lib/python3.7/dist-packages (from pandas>=0.24->lenskit) (2.8.1)\n",
            "Requirement already satisfied: pytz>=2017.2 in /usr/local/lib/python3.7/dist-packages (from pandas>=0.24->lenskit) (2018.9)\n",
            "Requirement already satisfied: pycparser in /usr/local/lib/python3.7/dist-packages (from cffi>=1.12.2->lenskit) (2.20)\n",
            "Requirement already satisfied: llvmlite<0.35,>=0.34.0.dev0 in /usr/local/lib/python3.7/dist-packages (from numba<0.53,>=0.51->lenskit) (0.34.0)\n",
            "Requirement already satisfied: setuptools in /usr/local/lib/python3.7/dist-packages (from numba<0.53,>=0.51->lenskit) (56.1.0)\n",
            "Requirement already satisfied: six>=1.5 in /usr/local/lib/python3.7/dist-packages (from python-dateutil>=2.7.3->pandas>=0.24->lenskit) (1.15.0)\n",
            "fatal: destination path 'lab4-recommender-systems' already exists and is not an empty directory.\n",
            "File ‘ml-100k.zip’ already there; not retrieving.\n",
            "\n",
            "Archive:  ml-100k.zip\n"
          ],
          "name": "stdout"
        }
      ]
    },
    {
      "cell_type": "code",
      "metadata": {
        "id": "CJkG8cY_e058"
      },
      "source": [
        "# save movie data\n",
        "movies = ds.MovieLens('lab4-recommender-systems/')"
      ],
      "execution_count": 124,
      "outputs": []
    },
    {
      "cell_type": "code",
      "metadata": {
        "id": "teCGhEtbl8me"
      },
      "source": [
        "# use a different data set as well for model 2:\n",
        "# overall_stats = pd.read_csv('ml-100k/u.info', header=None)\n",
        "\n",
        "# set up df for ratings data set:\n",
        "col_one = ['user id','movie id','rating','timestamp']\n",
        "ratings_dataset = pd.read_csv('ml-100k/u.data', sep='\\t',header=None,names=col_one) # it is a tab seperated file\n",
        "\n",
        "# set up df for items which is not tab seperated, but seperated by '|':\n",
        "d = 'movie id | movie title | release date | video release date | IMDb URL | unknown | Action | Adventure | Animation | Children | Comedy | Crime | Documentary | Drama | Fantasy | Film-Noir | Horror | Musical | Mystery | Romance | Sci-Fi | Thriller | War | Western'\n",
        "column_two = d.split(' | ')\n",
        "items_dataset = pd.read_csv('ml-100k/u.item', sep='|',header=None,names=column_two,encoding='latin-1')\n",
        "movie_dataset = items_dataset[['movie id','movie title']]"
      ],
      "execution_count": 125,
      "outputs": []
    },
    {
      "cell_type": "markdown",
      "metadata": {
        "id": "lGvojaIwfSLZ"
      },
      "source": [
        "# Data Exploration"
      ]
    },
    {
      "cell_type": "code",
      "metadata": {
        "colab": {
          "base_uri": "https://localhost:8080/"
        },
        "id": "2ut1zCsgfOQn",
        "outputId": "cebdff15-91c9-48f2-ad61-7d5e6f26e668"
      },
      "source": [
        "# look at the ratings data:\n",
        "print(len(movies.ratings))\n",
        "movies.ratings.head(100)\n",
        "hi = movies.ratings.item"
      ],
      "execution_count": 126,
      "outputs": [
        {
          "output_type": "stream",
          "text": [
            "100836\n"
          ],
          "name": "stdout"
        }
      ]
    },
    {
      "cell_type": "markdown",
      "metadata": {
        "id": "sGpatx1lgV8P"
      },
      "source": [
        "There are 100,836 total entries and 610 different users, with an average of 165 ratings per user. \\\\\n",
        "The first 222 entries are made up of user 1 ratings, and user 2 starts and 223 and so on.. \\\\\n",
        "This shows that there is a lot of data per user to be played with."
      ]
    },
    {
      "cell_type": "code",
      "metadata": {
        "colab": {
          "base_uri": "https://localhost:8080/",
          "height": 455
        },
        "id": "2wk91esOhWy_",
        "outputId": "2145beb4-bf14-4a0a-bdba-0b5d7a0e4a22"
      },
      "source": [
        "# look at the movies data:\n",
        "print(len(movies.movies))\n",
        "movies.movies.head(100)"
      ],
      "execution_count": 127,
      "outputs": [
        {
          "output_type": "stream",
          "text": [
            "9742\n"
          ],
          "name": "stdout"
        },
        {
          "output_type": "execute_result",
          "data": {
            "text/html": [
              "<div>\n",
              "<style scoped>\n",
              "    .dataframe tbody tr th:only-of-type {\n",
              "        vertical-align: middle;\n",
              "    }\n",
              "\n",
              "    .dataframe tbody tr th {\n",
              "        vertical-align: top;\n",
              "    }\n",
              "\n",
              "    .dataframe thead th {\n",
              "        text-align: right;\n",
              "    }\n",
              "</style>\n",
              "<table border=\"1\" class=\"dataframe\">\n",
              "  <thead>\n",
              "    <tr style=\"text-align: right;\">\n",
              "      <th></th>\n",
              "      <th>title</th>\n",
              "      <th>genres</th>\n",
              "    </tr>\n",
              "    <tr>\n",
              "      <th>item</th>\n",
              "      <th></th>\n",
              "      <th></th>\n",
              "    </tr>\n",
              "  </thead>\n",
              "  <tbody>\n",
              "    <tr>\n",
              "      <th>1</th>\n",
              "      <td>Toy Story (1995)</td>\n",
              "      <td>Adventure|Animation|Children|Comedy|Fantasy</td>\n",
              "    </tr>\n",
              "    <tr>\n",
              "      <th>2</th>\n",
              "      <td>Jumanji (1995)</td>\n",
              "      <td>Adventure|Children|Fantasy</td>\n",
              "    </tr>\n",
              "    <tr>\n",
              "      <th>3</th>\n",
              "      <td>Grumpier Old Men (1995)</td>\n",
              "      <td>Comedy|Romance</td>\n",
              "    </tr>\n",
              "    <tr>\n",
              "      <th>4</th>\n",
              "      <td>Waiting to Exhale (1995)</td>\n",
              "      <td>Comedy|Drama|Romance</td>\n",
              "    </tr>\n",
              "    <tr>\n",
              "      <th>5</th>\n",
              "      <td>Father of the Bride Part II (1995)</td>\n",
              "      <td>Comedy</td>\n",
              "    </tr>\n",
              "    <tr>\n",
              "      <th>...</th>\n",
              "      <td>...</td>\n",
              "      <td>...</td>\n",
              "    </tr>\n",
              "    <tr>\n",
              "      <th>107</th>\n",
              "      <td>Muppet Treasure Island (1996)</td>\n",
              "      <td>Adventure|Children|Comedy|Musical</td>\n",
              "    </tr>\n",
              "    <tr>\n",
              "      <th>108</th>\n",
              "      <td>Catwalk (1996)</td>\n",
              "      <td>Documentary</td>\n",
              "    </tr>\n",
              "    <tr>\n",
              "      <th>110</th>\n",
              "      <td>Braveheart (1995)</td>\n",
              "      <td>Action|Drama|War</td>\n",
              "    </tr>\n",
              "    <tr>\n",
              "      <th>111</th>\n",
              "      <td>Taxi Driver (1976)</td>\n",
              "      <td>Crime|Drama|Thriller</td>\n",
              "    </tr>\n",
              "    <tr>\n",
              "      <th>112</th>\n",
              "      <td>Rumble in the Bronx (Hont faan kui) (1995)</td>\n",
              "      <td>Action|Adventure|Comedy|Crime</td>\n",
              "    </tr>\n",
              "  </tbody>\n",
              "</table>\n",
              "<p>100 rows × 2 columns</p>\n",
              "</div>"
            ],
            "text/plain": [
              "                                           title                                       genres\n",
              "item                                                                                         \n",
              "1                               Toy Story (1995)  Adventure|Animation|Children|Comedy|Fantasy\n",
              "2                                 Jumanji (1995)                   Adventure|Children|Fantasy\n",
              "3                        Grumpier Old Men (1995)                               Comedy|Romance\n",
              "4                       Waiting to Exhale (1995)                         Comedy|Drama|Romance\n",
              "5             Father of the Bride Part II (1995)                                       Comedy\n",
              "...                                          ...                                          ...\n",
              "107                Muppet Treasure Island (1996)            Adventure|Children|Comedy|Musical\n",
              "108                               Catwalk (1996)                                  Documentary\n",
              "110                            Braveheart (1995)                             Action|Drama|War\n",
              "111                           Taxi Driver (1976)                         Crime|Drama|Thriller\n",
              "112   Rumble in the Bronx (Hont faan kui) (1995)                Action|Adventure|Comedy|Crime\n",
              "\n",
              "[100 rows x 2 columns]"
            ]
          },
          "metadata": {
            "tags": []
          },
          "execution_count": 127
        }
      ]
    },
    {
      "cell_type": "markdown",
      "metadata": {
        "id": "YB-beVnjhg97"
      },
      "source": [
        "The data seems to not have missing values. \\\\\n",
        "There are a total of 9,742 movies in this data set. \\\\\n",
        "Every movie is correlated to an item, which must be the item that is being rated in the 'ratings' data"
      ]
    },
    {
      "cell_type": "code",
      "metadata": {
        "colab": {
          "base_uri": "https://localhost:8080/",
          "height": 425
        },
        "id": "yH25toAYh5Fr",
        "outputId": "dab9f7cb-4403-40b7-9a6c-ed521fc2e786"
      },
      "source": [
        "# look at the tags data:\n",
        "print(len(movies.tags))\n",
        "movies.tags.head(100)"
      ],
      "execution_count": 128,
      "outputs": [
        {
          "output_type": "stream",
          "text": [
            "3683\n"
          ],
          "name": "stdout"
        },
        {
          "output_type": "execute_result",
          "data": {
            "text/html": [
              "<div>\n",
              "<style scoped>\n",
              "    .dataframe tbody tr th:only-of-type {\n",
              "        vertical-align: middle;\n",
              "    }\n",
              "\n",
              "    .dataframe tbody tr th {\n",
              "        vertical-align: top;\n",
              "    }\n",
              "\n",
              "    .dataframe thead th {\n",
              "        text-align: right;\n",
              "    }\n",
              "</style>\n",
              "<table border=\"1\" class=\"dataframe\">\n",
              "  <thead>\n",
              "    <tr style=\"text-align: right;\">\n",
              "      <th></th>\n",
              "      <th>user</th>\n",
              "      <th>item</th>\n",
              "      <th>tag</th>\n",
              "      <th>timestamp</th>\n",
              "    </tr>\n",
              "  </thead>\n",
              "  <tbody>\n",
              "    <tr>\n",
              "      <th>0</th>\n",
              "      <td>2</td>\n",
              "      <td>60756</td>\n",
              "      <td>funny</td>\n",
              "      <td>1445714994</td>\n",
              "    </tr>\n",
              "    <tr>\n",
              "      <th>1</th>\n",
              "      <td>2</td>\n",
              "      <td>60756</td>\n",
              "      <td>Highly quotable</td>\n",
              "      <td>1445714996</td>\n",
              "    </tr>\n",
              "    <tr>\n",
              "      <th>2</th>\n",
              "      <td>2</td>\n",
              "      <td>60756</td>\n",
              "      <td>will ferrell</td>\n",
              "      <td>1445714992</td>\n",
              "    </tr>\n",
              "    <tr>\n",
              "      <th>3</th>\n",
              "      <td>2</td>\n",
              "      <td>89774</td>\n",
              "      <td>Boxing story</td>\n",
              "      <td>1445715207</td>\n",
              "    </tr>\n",
              "    <tr>\n",
              "      <th>4</th>\n",
              "      <td>2</td>\n",
              "      <td>89774</td>\n",
              "      <td>MMA</td>\n",
              "      <td>1445715200</td>\n",
              "    </tr>\n",
              "    <tr>\n",
              "      <th>...</th>\n",
              "      <td>...</td>\n",
              "      <td>...</td>\n",
              "      <td>...</td>\n",
              "      <td>...</td>\n",
              "    </tr>\n",
              "    <tr>\n",
              "      <th>95</th>\n",
              "      <td>62</td>\n",
              "      <td>6541</td>\n",
              "      <td>captain nemo</td>\n",
              "      <td>1525554054</td>\n",
              "    </tr>\n",
              "    <tr>\n",
              "      <th>96</th>\n",
              "      <td>62</td>\n",
              "      <td>6541</td>\n",
              "      <td>comic book</td>\n",
              "      <td>1525554028</td>\n",
              "    </tr>\n",
              "    <tr>\n",
              "      <th>97</th>\n",
              "      <td>62</td>\n",
              "      <td>6541</td>\n",
              "      <td>gothic</td>\n",
              "      <td>1525554056</td>\n",
              "    </tr>\n",
              "    <tr>\n",
              "      <th>98</th>\n",
              "      <td>62</td>\n",
              "      <td>6541</td>\n",
              "      <td>Peta Wilson</td>\n",
              "      <td>1525554040</td>\n",
              "    </tr>\n",
              "    <tr>\n",
              "      <th>99</th>\n",
              "      <td>62</td>\n",
              "      <td>6541</td>\n",
              "      <td>Sean Connery</td>\n",
              "      <td>1525554026</td>\n",
              "    </tr>\n",
              "  </tbody>\n",
              "</table>\n",
              "<p>100 rows × 4 columns</p>\n",
              "</div>"
            ],
            "text/plain": [
              "    user   item              tag   timestamp\n",
              "0      2  60756            funny  1445714994\n",
              "1      2  60756  Highly quotable  1445714996\n",
              "2      2  60756     will ferrell  1445714992\n",
              "3      2  89774     Boxing story  1445715207\n",
              "4      2  89774              MMA  1445715200\n",
              "..   ...    ...              ...         ...\n",
              "95    62   6541     captain nemo  1525554054\n",
              "96    62   6541       comic book  1525554028\n",
              "97    62   6541           gothic  1525554056\n",
              "98    62   6541      Peta Wilson  1525554040\n",
              "99    62   6541     Sean Connery  1525554026\n",
              "\n",
              "[100 rows x 4 columns]"
            ]
          },
          "metadata": {
            "tags": []
          },
          "execution_count": 128
        }
      ]
    },
    {
      "cell_type": "markdown",
      "metadata": {
        "id": "VLzksz9miESQ"
      },
      "source": [
        "The data seems to not have missing values. \\\\\n",
        "There are a total of 3,683 tags in this data set. \\\\\n",
        "A tag is what this movie is associted with. It is interesting to not that a tag can range from a character in the movie, to theme, to acto in movie, etc. May cause problems down line to have such a generic column of data. \n",
        "\n",
        "Item is correlatd to the item in movie data which is correlated to movie."
      ]
    },
    {
      "cell_type": "code",
      "metadata": {
        "colab": {
          "base_uri": "https://localhost:8080/",
          "height": 455
        },
        "id": "9KY1AEdfjB-a",
        "outputId": "bfcac981-0391-49bc-fb9a-add86ea9f26d"
      },
      "source": [
        "# look at the links data:\n",
        "print(len(movies.links))\n",
        "movies.links.head(100)"
      ],
      "execution_count": 129,
      "outputs": [
        {
          "output_type": "stream",
          "text": [
            "9742\n"
          ],
          "name": "stdout"
        },
        {
          "output_type": "execute_result",
          "data": {
            "text/html": [
              "<div>\n",
              "<style scoped>\n",
              "    .dataframe tbody tr th:only-of-type {\n",
              "        vertical-align: middle;\n",
              "    }\n",
              "\n",
              "    .dataframe tbody tr th {\n",
              "        vertical-align: top;\n",
              "    }\n",
              "\n",
              "    .dataframe thead th {\n",
              "        text-align: right;\n",
              "    }\n",
              "</style>\n",
              "<table border=\"1\" class=\"dataframe\">\n",
              "  <thead>\n",
              "    <tr style=\"text-align: right;\">\n",
              "      <th></th>\n",
              "      <th>imdbId</th>\n",
              "      <th>tmdbId</th>\n",
              "    </tr>\n",
              "    <tr>\n",
              "      <th>item</th>\n",
              "      <th></th>\n",
              "      <th></th>\n",
              "    </tr>\n",
              "  </thead>\n",
              "  <tbody>\n",
              "    <tr>\n",
              "      <th>1</th>\n",
              "      <td>114709</td>\n",
              "      <td>862</td>\n",
              "    </tr>\n",
              "    <tr>\n",
              "      <th>2</th>\n",
              "      <td>113497</td>\n",
              "      <td>8844</td>\n",
              "    </tr>\n",
              "    <tr>\n",
              "      <th>3</th>\n",
              "      <td>113228</td>\n",
              "      <td>15602</td>\n",
              "    </tr>\n",
              "    <tr>\n",
              "      <th>4</th>\n",
              "      <td>114885</td>\n",
              "      <td>31357</td>\n",
              "    </tr>\n",
              "    <tr>\n",
              "      <th>5</th>\n",
              "      <td>113041</td>\n",
              "      <td>11862</td>\n",
              "    </tr>\n",
              "    <tr>\n",
              "      <th>...</th>\n",
              "      <td>...</td>\n",
              "      <td>...</td>\n",
              "    </tr>\n",
              "    <tr>\n",
              "      <th>107</th>\n",
              "      <td>117110</td>\n",
              "      <td>10874</td>\n",
              "    </tr>\n",
              "    <tr>\n",
              "      <th>108</th>\n",
              "      <td>112646</td>\n",
              "      <td>89333</td>\n",
              "    </tr>\n",
              "    <tr>\n",
              "      <th>110</th>\n",
              "      <td>112573</td>\n",
              "      <td>197</td>\n",
              "    </tr>\n",
              "    <tr>\n",
              "      <th>111</th>\n",
              "      <td>75314</td>\n",
              "      <td>103</td>\n",
              "    </tr>\n",
              "    <tr>\n",
              "      <th>112</th>\n",
              "      <td>113326</td>\n",
              "      <td>33542</td>\n",
              "    </tr>\n",
              "  </tbody>\n",
              "</table>\n",
              "<p>100 rows × 2 columns</p>\n",
              "</div>"
            ],
            "text/plain": [
              "      imdbId  tmdbId\n",
              "item                \n",
              "1     114709     862\n",
              "2     113497    8844\n",
              "3     113228   15602\n",
              "4     114885   31357\n",
              "5     113041   11862\n",
              "...      ...     ...\n",
              "107   117110   10874\n",
              "108   112646   89333\n",
              "110   112573     197\n",
              "111    75314     103\n",
              "112   113326   33542\n",
              "\n",
              "[100 rows x 2 columns]"
            ]
          },
          "metadata": {
            "tags": []
          },
          "execution_count": 129
        }
      ]
    },
    {
      "cell_type": "markdown",
      "metadata": {
        "id": "HgWRMq9hjBvT"
      },
      "source": [
        "There are 9,742 rows of data which makes sense since this links the movie to the imdb reference so there must be the same amount of rows\n",
        "\n",
        "This data seems like it will not require cleaning, and am not sure how important it will be to the recommender system, seems like it is here just to reference."
      ]
    },
    {
      "cell_type": "markdown",
      "metadata": {
        "id": "_7VsVSkNk1A2"
      },
      "source": [
        "# Base line model\n",
        "Create a baseline model through using mean of ratings as specified in requirements doc"
      ]
    },
    {
      "cell_type": "code",
      "metadata": {
        "colab": {
          "base_uri": "https://localhost:8080/"
        },
        "id": "X9JCq3kGk5s3",
        "outputId": "9850daf9-702a-44be-cb88-f1a86d53550d"
      },
      "source": [
        "# take the average rating of each movie:\n",
        "average_ratings = movies.ratings.groupby(['item'], as_index=False).mean()\n",
        "\n",
        "# sort the ratings to get the highest rated movies on top:\n",
        "sorted_average_ratings = average_ratings.sort_values(by=\"rating\", ascending=False)\n",
        "\n",
        "# do a join on item to movie title so that we know what each rating corresponds to:\n",
        "baseline_recommender_df = sorted_average_ratings.merge(movies.movies['title'], on='item')\n",
        "\n",
        "baseline_recommender = baseline_recommender_df['title']\n",
        "\n",
        "# display base line recommender: Since it is base line, it would work for any user.\n",
        "print(baseline_recommender.head())\n",
        "\n",
        "# the movies may be unknown because there is no specification on how many people myst rate a movie. So one perfect rating could potentially be at the top of the list. Since this is just a baseline model it does not have to be imporved, per the requirements."
      ],
      "execution_count": 130,
      "outputs": [
        {
          "output_type": "stream",
          "text": [
            "0    Paper Birds (Pájaros de papel) (2010)\n",
            "1               Act of Killing, The (2012)\n",
            "2                          Jump In! (2007)\n",
            "3                             Human (2015)\n",
            "4                      L.A. Slasher (2015)\n",
            "Name: title, dtype: object\n"
          ],
          "name": "stdout"
        }
      ]
    },
    {
      "cell_type": "markdown",
      "metadata": {
        "id": "tdBVOuCm2NQ_"
      },
      "source": [
        "# Simple Model -- Illustrate predicting movies per user\n",
        "Collabarative Filtering using a model based approach. I will use a model based approach as it does not demand as much memory storage, and will take advantage of dimensionality reduction."
      ]
    },
    {
      "cell_type": "code",
      "metadata": {
        "colab": {
          "base_uri": "https://localhost:8080/"
        },
        "id": "nUvS3Lco4m13",
        "outputId": "74693aea-ab0e-405b-d6e6-a5073cfbd7e0"
      },
      "source": [
        "# find num of users and items to recommend based on user to user and item to item similarity:\n",
        "num_users = len(pd.unique(movies.ratings['user']) )\n",
        "num_items = len(pd.unique(movies.ratings['item']) )\n",
        "\n",
        "print('number of users:', num_users)\n",
        "print('number of items:', num_items)"
      ],
      "execution_count": 9,
      "outputs": [
        {
          "output_type": "stream",
          "text": [
            "number of users: 610\n",
            "number of items: 9724\n"
          ],
          "name": "stdout"
        }
      ]
    },
    {
      "cell_type": "code",
      "metadata": {
        "id": "ub2I7ysBhmOL"
      },
      "source": [
        "# train/test split the movies:\n",
        "X_train, X_test, y_train, y_test = train_test_split(movies.ratings, movies.ratings, test_size=0.33) # I dont require the y variables since there is no pre-determined correct output. just setting it so i don't get an error."
      ],
      "execution_count": 10,
      "outputs": []
    },
    {
      "cell_type": "markdown",
      "metadata": {
        "id": "GlwZJP4aEoX_"
      },
      "source": [
        "Find similarity between users and items"
      ]
    },
    {
      "cell_type": "code",
      "metadata": {
        "id": "Q_lefXPODupL"
      },
      "source": [
        "# before creating a user-item matrix I must make the items range from 0-5,973  to be able to have it in a way that I can reference it as an index in the user-item matrix:\n",
        "item_to_index = {}\n",
        "counter = 0\n",
        "for item in pd.unique(movies.ratings['item']):\n",
        "  item_to_index[item] = counter\n",
        "  counter += 1\n",
        "# first must create a user-item matrix:\n",
        "user_item_matrix = np.zeros((num_users, num_items))\n",
        "for line in movies.ratings.itertuples():\n",
        "  user_item_matrix[line.user-1, item_to_index.get(line.item)] = line.rating # subtract 1 to adjust to a zero indexed array.\n",
        "  # user_item_matrix[line.user-1, line.item%line.user] = line.rating # subtract 1 to adjust to a zero indexed array."
      ],
      "execution_count": 11,
      "outputs": []
    },
    {
      "cell_type": "code",
      "metadata": {
        "id": "0qJQQrEhu3_N"
      },
      "source": [
        "# find similarity:\n",
        "user_similarity = pairwise_distances(user_item_matrix, metric='cosine')"
      ],
      "execution_count": 12,
      "outputs": []
    },
    {
      "cell_type": "code",
      "metadata": {
        "id": "BQzF1xk8vDyJ"
      },
      "source": [
        "# This code will predict what movies a user will like through using collabarative filtering\n",
        "def predict(ratings, similarity):\n",
        "    mean_user_rating = ratings.mean(axis=1)\n",
        "    ratings_diff = (ratings - mean_user_rating[:, np.newaxis])\n",
        "    pred = mean_user_rating[:, np.newaxis] + similarity.dot(ratings_diff) / np.array([np.abs(similarity).sum(axis=1)]).T\n",
        "    return pred"
      ],
      "execution_count": 13,
      "outputs": []
    },
    {
      "cell_type": "code",
      "metadata": {
        "id": "dvzCyUQMvE9E"
      },
      "source": [
        "# predictions of how much a user will like every movie, and outputs a matrix representing every user:\n",
        "user_prediction = predict(user_item_matrix, user_similarity)"
      ],
      "execution_count": 14,
      "outputs": []
    },
    {
      "cell_type": "code",
      "metadata": {
        "id": "VzWJTjn_lNyb"
      },
      "source": [
        "# dictionary to easily get movie title from item(movie id):\n",
        "item_to_title = {}\n",
        "for line in movies.movies.itertuples():\n",
        "  item_to_title[line.Index] = line.title\n",
        "\n",
        "# recommend movies:\n",
        "def recommend_k_movies_to_user(user, k):\n",
        "  # find indices of movies to recommend:\n",
        "  user_preds = user_prediction[user-1]\n",
        "  # find 5 lowest indices:\n",
        "  k_preds = []\n",
        "  k_preds = (np.argsort(user_preds, axis=0)[0:5])\n",
        "  print(k_preds)\n",
        "  # convert those indices to movie ids(items):\n",
        "  movie_ids = []\n",
        "  for index in k_preds:\n",
        "    movie_ids.append(item_to_index.get(index))\n",
        "  # convert movie ids to movie titles:\n",
        "  print(movie_ids)\n",
        "  movie_names = []\n",
        "  # for id in movie_ids:\n",
        "  #   movie_names.append(item_to_title.get(id))\n",
        "  return movie_ids"
      ],
      "execution_count": 15,
      "outputs": []
    },
    {
      "cell_type": "code",
      "metadata": {
        "colab": {
          "base_uri": "https://localhost:8080/"
        },
        "id": "NjCGyC9-Y8SS",
        "outputId": "7754affd-f6e2-4344-977e-742f0b968476"
      },
      "source": [
        "# get the top k movie suggestions per user:\n",
        "def get_recs(user_prediction, user, number_of_suggestions):\n",
        "  # user the user matrix to suggest a movie\n",
        "  user_index = []\n",
        "  for i in range(num_users):\n",
        "    user_index.append(np.argsort(user_prediction[i], axis=0)[:])\n",
        "  # get movie titles that should be recommended to user:\n",
        "  recs = []\n",
        "  for person in user_index:\n",
        "    user_pred = []\n",
        "    for i in person:\n",
        "      if len(user_pred) == number_of_suggestions:\n",
        "        break\n",
        "      if item_to_title.get(i) != None:\n",
        "        user_pred.append(item_to_title.get(i) )\n",
        "    recs.append(user_pred)\n",
        "  return recs[user-1] # return user -1 as users are 1-indexed but the list is zero indexed\n",
        "\n",
        "# evaluate function: show that it outputs movies\n",
        "print(get_recs(user_prediction, 382, 1))"
      ],
      "execution_count": 16,
      "outputs": [
        {
          "output_type": "stream",
          "text": [
            "['Reefer Madness (a.k.a. Tell Your Children) (1938)']\n"
          ],
          "name": "stdout"
        }
      ]
    },
    {
      "cell_type": "markdown",
      "metadata": {
        "id": "MUckQPFd-8EK"
      },
      "source": [
        "#RMSE Simple Model 1 (Model 2 is my main model)"
      ]
    },
    {
      "cell_type": "markdown",
      "metadata": {
        "id": "upskF_41EHrw"
      },
      "source": [
        "I ran into a problem trying to munge this data to fit a keras model to calculate the RMSE score so I did a similar model using a different data set in the next dropdown. I am still leaving this code as it is still functional in predicting movies and shows an alternative method. Additionally it uses the above drop down, which I found very interesting."
      ]
    },
    {
      "cell_type": "code",
      "metadata": {
        "id": "3Dp5Kccv--Mz"
      },
      "source": [
        "merged_dataset = pd.merge(movies.ratings, movies.movies, how='inner', on='item')\n",
        "\n",
        "refined_dataset = merged_dataset.groupby(by=['user','title'], as_index=False).agg({\"rating\":\"mean\"})"
      ],
      "execution_count": 18,
      "outputs": []
    },
    {
      "cell_type": "code",
      "metadata": {
        "colab": {
          "base_uri": "https://localhost:8080/"
        },
        "id": "bV0Gu4P0pSTf",
        "outputId": "e0546e6b-374b-444e-ccf5-5ae41c7ca5b9"
      },
      "source": [
        "# clean the data so the join is good\n",
        "merged_dataset = pd.merge(movies.ratings, movies.movies, how='inner', on='item')\n",
        "\n",
        "# use a label encoder \n",
        "label_encoder = LabelEncoder()\n",
        "refined_dataset['user'] = label_encoder.fit_transform(refined_dataset['user'].values)\n",
        "\n",
        "# get the number of users:\n",
        "n_users = refined_dataset['user'].nunique()\n",
        "\n",
        "# encode the items (helps unify):\n",
        "item_enc = LabelEncoder()\n",
        "refined_dataset['movie'] = item_enc.fit_transform(refined_dataset['title'].values)\n",
        "\n",
        "# find number of movies\n",
        "n_movies = refined_dataset['movie'].nunique()\n",
        "\n",
        "refined_dataset['rating'] = refined_dataset['rating'].values.astype(np.float32)\n",
        "min_rating = min(refined_dataset['rating'])\n",
        "max_rating = max(refined_dataset['rating'])\n",
        "n_users, n_movies, min_rating, max_rating"
      ],
      "execution_count": 19,
      "outputs": [
        {
          "output_type": "execute_result",
          "data": {
            "text/plain": [
              "(610, 9719, 0.5, 5.0)"
            ]
          },
          "metadata": {
            "tags": []
          },
          "execution_count": 19
        }
      ]
    },
    {
      "cell_type": "code",
      "metadata": {
        "colab": {
          "base_uri": "https://localhost:8080/"
        },
        "id": "T_FRE7ip_BU4",
        "outputId": "6a817d66-5a3b-47a9-8816-cc7ffea9f4db"
      },
      "source": [
        "# train/test split:\n",
        "X = refined_dataset[['user', 'movie']].values\n",
        "y = refined_dataset['rating'].values\n",
        "X_train, X_test, y_train, y_test = train_test_split(X, y, test_size=0.1, random_state=50)\n",
        "X_train.shape, X_test.shape, y_train.shape, y_test.shape\n",
        "\n",
        "# regularize X indices\n",
        "new_x = []\n",
        "prev_elem = None\n",
        "counter = 0\n",
        "for elem in X:\n",
        "  temp_elem = []\n",
        "  temp_elem.append(elem[0])\n",
        "  if elem[1] != prev_elem:\n",
        "    counter += 1\n",
        "  temp_elem.append(counter)\n",
        "  new_x.append(temp_elem)\n",
        "  prev_elem = elem[1]\n",
        "new_x = np.array(new_x)\n",
        "\n",
        "y = refined_dataset['rating'].values\n",
        "X_train, X_test, y_train, y_test = train_test_split(new_x, y, test_size=0.1, random_state=50)\n",
        "X_train.shape, X_test.shape, y_train.shape, y_test.shape"
      ],
      "execution_count": 31,
      "outputs": [
        {
          "output_type": "execute_result",
          "data": {
            "text/plain": [
              "((90748, 2), (10084, 2), (90748,), (10084,))"
            ]
          },
          "metadata": {
            "tags": []
          },
          "execution_count": 31
        }
      ]
    },
    {
      "cell_type": "code",
      "metadata": {
        "id": "nHptuCaM_JJY"
      },
      "source": [
        "# munge the train/test split:\n",
        "n_factors = 150\n",
        "X_train_array = [X_train[:, 0], X_train[:, 1]]\n",
        "X_test_array = [X_test[:, 0], X_test[:, 1]]\n",
        "X_train, X_train_array, X_train_array[0].shape\n",
        "y_train = (y_train - min_rating)/(max_rating - min_rating)\n",
        "y_test = (y_test - min_rating)/(max_rating - min_rating)"
      ],
      "execution_count": 32,
      "outputs": []
    },
    {
      "cell_type": "code",
      "metadata": {
        "id": "tcENn9kl-_DJ"
      },
      "source": [
        "# function to use as a custom metric in my model since rmse score is required:\n",
        "def rmse(y_true, y_pred):\n",
        "  return backend.sqrt(backend.mean(backend.square(y_pred - y_true), axis=-1))"
      ],
      "execution_count": 33,
      "outputs": []
    },
    {
      "cell_type": "code",
      "metadata": {
        "id": "MbC5bYMJ_pvW"
      },
      "source": [
        "# user = tf.keras.layers.Input(shape = (1,))\n",
        "# u = keras.layers.embeddings.Embedding(n_users, n_factors, embeddings_initializer = 'he_normal', embeddings_regularizer = tf.keras.regularizers.l2(1e-6))(user)\n",
        "# u = tf.keras.layers.Reshape((n_factors,))(u)\n",
        "# movie = tf.keras.layers.Input(shape = (1,))\n",
        "# m = keras.layers.embeddings.Embedding(n_movies, n_factors, embeddings_initializer = 'he_normal', embeddings_regularizer=tf.keras.regularizers.l2(1e-6))(movie)\n",
        "# m = tf.keras.layers.Reshape((n_factors,))(m)\n",
        "# x = tf.keras.layers.Activation(activation='relu')(x)\n",
        "# x = tf.keras.layers.Dense(9)(x)\n",
        "# x = tf.keras.layers.Activation(activation='softmax')(x)\n",
        "# model = tf.keras.models.Model(inputs=[user,movie], outputs=x)\n",
        "# model.compile(optimizer='sgd', loss=tf.keras.losses.SparseCategoricalCrossentropy(), metrics=[rmse])"
      ],
      "execution_count": 34,
      "outputs": []
    },
    {
      "cell_type": "code",
      "metadata": {
        "id": "5FrgfqeEqVT5"
      },
      "source": [
        "# reduce_lr = tf.keras.callbacks.ReduceLROnPlateau(monitor='val_loss', factor=0.75, patience=3, min_lr=0.000001, verbose=1)\n",
        "\n",
        "# history = model.fit(x = X_train_array, y = y_train, batch_size=128, epochs=5, verbose=1, validation_data=(X_test_array, y_test),shuffle=True,callbacks=[reduce_lr])"
      ],
      "execution_count": 38,
      "outputs": []
    },
    {
      "cell_type": "markdown",
      "metadata": {
        "id": "9jHej7UBmpZh"
      },
      "source": [
        "# Simple Model 2 & RMSE"
      ]
    },
    {
      "cell_type": "code",
      "metadata": {
        "id": "xeFpVGSTriTU"
      },
      "source": [
        "# clean the new data set:\n",
        "joined_dataset = pd.merge(ratings_dataset, movie_dataset, how='inner', on='movie id')\n",
        "joined_dataset = joined_dataset.groupby(by=['user id','movie title'], as_index=False).agg({\"rating\":\"mean\"})"
      ],
      "execution_count": 131,
      "outputs": []
    },
    {
      "cell_type": "code",
      "metadata": {
        "colab": {
          "base_uri": "https://localhost:8080/"
        },
        "id": "x1fpyErQmtq-",
        "outputId": "5c416f08-102a-4305-ed40-b80648ece0b8"
      },
      "source": [
        "# clean the data so that all necessary data is in one dataframe with accurate movie ids, instead of unordered numbers which is error prone.\n",
        "joined_dataset = pd.merge(ratings_dataset, movie_dataset, how='inner', on='movie id')\n",
        "\n",
        "# use a label encoder \n",
        "label_encoder = LabelEncoder()\n",
        "joined_dataset['user'] = label_encoder.fit_transform(joined_dataset['user id'].values)\n",
        "\n",
        "# get the number of users:\n",
        "n_users = joined_dataset['user'].nunique()\n",
        "\n",
        "# encode the items (helps unify):\n",
        "item_enc = LabelEncoder()\n",
        "joined_dataset['movie'] = item_enc.fit_transform(joined_dataset['movie title'].values)\n",
        "\n",
        "# find number of unique movies\n",
        "n_movies = joined_dataset['movie'].nunique()\n",
        "\n",
        "# make calclulations necessary for the model to run, and to output accurate order of movie recommendations:\n",
        "joined_dataset['rating'] = joined_dataset['rating'].values.astype(np.float32)\n",
        "min_rating = min(joined_dataset['rating'])\n",
        "max_rating = max(joined_dataset['rating'])\n",
        "n_users, n_movies, min_rating, max_rating"
      ],
      "execution_count": 132,
      "outputs": [
        {
          "output_type": "execute_result",
          "data": {
            "text/plain": [
              "(943, 1664, 1.0, 5.0)"
            ]
          },
          "metadata": {
            "tags": []
          },
          "execution_count": 132
        }
      ]
    },
    {
      "cell_type": "code",
      "metadata": {
        "id": "jH2l5Eyem7I6"
      },
      "source": [
        "# split the data set 80/20:\n",
        "X = joined_dataset[['user', 'movie']].values\n",
        "y = joined_dataset['rating'].values\n",
        "X_train, X_test, y_train, y_test = train_test_split(X, y, test_size=0.2, random_state=50)\n",
        "X_train.shape, X_test.shape, y_train.shape, y_test.shape\n",
        "\n",
        "# clean up split data:\n",
        "n_factors = 150\n",
        "X_train_array = [X_train[:, 0], X_train[:, 1]]\n",
        "X_test_array = [X_test[:, 0], X_test[:, 1]]\n",
        "X_train, X_train_array, X_train_array[0].shape\n",
        "y_train = (y_train - min_rating)/(max_rating - min_rating)\n",
        "y_test = (y_test - min_rating)/(max_rating - min_rating)"
      ],
      "execution_count": 133,
      "outputs": []
    },
    {
      "cell_type": "code",
      "metadata": {
        "id": "CMLRnylnm5eb"
      },
      "source": [
        "# create a rmse function to test the model using a rmse metric:\n",
        "def rmse(y_true, y_pred):\n",
        "  return backend.sqrt(backend.mean(backend.square(y_pred - y_true), axis=-1))"
      ],
      "execution_count": 134,
      "outputs": []
    },
    {
      "cell_type": "code",
      "metadata": {
        "id": "KfsGWXfEm9tZ"
      },
      "source": [
        "# create the model with the following features:\n",
        "user = tf.keras.layers.Input(shape = (1,))\n",
        "u = keras.layers.embeddings.Embedding(n_users, n_factors, embeddings_initializer = 'he_normal', embeddings_regularizer = tf.keras.regularizers.l2(1e-6))(user)\n",
        "u = tf.keras.layers.Reshape((n_factors,))(u)\n",
        "movie = tf.keras.layers.Input(shape = (1,))\n",
        "m = keras.layers.embeddings.Embedding(n_movies, n_factors, embeddings_initializer = 'he_normal', embeddings_regularizer=tf.keras.regularizers.l2(1e-6))(movie)\n",
        "m = tf.keras.layers.Reshape((n_factors,))(m)\n",
        "x = tf.keras.layers.Concatenate()([u,m])\n",
        "x = tf.keras.layers.Activation(activation='relu')(x)\n",
        "x = tf.keras.layers.Dropout(0.05)(x)\n",
        "x = tf.keras.layers.Dense(9)(x)\n",
        "x = tf.keras.layers.Activation(activation='softmax')(x)\n",
        "\n",
        "# instantiate the model, and use a custom rmse function implemented above to test the recommender system in accords with the requirement documentation:\n",
        "model = tf.keras.models.Model(inputs=[user,movie], outputs=x)\n",
        "model.compile(optimizer='sgd', loss=tf.keras.losses.SparseCategoricalCrossentropy(), metrics=[rmse])"
      ],
      "execution_count": 135,
      "outputs": []
    },
    {
      "cell_type": "code",
      "metadata": {
        "colab": {
          "base_uri": "https://localhost:8080/"
        },
        "id": "teklXjKTm_4R",
        "outputId": "1722ae0c-c724-43c6-c67f-bb6fab55b3f4"
      },
      "source": [
        "# running low epochs to not spam professor with output. RMSE is currently between 0.5 and 0.6 which is quite low, in consideration for extra credit.\n",
        "reduce_lr = tf.keras.callbacks.ReduceLROnPlateau(monitor='val_loss', factor=0.75, patience=3, min_lr=0.000001, verbose=1)\n",
        "history = model.fit(x = X_train_array, y = y_train, batch_size=128, epochs=5, verbose=1, validation_data=(X_test_array, y_test),shuffle=True,callbacks=[reduce_lr])"
      ],
      "execution_count": 136,
      "outputs": [
        {
          "output_type": "stream",
          "text": [
            "Epoch 1/5\n",
            "625/625 [==============================] - 4s 5ms/step - loss: 1.5785 - rmse: 0.5453 - val_loss: 0.8154 - val_rmse: 0.5788\n",
            "Epoch 2/5\n",
            "625/625 [==============================] - 4s 6ms/step - loss: 0.7635 - rmse: 0.5834 - val_loss: 0.6718 - val_rmse: 0.5926\n",
            "Epoch 3/5\n",
            "625/625 [==============================] - 4s 6ms/step - loss: 0.6552 - rmse: 0.5936 - val_loss: 0.6161 - val_rmse: 0.5960\n",
            "Epoch 4/5\n",
            "625/625 [==============================] - 3s 6ms/step - loss: 0.6083 - rmse: 0.5965 - val_loss: 0.5878 - val_rmse: 0.5977\n",
            "Epoch 5/5\n",
            "625/625 [==============================] - 3s 5ms/step - loss: 0.5845 - rmse: 0.5972 - val_loss: 0.5711 - val_rmse: 0.5988\n"
          ],
          "name": "stdout"
        }
      ]
    },
    {
      "cell_type": "code",
      "metadata": {
        "colab": {
          "base_uri": "https://localhost:8080/"
        },
        "id": "CXVT1kQN4kNW",
        "outputId": "9de46ff7-9e49-429b-8b63-b05172e36692"
      },
      "source": [
        "# get recommended movies for users:\n",
        "def get_k_rec_movies_for_a_user(user, k):\n",
        "  # get recommended movies for any user:\n",
        "  encoded_user_id = label_encoder.transform([user])\n",
        "\n",
        "  # to be able to predict which movies a given user would like, then we must know which movies has and has not seen:\n",
        "  seen_movies = list(joined_dataset[joined_dataset['user id'] == user]['movie'])\n",
        "  unseen_movies = [i for i in range(min(joined_dataset['movie']), max(joined_dataset['movie'])+1) if i not in seen_movies]\n",
        "\n",
        "  # this is what will be inputted into the model:\n",
        "  model_input = [np.asarray(list(encoded_user_id)*len(unseen_movies)), np.asarray(unseen_movies)]\n",
        "\n",
        "  # pass data through the DNN\n",
        "  predicted_ratings = model.predict(model_input)\n",
        "  predicted_ratings = np.max(predicted_ratings, axis=1)\n",
        "\n",
        "  # sort predictions to only get top movie suggestions:\n",
        "  sorted_index = np.argsort(predicted_ratings)[::-1]\n",
        "\n",
        "  # return k movie suggestions:\n",
        "  return item_enc.inverse_transform(sorted_index)[:k]\n",
        "\n",
        "# evaluate the function:\n",
        "print('user 1:', get_k_rec_movies_for_a_user(1, 5) )# get five movie suggestions for user 1.\n",
        "print('user 100:', get_k_rec_movies_for_a_user(100, 10) )# get ten movie suggestions for user 100."
      ],
      "execution_count": 137,
      "outputs": [
        {
          "output_type": "stream",
          "text": [
            "user 1: ['Pather Panchali (1955)' 'Pillow Book, The (1995)'\n",
            " 'Paris Is Burning (1990)' 'Nixon (1995)' 'Crossing Guard, The (1995)']\n",
            "user 100: ['Selena (1997)' 'Circle of Friends (1995)' 'Shooting Fish (1997)'\n",
            " 'Search for One-eye Jimmy, The (1996)'\n",
            " 'Rendezvous in Paris (Rendez-vous de Paris, Les) (1995)'\n",
            " 'Diabolique (1996)' 'North by Northwest (1959)' 'Michael Collins (1996)'\n",
            " '187 (1997)' 'Houseguest (1994)']\n"
          ],
          "name": "stdout"
        }
      ]
    },
    {
      "cell_type": "markdown",
      "metadata": {
        "id": "O5KtmdAp_QXz"
      },
      "source": [
        "# Hybrid Model"
      ]
    },
    {
      "cell_type": "code",
      "metadata": {
        "id": "Cjm52ilHCuxV"
      },
      "source": [
        "# in preparation for the hybrid model I will fist build a content based model using TF/IDF:\n",
        "\n",
        "# join useful info:\n",
        "content_df = pd.merge(movies.movies, movies.ratings, how='inner', on='item')\n",
        "\n",
        "# drop useless info:\n",
        "content_df.drop(columns=['timestamp'], inplace=True)  # Remove useless features\n",
        "\n",
        "# group data by user:\n",
        "group_by_user = content_df.groupby(['user'])\n",
        "\n",
        "# get all reviews per person:\n",
        "reviews_per_person = []\n",
        "for i, j in group_by_user:\n",
        "    reviews_per_person.append(j['rating'].values)  # Extract target feature (ratings) from sorted data"
      ],
      "execution_count": 138,
      "outputs": []
    },
    {
      "cell_type": "code",
      "metadata": {
        "colab": {
          "base_uri": "https://localhost:8080/",
          "height": 407
        },
        "id": "gKUOJHPcrlkJ",
        "outputId": "5372fe09-139f-4df0-c675-6102694a6f0b"
      },
      "source": [
        "# Creating a list of dataframes with the feature set (movie info about genres and release year), grouped by userID\n",
        "content_df.drop(columns=['rating'], inplace=True)\n",
        "x_grouped_by_user = content_df.groupby(['user'])\n",
        "\n",
        "x_train_listed = []\n",
        "for user_id, group in x_grouped_by_user:\n",
        "    x_train_listed.append(group.drop(columns='user'))\n",
        "    \n",
        "# The feature set for the first user\n",
        "x_train_listed[0]"
      ],
      "execution_count": 139,
      "outputs": [
        {
          "output_type": "execute_result",
          "data": {
            "text/html": [
              "<div>\n",
              "<style scoped>\n",
              "    .dataframe tbody tr th:only-of-type {\n",
              "        vertical-align: middle;\n",
              "    }\n",
              "\n",
              "    .dataframe tbody tr th {\n",
              "        vertical-align: top;\n",
              "    }\n",
              "\n",
              "    .dataframe thead th {\n",
              "        text-align: right;\n",
              "    }\n",
              "</style>\n",
              "<table border=\"1\" class=\"dataframe\">\n",
              "  <thead>\n",
              "    <tr style=\"text-align: right;\">\n",
              "      <th></th>\n",
              "      <th>item</th>\n",
              "      <th>title</th>\n",
              "      <th>genres</th>\n",
              "    </tr>\n",
              "  </thead>\n",
              "  <tbody>\n",
              "    <tr>\n",
              "      <th>0</th>\n",
              "      <td>1</td>\n",
              "      <td>Toy Story (1995)</td>\n",
              "      <td>Adventure|Animation|Children|Comedy|Fantasy</td>\n",
              "    </tr>\n",
              "    <tr>\n",
              "      <th>325</th>\n",
              "      <td>3</td>\n",
              "      <td>Grumpier Old Men (1995)</td>\n",
              "      <td>Comedy|Romance</td>\n",
              "    </tr>\n",
              "    <tr>\n",
              "      <th>433</th>\n",
              "      <td>6</td>\n",
              "      <td>Heat (1995)</td>\n",
              "      <td>Action|Crime|Thriller</td>\n",
              "    </tr>\n",
              "    <tr>\n",
              "      <th>2107</th>\n",
              "      <td>47</td>\n",
              "      <td>Seven (a.k.a. Se7en) (1995)</td>\n",
              "      <td>Mystery|Thriller</td>\n",
              "    </tr>\n",
              "    <tr>\n",
              "      <th>2379</th>\n",
              "      <td>50</td>\n",
              "      <td>Usual Suspects, The (1995)</td>\n",
              "      <td>Crime|Mystery|Thriller</td>\n",
              "    </tr>\n",
              "    <tr>\n",
              "      <th>...</th>\n",
              "      <td>...</td>\n",
              "      <td>...</td>\n",
              "      <td>...</td>\n",
              "    </tr>\n",
              "    <tr>\n",
              "      <th>56816</th>\n",
              "      <td>3744</td>\n",
              "      <td>Shaft (2000)</td>\n",
              "      <td>Action|Crime|Thriller</td>\n",
              "    </tr>\n",
              "    <tr>\n",
              "      <th>57276</th>\n",
              "      <td>3793</td>\n",
              "      <td>X-Men (2000)</td>\n",
              "      <td>Action|Adventure|Sci-Fi</td>\n",
              "    </tr>\n",
              "    <tr>\n",
              "      <th>57457</th>\n",
              "      <td>3809</td>\n",
              "      <td>What About Bob? (1991)</td>\n",
              "      <td>Comedy</td>\n",
              "    </tr>\n",
              "    <tr>\n",
              "      <th>59170</th>\n",
              "      <td>4006</td>\n",
              "      <td>Transformers: The Movie (1986)</td>\n",
              "      <td>Adventure|Animation|Children|Sci-Fi</td>\n",
              "    </tr>\n",
              "    <tr>\n",
              "      <th>65533</th>\n",
              "      <td>5060</td>\n",
              "      <td>M*A*S*H (a.k.a. MASH) (1970)</td>\n",
              "      <td>Comedy|Drama|War</td>\n",
              "    </tr>\n",
              "  </tbody>\n",
              "</table>\n",
              "<p>232 rows × 3 columns</p>\n",
              "</div>"
            ],
            "text/plain": [
              "       item  ...                                       genres\n",
              "0         1  ...  Adventure|Animation|Children|Comedy|Fantasy\n",
              "325       3  ...                               Comedy|Romance\n",
              "433       6  ...                        Action|Crime|Thriller\n",
              "2107     47  ...                             Mystery|Thriller\n",
              "2379     50  ...                       Crime|Mystery|Thriller\n",
              "...     ...  ...                                          ...\n",
              "56816  3744  ...                        Action|Crime|Thriller\n",
              "57276  3793  ...                      Action|Adventure|Sci-Fi\n",
              "57457  3809  ...                                       Comedy\n",
              "59170  4006  ...          Adventure|Animation|Children|Sci-Fi\n",
              "65533  5060  ...                             Comedy|Drama|War\n",
              "\n",
              "[232 rows x 3 columns]"
            ]
          },
          "metadata": {
            "tags": []
          },
          "execution_count": 139
        }
      ]
    },
    {
      "cell_type": "code",
      "metadata": {
        "colab": {
          "base_uri": "https://localhost:8080/"
        },
        "id": "pYQeuNe7Pf7k",
        "outputId": "626875a4-b49f-4a07-ee91-335dfff4982e"
      },
      "source": [
        "# use tf/idf on movie genres:\n",
        "tfidf = TfidfVectorizer(analyzer=lambda s: (c for i in range(1,4) for c in combinations(s.split('|'), r=i)))\n",
        "tfidf_matrix = tfidf.fit_transform(movies.movies['genres'])\n",
        "\n",
        "# find cosine similarity to be able to compare scores and flatten from matrix:\n",
        "cosine_sim = cosine_similarity(tfidf_matrix)\n",
        "\n",
        "# transform cosine similarity to a pd dataframe for similarity:\n",
        "cosine_sim_df = pd.DataFrame(cosine_sim, columns = movies.movies['title'].values)\n",
        "\n",
        "def genre_recommendations(i, M, items, k):\n",
        "  ix = M.loc[:,i].to_numpy().argpartition(range(-1,-k,-1))\n",
        "  closest = M.columns[ix[-1:-(k+2):-1]]\n",
        "  closest = closest.drop(i, errors='ignore')\n",
        "  return pd.DataFrame(closest)\n",
        "\n",
        "# Evaluate TF/IDF:\n",
        "print(genre_recommendations('Toy Story (1995)', cosine_sim_df, movies.movies[['title', 'genres']], 100) )"
      ],
      "execution_count": 167,
      "outputs": [
        {
          "output_type": "stream",
          "text": [
            "                                                    0\n",
            "0                                        Moana (2016)\n",
            "1   Asterix and the Vikings (Astérix et les Viking...\n",
            "2                              Shrek the Third (2007)\n",
            "3                            The Good Dinosaur (2015)\n",
            "4                                  Toy Story 2 (1999)\n",
            "..                                                ...\n",
            "95                                      Robots (2005)\n",
            "96  Spirited Away (Sen to Chihiro no kamikakushi) ...\n",
            "97                                        Epic (2013)\n",
            "98                 South Park: Imaginationland (2008)\n",
            "99                                   Anomalisa (2015)\n",
            "\n",
            "[100 rows x 1 columns]\n"
          ],
          "name": "stdout"
        }
      ]
    },
    {
      "cell_type": "code",
      "metadata": {
        "colab": {
          "base_uri": "https://localhost:8080/"
        },
        "id": "8ZxfJvU6G_7q",
        "outputId": "365233b1-61ef-49af-e3c2-4ac66fa55cee"
      },
      "source": [
        "# get movies from the simple model and stack the content based model on top:\n",
        "def hybrid(user, sim_movie, k_movies):\n",
        "\n",
        "  # get all movie suggestions\n",
        "  collab_model = get_k_rec_movies_for_a_user(1, 9000) \n",
        "  # collab_model = collab_model.split('\\n')\n",
        "\n",
        "  # filter movies to get similar movie the person wants: content based requires genre specification for my model:\n",
        "  genre_recs = genre_recommendations(sim_movie, cosine_sim_df, movies.movies[['title', 'genres']], 3*k_movies)[0]\n",
        "\n",
        "  # add content based recs to a dictionary:\n",
        "  content_based_recs = {}\n",
        "  for movie in genre_recs:\n",
        "    content_based_recs[movie] = 1\n",
        "\n",
        "  # combine both together:\n",
        "  combiner = []\n",
        "  for i in range(len(collab_model)):\n",
        "    if len(combiner) < k_movies:\n",
        "      if collab_model[i] == genre_recs[i]:\n",
        "        combiner.append(collab_model[i])\n",
        "      elif genre_recs[i] != collab_model[i]:\n",
        "        combiner.append(collab_model[i])\n",
        "        combiner.append(genre_recs[i])\n",
        "  return combiner\n",
        "\n",
        "# evaluta hybrid model:\n",
        "hybrid_result = (hybrid(1, 'Shrek the Third (2007)', 4))\n",
        "\n",
        "history = model.fit(x = X_train_array, y = y_train, batch_size=128, epochs=8, verbose=1, validation_data=(X_test_array, y_test),shuffle=True,callbacks=[reduce_lr])\n",
        "\n",
        "print(hybrid_result)"
      ],
      "execution_count": 168,
      "outputs": [
        {
          "output_type": "stream",
          "text": [
            "Epoch 1/8\n",
            "625/625 [==============================] - 3s 5ms/step - loss: 0.4725 - rmse: 0.6059 - val_loss: 0.4754 - val_rmse: 0.6057\n",
            "Epoch 2/8\n",
            "625/625 [==============================] - 3s 5ms/step - loss: 0.4710 - rmse: 0.6058 - val_loss: 0.4740 - val_rmse: 0.6059\n",
            "Epoch 3/8\n",
            "625/625 [==============================] - 3s 5ms/step - loss: 0.4695 - rmse: 0.6058 - val_loss: 0.4726 - val_rmse: 0.6062\n",
            "Epoch 4/8\n",
            "625/625 [==============================] - 3s 5ms/step - loss: 0.4680 - rmse: 0.6061 - val_loss: 0.4713 - val_rmse: 0.6062\n",
            "Epoch 5/8\n",
            "625/625 [==============================] - 3s 5ms/step - loss: 0.4665 - rmse: 0.6063 - val_loss: 0.4700 - val_rmse: 0.6061\n",
            "Epoch 6/8\n",
            "625/625 [==============================] - 3s 5ms/step - loss: 0.4651 - rmse: 0.6062 - val_loss: 0.4687 - val_rmse: 0.6064\n",
            "Epoch 7/8\n",
            "625/625 [==============================] - 3s 5ms/step - loss: 0.4638 - rmse: 0.6065 - val_loss: 0.4675 - val_rmse: 0.6064\n",
            "Epoch 8/8\n",
            "625/625 [==============================] - 3s 5ms/step - loss: 0.4623 - rmse: 0.6065 - val_loss: 0.4662 - val_rmse: 0.6066\n",
            "[\"I Can't Sleep (J'ai pas sommeil) (1994)\", 'Toy Story (1995)', 'Blown Away (1994)', 'Tale of Despereaux, The (2008)']\n"
          ],
          "name": "stdout"
        }
      ]
    }
  ]
}