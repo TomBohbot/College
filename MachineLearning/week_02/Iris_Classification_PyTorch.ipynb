{
  "nbformat": 4,
  "nbformat_minor": 0,
  "metadata": {
    "colab": {
      "name": "Iris_Classification_PyTorch.ipynb",
      "provenance": [],
      "collapsed_sections": []
    },
    "kernelspec": {
      "name": "python3",
      "display_name": "Python 3"
    }
  },
  "cells": [
    {
      "cell_type": "code",
      "metadata": {
        "id": "3CpvVfMFxbuE"
      },
      "source": [
        "# https://veeravignesh1.github.io/post/classification-with-iris-data/\n",
        "# Inspired by above website: @author Tom Bohbot\n",
        "\n",
        "import torch\n",
        "import torch.nn as nn\n",
        "import torch.nn.functional as F\n",
        "import matplotlib.pyplot as plt\n",
        "import numpy as np\n",
        "\n",
        "import pandas as pd\n",
        "from sklearn import datasets\n",
        "from sklearn.model_selection import train_test_split\n",
        "from torch.utils.data import TensorDataset, DataLoader"
      ],
      "execution_count": 202,
      "outputs": []
    },
    {
      "cell_type": "code",
      "metadata": {
        "id": "AgcKGvrrxm9p"
      },
      "source": [
        "# Load the dataset:\n",
        "iris_l = datasets.load_iris()"
      ],
      "execution_count": 203,
      "outputs": []
    },
    {
      "cell_type": "code",
      "metadata": {
        "id": "MKBJcrodx7j8"
      },
      "source": [
        "# Add only 2 characteristics to the dataset, check target == 0 so that it is either a setosa or not a setosa. \n",
        "requiredData = {'petal length':iris_l.data[:, 2], 'sepal width': iris_l.data[:, 1], 'target':iris_l.target==0}\n",
        "df = pd.DataFrame(data = requiredData)"
      ],
      "execution_count": 204,
      "outputs": []
    },
    {
      "cell_type": "code",
      "metadata": {
        "id": "t9dNJZDqyue_"
      },
      "source": [
        "# Split the data into 3 random groups so it can be better tested:\n",
        "features = df.drop('target',axis=1).values\n",
        "target = df.target.values\n",
        "iris = TensorDataset(torch.FloatTensor(features),torch.LongTensor(target))\n",
        "iris_loader = DataLoader(iris,batch_size=50,shuffle = True)"
      ],
      "execution_count": 206,
      "outputs": []
    },
    {
      "cell_type": "markdown",
      "metadata": {
        "id": "DZ_-u41Z7zyy"
      },
      "source": [
        ""
      ]
    },
    {
      "cell_type": "code",
      "metadata": {
        "id": "sW-ZPpdX2eQd"
      },
      "source": [
        "# Create a class to model each set of 50 data points:\n",
        "class Model(nn.Module):\n",
        "    \n",
        "    def __init__(self,in_features=2,h1=6,h2=3,out_features=3):\n",
        "        super().__init__()\n",
        "        self.fc1 = nn.Linear(in_features,h1)\n",
        "        self.fc2 = nn.Linear(h1,h2)\n",
        "        self.out = nn.Linear(h2,out_features)\n",
        "    \n",
        "    def forward(self,x):\n",
        "        x = F.relu(self.fc1(x))\n",
        "        x = F.relu(self.fc2(x))\n",
        "        x = self.out(x)\n",
        "        return x"
      ],
      "execution_count": 207,
      "outputs": []
    },
    {
      "cell_type": "code",
      "metadata": {
        "id": "yYq5FRWG2ngJ"
      },
      "source": [
        "mode1 = Model()"
      ],
      "execution_count": 208,
      "outputs": []
    },
    {
      "cell_type": "markdown",
      "metadata": {
        "id": "4RuNDUFhDMRl"
      },
      "source": [
        ""
      ]
    },
    {
      "cell_type": "code",
      "metadata": {
        "id": "2BSIUtHi34is"
      },
      "source": [
        "features = torch.FloatTensor(features)\n",
        "target = torch.LongTensor(target)\n",
        "X_train, X_test, y_train, y_test=train_test_split(features,target,random_state=59,test_size=0.2)"
      ],
      "execution_count": 215,
      "outputs": []
    },
    {
      "cell_type": "code",
      "metadata": {
        "colab": {
          "base_uri": "https://localhost:8080/"
        },
        "id": "P4TXjnCH4Ade",
        "outputId": "042e7b5b-fce3-4f6b-84ff-04d9a502b4f5"
      },
      "source": [
        "# Classification problem => Evaluated based on Cross Entropy Loss\n",
        "criterion = nn.CrossEntropyLoss()\n",
        "\n",
        "#Optimizer\n",
        "optimizer = torch.optim.Adam(mode1.parameters(),lr=0.01)\n",
        "\n",
        "#Epochs\n",
        "epochs = 200\n",
        "losses = []\n",
        "\n",
        "for i in range(epochs):\n",
        "    \n",
        "    ypred = mode1.forward(X_train)\n",
        "    \n",
        "    loss = criterion(ypred,y_train)\n",
        "    #Keeping track of loss\n",
        "    losses.append(loss.item())\n",
        "\n",
        "    if i%10==0:\n",
        "        print(f'Epoch:{i},loss:{loss:.2f}')\n",
        "        \n",
        "    #Backpropagation\n",
        "    optimizer.zero_grad()\n",
        "    loss.backward()\n",
        "    optimizer.step()"
      ],
      "execution_count": 216,
      "outputs": [
        {
          "output_type": "stream",
          "text": [
            "Epoch:0,loss:0.09\n",
            "Epoch:10,loss:0.08\n",
            "Epoch:20,loss:0.06\n",
            "Epoch:30,loss:0.05\n",
            "Epoch:40,loss:0.05\n",
            "Epoch:50,loss:0.04\n",
            "Epoch:60,loss:0.03\n",
            "Epoch:70,loss:0.03\n",
            "Epoch:80,loss:0.03\n",
            "Epoch:90,loss:0.02\n",
            "Epoch:100,loss:0.02\n",
            "Epoch:110,loss:0.02\n",
            "Epoch:120,loss:0.02\n",
            "Epoch:130,loss:0.02\n",
            "Epoch:140,loss:0.02\n",
            "Epoch:150,loss:0.01\n",
            "Epoch:160,loss:0.01\n",
            "Epoch:170,loss:0.01\n",
            "Epoch:180,loss:0.01\n",
            "Epoch:190,loss:0.01\n"
          ],
          "name": "stdout"
        }
      ]
    },
    {
      "cell_type": "code",
      "metadata": {
        "colab": {
          "base_uri": "https://localhost:8080/",
          "height": 265
        },
        "id": "c3Hmt71k4JyC",
        "outputId": "93afe434-78ac-4c08-ee2f-cee1bae30d11"
      },
      "source": [
        "# Plot the data:\n",
        "plt.plot(range(epochs),losses)\n",
        "plt.show()"
      ],
      "execution_count": 217,
      "outputs": [
        {
          "output_type": "display_data",
          "data": {
            "image/png": "[encoded data removed]",
            "text/plain": [
              "<Figure size 432x288 with 1 Axes>"
            ]
          },
          "metadata": {
            "tags": [],
            "needs_background": "light"
          }
        }
      ]
    },
    {
      "cell_type": "code",
      "metadata": {
        "id": "p9mCf9CR4NRE"
      },
      "source": [
        "# Set up enviroment to predict unseen data:\n",
        "with torch.no_grad():\n",
        "    yval = mode1.forward(X_test)\n",
        "    loss=criterion(yval,y_test)"
      ],
      "execution_count": 218,
      "outputs": []
    },
    {
      "cell_type": "code",
      "metadata": {
        "colab": {
          "base_uri": "https://localhost:8080/"
        },
        "id": "3xeJZEVE4TnC",
        "outputId": "4dea2269-2e9d-4e5c-fef9-2baf21ee3add"
      },
      "source": [
        "# Test the unseen data, with results side by side:\n",
        "correct =0\n",
        "for i,data in enumerate(X_test):\n",
        "    yval = mode1.forward(data)\n",
        "    \n",
        "    print(f\"Predicted:{yval.argmax()} Actual:{y_test[i]}\")\n",
        "    if yval.argmax().item()== y_test[i]:\n",
        "        correct+=1\n",
        "    \n",
        "print(f\"We got {correct} Correct! out of {len(X_test)}\")"
      ],
      "execution_count": 219,
      "outputs": [
        {
          "output_type": "stream",
          "text": [
            "Predicted:0 Actual:0\n",
            "Predicted:1 Actual:1\n",
            "Predicted:0 Actual:0\n",
            "Predicted:0 Actual:0\n",
            "Predicted:0 Actual:0\n",
            "Predicted:0 Actual:0\n",
            "Predicted:0 Actual:0\n",
            "Predicted:1 Actual:1\n",
            "Predicted:0 Actual:0\n",
            "Predicted:0 Actual:0\n",
            "Predicted:0 Actual:0\n",
            "Predicted:0 Actual:0\n",
            "Predicted:0 Actual:0\n",
            "Predicted:1 Actual:1\n",
            "Predicted:1 Actual:1\n",
            "Predicted:1 Actual:1\n",
            "Predicted:0 Actual:0\n",
            "Predicted:0 Actual:0\n",
            "Predicted:1 Actual:1\n",
            "Predicted:0 Actual:0\n",
            "Predicted:0 Actual:0\n",
            "Predicted:0 Actual:0\n",
            "Predicted:0 Actual:0\n",
            "Predicted:0 Actual:0\n",
            "Predicted:0 Actual:0\n",
            "Predicted:0 Actual:0\n",
            "Predicted:0 Actual:0\n",
            "Predicted:1 Actual:1\n",
            "Predicted:1 Actual:1\n",
            "Predicted:1 Actual:1\n",
            "We got 30 Correct! out of 30\n"
          ],
          "name": "stdout"
        }
      ]
    }
  ]
}