{
  "nbformat": 4,
  "nbformat_minor": 0,
  "metadata": {
    "colab": {
      "name": "GradientDescent.py",
      "provenance": [],
      "collapsed_sections": []
    },
    "kernelspec": {
      "name": "python3",
      "display_name": "Python 3"
    }
  },
  "cells": [
    {
      "cell_type": "code",
      "metadata": {
        "id": "ECPww6-f6uJo"
      },
      "source": [
        "# Code derived from http://saitcelebi.com/tut/output/part1.html#applying_gradient_descent\n",
        "# @author Tom Bohbot\n",
        "from sklearn import datasets\n",
        "import numpy as np\n",
        "import matplotlib.pyplot as plt"
      ],
      "execution_count": 96,
      "outputs": []
    },
    {
      "cell_type": "code",
      "metadata": {
        "id": "27gGvsw66w5e"
      },
      "source": [
        "# Given helper methods, global variables, and lambdas:\n",
        "LEARNING_RATE = 2.0\n",
        "NUM_EPOCHS = 140\n",
        "\n",
        "sigmoid = lambda x: 1/(1+np.exp(-x))\n",
        "\n",
        "def get_loss(y, a):\n",
        "  return -1 * (y * np.log(a) + (1-y) * np.log(1-a))\n",
        "\n",
        "def get_loss_numerically_stable(y, z):\n",
        "   return -1 * (y * -1 * np.log(1 + np.exp(-z)) + (1-y) * (-z - np.log(1 + np.exp(-z))))"
      ],
      "execution_count": 97,
      "outputs": []
    },
    {
      "cell_type": "code",
      "metadata": {
        "id": "UBuS26X260kz"
      },
      "source": [
        "# Given Gradient Descent Method\n",
        "def grad_descent(dataset):\n",
        "  X = dataset[0]\n",
        "  y = dataset[1]\n",
        "  # Rest of code is original\n",
        "  w_cache = []\n",
        "  b_cache = []\n",
        "  l_cache = []\n",
        "\n",
        "  # some nice initial value, so that the plot looks nice.\n",
        "  w = np.array([-10.0, 150.0])\n",
        "  b = 0.0\n",
        "\n",
        "  for i in range(NUM_EPOCHS):\n",
        "    dw = np.zeros(w.shape)\n",
        "    db = 0.0\n",
        "    loss = 0.0\n",
        "\n",
        "    for j in range(X.shape[0]):\n",
        "      x_j = X[j,:]\n",
        "      y_j = y[j]\n",
        "\n",
        "      z_j = w.dot(x_j) + b\n",
        "      a_j = sigmoid(z_j)\n",
        "\n",
        "      loss_j = get_loss_numerically_stable(y_j, z_j)\n",
        "\n",
        "      dw_j = x_j * (a_j-y_j)\n",
        "      db_j = a_j - y_j\n",
        "\n",
        "      dw += dw_j\n",
        "      db += db_j\n",
        "      loss += loss_j\n",
        "\n",
        "    # I altered the \"17\" issue through finding real size of data!\n",
        "    datasize = len(y)\n",
        "    dw = (1.0/datasize) * dw\n",
        "    db = (1.0/datasize) * db\n",
        "    loss = (1.0/datasize) * loss\n",
        "\n",
        "    w -= LEARNING_RATE * dw\n",
        "    b -= LEARNING_RATE * db\n",
        "\n",
        "    w_cache.append(w.copy())\n",
        "    b_cache.append(b)\n",
        "    l_cache.append(loss)\n",
        "\n",
        "  plt.grid()\n",
        "  plt.title('Loss', size=18)\n",
        "  plt.xlabel('Number of iterations', size=15)\n",
        "  plt.ylabel('Loss', size=15)\n",
        "  plt.plot(l_cache)\n",
        "  plt.show() #added this line of code"
      ],
      "execution_count": 98,
      "outputs": []
    },
    {
      "cell_type": "code",
      "metadata": {
        "id": "Wnq80_3i68C4"
      },
      "source": [
        "# Get the Iris Data Set:\n",
        "def iris_dataset():\n",
        "  iris = datasets.load_iris()\n",
        "  X = np.array(iris.data[:,:2] )\n",
        "  y = np.array(iris.target)\n",
        "  for i in range (len(y)):\n",
        "    if y[i] != 0:\n",
        "      y[i] = 1\n",
        "    else:\n",
        "      y[i] = 0\n",
        "  return [X,y]"
      ],
      "execution_count": 99,
      "outputs": []
    },
    {
      "cell_type": "code",
      "metadata": {
        "colab": {
          "base_uri": "https://localhost:8080/",
          "height": 304
        },
        "id": "plJXptTi6-SZ",
        "outputId": "1cfe81e1-c38a-47a5-d097-9f281670934f"
      },
      "source": [
        "# Plot the iris data set:\n",
        "grad_descent(iris_dataset() )"
      ],
      "execution_count": 100,
      "outputs": [
        {
          "output_type": "display_data",
          "data": {
            "image/png": "[encoded data removed]",
            "text/plain": [
              "<Figure size 432x288 with 1 Axes>"
            ]
          },
          "metadata": {
            "tags": [],
            "needs_background": "light"
          }
        }
      ]
    }
  ]
}