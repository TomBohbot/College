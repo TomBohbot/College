{
  "nbformat": 4,
  "nbformat_minor": 0,
  "metadata": {
    "colab": {
      "name": "recommendor_system.ipynb",
      "provenance": [],
      "collapsed_sections": []
    },
    "kernelspec": {
      "name": "python3",
      "display_name": "Python 3"
    },
    "language_info": {
      "name": "python"
    }
  },
  "cells": [
    {
      "cell_type": "code",
      "metadata": {
        "id": "QdpBEdghq9cU"
      },
      "source": [
        "# Necessary import statements:\n",
        "import pandas as pd\n",
        "import numpy as np\n",
        "from sklearn.model_selection import train_test_split\n",
        "from sklearn.metrics.pairwise import pairwise_distances  "
      ],
      "execution_count": 81,
      "outputs": []
    },
    {
      "cell_type": "code",
      "metadata": {
        "colab": {
          "base_uri": "https://localhost:8080/"
        },
        "id": "-LlTe3MErD9-",
        "outputId": "5141dd6b-a328-49e0-d7c7-5ffca4d0e505"
      },
      "source": [
        "# Download dataset:\n",
        "df = pd.read_csv(\"http://files.grouplens.org/datasets/movielens/ml-100k/u1.base\",sep='\\t',header=None, names=[\"userId\", \"movieId\", \"rating\", \"timestamp\"])\n",
        "\n",
        "# printdf.head()\n",
        "print(\"shape\", df.shape)"
      ],
      "execution_count": 82,
      "outputs": [
        {
          "output_type": "stream",
          "text": [
            "shape (80000, 4)\n"
          ],
          "name": "stdout"
        }
      ]
    },
    {
      "cell_type": "markdown",
      "metadata": {
        "id": "-4Vo8tIgRqJl"
      },
      "source": [
        "# Build a user to user similarity model"
      ]
    },
    {
      "cell_type": "code",
      "metadata": {
        "colab": {
          "base_uri": "https://localhost:8080/"
        },
        "id": "nbZEOaUtRvvw",
        "outputId": "4f8bc190-fc53-49dc-d912-13e08cf507c5"
      },
      "source": [
        "# find how many unique users and movies there are:\n",
        "n_users = df.userId.unique().shape[0]\n",
        "n_items = df.movieId.unique().shape[0]\n",
        "\n",
        "print(\"unique users:\", n_users)\n",
        "print(\"unique movies:\", n_items)"
      ],
      "execution_count": 83,
      "outputs": [
        {
          "output_type": "stream",
          "text": [
            "unique users: 943\n",
            "unique movies: 1650\n"
          ],
          "name": "stdout"
        }
      ]
    },
    {
      "cell_type": "code",
      "metadata": {
        "id": "q9R4VQvEie7J"
      },
      "source": [
        "# train-test split the data:\n",
        "train, test = train_test_split(df, test_size=0.20)"
      ],
      "execution_count": 85,
      "outputs": []
    },
    {
      "cell_type": "code",
      "metadata": {
        "id": "2eFlsgbzSvMr"
      },
      "source": [
        "# calculate similarity between users and items:\n",
        "train_matrix = np.zeros((n_users, n_items))\n",
        "for line in train.itertuples():\n",
        "  if line[2] > 1650:\n",
        "    continue\n",
        "  train_data_matrix[line[1]-1, line[2]-1] = line[3]\n",
        "\n",
        "user_similarity = pairwise_distances(data_matrix, metric='cosine')\n",
        "item_similarity = pairwise_distances(data_matrix.T, metric='cosine')"
      ],
      "execution_count": 86,
      "outputs": []
    },
    {
      "cell_type": "code",
      "metadata": {
        "id": "KV4tfdCdlFTg"
      },
      "source": [
        "def predict(ratings, similarity, type):\n",
        "    if type == 'user':\n",
        "        mean_user_rating = ratings.mean(axis=1)\n",
        "        #We use np.newaxis so that mean_user_rating has same format as ratings\n",
        "        ratings_diff = (ratings - mean_user_rating[:, np.newaxis])\n",
        "        pred = mean_user_rating[:, np.newaxis] + similarity.dot(ratings_diff) / np.array([np.abs(similarity).sum(axis=1)]).T\n",
        "    elif type == 'item':\n",
        "        pred = ratings.dot(similarity) / np.array([np.abs(similarity).sum(axis=1)])\n",
        "    return pred"
      ],
      "execution_count": 87,
      "outputs": []
    },
    {
      "cell_type": "code",
      "metadata": {
        "id": "JoBOXYpnZSCp"
      },
      "source": [
        "# make predictions:\n",
        "user_prediction = predict(train_matrix, user_similarity, type='user')\n",
        "item_prediction = predict(train_matrix, item_similarity, type='item')"
      ],
      "execution_count": 88,
      "outputs": []
    },
    {
      "cell_type": "code",
      "metadata": {
        "id": "fOAZp9cTmaYd"
      },
      "source": [
        "# Test the accuracy using an RMSE since the project will be assesed the same way:\n",
        "# Not required for this hw"
      ],
      "execution_count": 89,
      "outputs": []
    }
  ]
}